{
 "cells": [
  {
   "cell_type": "markdown",
   "metadata": {},
   "source": [
    "Estancia de Investigación Dr. Pastor CIMAT Guanajuato\n",
    "Junio 2019\n",
    "\n",
    "Hairo Ulises Miranda Belmonte Cimat Monterrey\n",
    "\n",
    "hairo.miranda@cimat.mx\n",
    "\n",
    "Cimat Gto."
   ]
  },
  {
   "cell_type": "markdown",
   "metadata": {},
   "source": [
    "# CNN NLP"
   ]
  },
  {
   "cell_type": "markdown",
   "metadata": {},
   "source": [
    "* Librerias"
   ]
  },
  {
   "cell_type": "code",
   "execution_count": 1,
   "metadata": {},
   "outputs": [],
   "source": [
    "import numpy as np \n",
    "import pandas as pd \n",
    "import re # lidia con expresiones regulares\n",
    "import nltk\n",
    "import matplotlib.pyplot as plt   \n",
    "from nltk.corpus import stopwords \n",
    "from sklearn.feature_extraction.text import CountVectorizer\n",
    "from nltk import word_tokenize # sentencia en palabras\n",
    "from nltk.stem import SnowballStemmer # idioma steam\n",
    "from nltk.stem.porter import PorterStemmer\n",
    "from nltk.stem import WordNetLemmatizer\n",
    "from sklearn.ensemble import RandomForestClassifier\n",
    "from sklearn.feature_extraction.text import TfidfVectorizer\n",
    "from sklearn import feature_extraction, model_selection, naive_bayes, metrics, svm\n",
    "\n",
    "\n",
    "\n",
    "from sklearn.model_selection import train_test_split\n",
    "from sklearn.feature_extraction.text import TfidfVectorizer\n",
    "# Any results you write to the current directory are saved as output.\n",
    "from sklearn.naive_bayes import GaussianNB\n",
    "from sklearn.metrics import accuracy_score \n"
   ]
  },
  {
   "cell_type": "code",
   "execution_count": 2,
   "metadata": {},
   "outputs": [
    {
     "name": "stderr",
     "output_type": "stream",
     "text": [
      "Using TensorFlow backend.\n"
     ]
    }
   ],
   "source": [
    "import numpy as np\n",
    "import pylab as pl\n",
    "from IPython.display import SVG\n",
    "from os.path import join, exists, split\n",
    "import os\n",
    "\n",
    "from gensim.models import word2vec, KeyedVectors\n",
    "\n",
    "\n",
    "from keras.models import Sequential, Model\n",
    "from keras.layers import Dense, Dropout, Flatten, Input, MaxPooling1D, Convolution1D, Embedding, GlobalMaxPooling1D\n",
    "from keras.layers.merge import Concatenate\n",
    "from keras.datasets import imdb\n",
    "from keras.preprocessing import sequence\n",
    "from keras.utils.vis_utils import model_to_dot\n",
    "\n",
    "%matplotlib inline"
   ]
  },
  {
   "cell_type": "code",
   "execution_count": 3,
   "metadata": {},
   "outputs": [],
   "source": [
    "import os\n",
    "import time\n",
    "import numpy as np # linear algebra\n",
    "import pandas as pd # data processing, CSV file I/O (e.g. pd.read_csv)\n",
    "\n",
    "import math\n",
    "\n",
    "from sklearn.metrics import roc_curve, auc,  f1_score\n",
    "from sklearn.model_selection import train_test_split\n",
    "\n",
    "import matplotlib.pyplot as plt\n",
    "import keras\n",
    "from sklearn import metrics\n",
    "from keras.layers import Input, Embedding, Dense, Conv2D, MaxPool2D, Reshape, Flatten, Concatenate, Dropout, SpatialDropout1D, BatchNormalization, LSTM, Embedding, Dropout, Activation, CuDNNGRU, Conv1D,CuDNNLSTM\n",
    "from keras.preprocessing.text import Tokenizer\n",
    "from keras.preprocessing.sequence import pad_sequences\n",
    "from keras.layers import Bidirectional, GlobalMaxPool1D, TimeDistributed\n",
    "from keras.models import Model\n",
    "from keras import initializers, regularizers, constraints, optimizers, layers"
   ]
  },
  {
   "cell_type": "markdown",
   "metadata": {},
   "source": [
    "* Funciones pre-procesamiento"
   ]
  },
  {
   "cell_type": "code",
   "execution_count": 4,
   "metadata": {},
   "outputs": [],
   "source": [
    "# con stemming\n",
    "def review_to_words( raw_review ):\n",
    "    # 1. Remover todo menos letras y comas        \n",
    "    letters_only = re.sub('[^\\w]\\d*',  \" \", raw_review) \n",
    "    # 2. convertir a mínusculas\n",
    "    words = letters_only.lower().split()                             \n",
    "    # 3. remover stopwords\n",
    "    stops = set(stopwords.words(\"spanish\"))                  \n",
    "    # 3.1 retirando stopwords\n",
    "    meaningful_words = [w for w in words if not w in stops]   \n",
    "    # 4 stemming en español\n",
    "    stemmer = SnowballStemmer('spanish')\n",
    "    stemmed_text = [stemmer.stem(i) for i in meaningful_words]\n",
    "    # 5. uniendo documeto\n",
    "    return( \" \".join( stemmed_text ))  \n",
    "# sin stemming\n",
    "def review_to_words2( raw_review ):\n",
    "    # 1. Remover todo menos letras y comas       \n",
    "    letters_only = re.sub('[^\\w]\\d*',  \" \", raw_review) \n",
    "    # 2. convertir a mínusculas\n",
    "    words = letters_only.lower().split()                             \n",
    "    # 3. remover stopwords\n",
    "    stops = set(stopwords.words(\"spanish\"))                  \n",
    "    # 3.1 retirando stopwords\n",
    "    meaningful_words = [w for w in words if not w in stops]   \n",
    "    return( \" \".join( meaningful_words )) "
   ]
  },
  {
   "cell_type": "markdown",
   "metadata": {},
   "source": [
    "* Función W2Vec average"
   ]
  },
  {
   "cell_type": "markdown",
   "metadata": {},
   "source": [
    "### Word2Vec Google"
   ]
  },
  {
   "cell_type": "code",
   "execution_count": 5,
   "metadata": {},
   "outputs": [],
   "source": [
    "import gensim\n",
    "from gensim.models import word2vec, KeyedVectors\n",
    "\n",
    "\n",
    "from keras.models import Sequential, Model\n",
    "from keras.layers import Dense, Dropout, Flatten, Input, MaxPooling1D, Convolution1D, Embedding, GlobalMaxPooling1D\n",
    "from keras.layers.merge import Concatenate\n",
    "from keras.datasets import imdb\n",
    "from keras.preprocessing import sequence\n",
    "from keras.utils.vis_utils import model_to_dot\n",
    "\n",
    "%matplotlib inline"
   ]
  },
  {
   "cell_type": "code",
   "execution_count": 6,
   "metadata": {},
   "outputs": [
    {
     "name": "stderr",
     "output_type": "stream",
     "text": [
      "C:\\Users\\h_air\\Anaconda3\\envs\\tensorflow-gpu\\lib\\site-packages\\smart_open\\smart_open_lib.py:398: UserWarning: This function is deprecated, use smart_open.open instead. See the migration notes for details: https://github.com/RaRe-Technologies/smart_open/blob/master/README.rst#migrating-to-the-new-open-function\n",
      "  'See the migration notes for details: %s' % _MIGRATION_NOTES_URL\n"
     ]
    }
   ],
   "source": [
    "# Load Google's pre-trained Word2Vec model.\n",
    "os.chdir('C:\\\\Users\\\\h_air\\\\Documents\\\\Diplomado Deep Learning\\\\Estancia\\\\Datos\\\\Datos\\\\word2vec Google news')\n",
    "modelo_google = gensim.models.KeyedVectors.load_word2vec_format('GoogleNews-vectors-negative300.bin', binary=True)     "
   ]
  },
  {
   "cell_type": "markdown",
   "metadata": {},
   "source": [
    "# México"
   ]
  },
  {
   "cell_type": "code",
   "execution_count": 7,
   "metadata": {},
   "outputs": [
    {
     "name": "stdout",
     "output_type": "stream",
     "text": [
      "(2400,)\n",
      "(2400,)\n",
      "(600,)\n",
      "(600,)\n"
     ]
    }
   ],
   "source": [
    "# Importando los textos\n",
    "import os\n",
    "# introducit path datos de entrenamiento\n",
    "os.chdir('C:\\\\Users\\\\h_air\\\\Documents\\\\Diplomado Deep Learning\\\\Estancia\\\\Datos\\\\Datos\\\\IberLEF19-IroSvA-training-20190331')\n",
    "train = pd.read_csv('irosva.mx.training.csv');\n",
    "# introducit path datos de prueba\n",
    "os.chdir('C:\\\\Users\\\\h_air\\\\Documents\\\\Diplomado Deep Learning\\\\Estancia\\\\Datos\\\\Datos\\\\IberLEF19-IroSvA-test-20190420')\n",
    "test_nolabel = pd.read_csv('irosva.mx - irosva.mx.test.csv');\n",
    "# introducit path etiquetas verdaderas de prueba\n",
    "os.chdir('C:\\\\Users\\\\h_air\\\\Documents\\\\Diplomado Deep Learning\\\\Estancia\\\\Datos\\\\Datos\\\\IberLEF19-IroSvA-test-truth-20190420')\n",
    "test_label = pd.read_csv('irosva.mx.test.truth.csv');\n",
    "\n",
    "test = pd.merge(test_nolabel, test_label, on='ID')\n",
    "entrenamiento = train[\"TOPIC\"].astype(str).str.cat(train[\"MESSAGE\"].astype(str), sep=' ')\n",
    "prueba = test[\"TOPIC_y\"].astype(str).str.cat(test[\"MESSAGE\"].astype(str), sep=' ')\n",
    "\n",
    "x_train = train[\"MESSAGE\"]\n",
    "x_test = test[\"MESSAGE\"]\n",
    "y_train = train['IS_IRONIC']\n",
    "y_test = test['IS_IRONIC_y']\n",
    "\n",
    "#Limpiando datos de entrenamiento\n",
    "num = x_train.size\n",
    "# Lista para guardar twits limpios\n",
    "clean_train = []\n",
    "for i in range( 0, num):\n",
    "    clean_train.append(review_to_words2(x_train.values[i]))\n",
    "x_train_mx = clean_train\n",
    "\n",
    "num= x_test.size\n",
    "clean_test_train = []\n",
    "for i in range( 0, num):\n",
    "    clean_test_train.append( review_to_words2(x_test.values[i] ) )\n",
    "x_test_mx = clean_test_train\n",
    "\n",
    "x_train_mx = train[\"TOPIC\"].astype(str).str.cat(x_train_mx, sep=' ')\n",
    "x_test_mx = test[\"TOPIC_y\"].astype(str).str.cat(x_test_mx, sep=' ')\n",
    "\n",
    "x_test_mx# Datos de entrenamient y de prueba ya pre-procesados\n",
    "\n",
    "x_train_mx = pd.Series(x_train_mx)\n",
    "y_train = pd.Series(y_train)\n",
    "x_test_mx = pd.Series(x_test_mx)\n",
    "y_test = pd.Series(y_test)\n",
    "\n",
    "print(x_train_mx.shape)\n",
    "print(y_train.shape)\n",
    "print(x_test_mx.shape)\n",
    "print(y_test.shape)\n"
   ]
  },
  {
   "cell_type": "markdown",
   "metadata": {},
   "source": [
    "* Pesos Word2vec Google, introducir a embedding de CNN"
   ]
  },
  {
   "cell_type": "code",
   "execution_count": 8,
   "metadata": {},
   "outputs": [],
   "source": [
    "from pickle import load\n",
    "from numpy import array\n",
    "from keras.preprocessing.text import Tokenizer\n",
    "from keras.preprocessing.sequence import pad_sequences\n",
    "from keras.utils.vis_utils import plot_model\n",
    "from keras.models import Model\n",
    "from keras.layers import Input\n",
    "from keras.layers import Dense\n",
    "from keras.layers import Flatten\n",
    "from keras.layers import Dropout\n",
    "from keras.layers import Embedding\n",
    "from keras.layers.convolutional import Conv1D\n",
    "from keras.layers.convolutional import MaxPooling1D\n",
    "from keras.layers.merge import concatenate\n",
    "\n",
    "\n",
    "# fit a tokenizer\n",
    "def create_tokenizer(lines):\n",
    "\ttokenizer = Tokenizer()\n",
    "\ttokenizer.fit_on_texts(lines)\n",
    "\treturn tokenizer\n",
    "\n",
    "# calculate the maximum document length\n",
    "def max_length(lines):\n",
    "\treturn max([len(s.split()) for s in lines])\n",
    "\n",
    "# encode a list of lines\n",
    "def encode_text(tokenizer, lines, length):\n",
    "\t# integer encode\n",
    "\tencoded = tokenizer.texts_to_sequences(lines)\n",
    "\t# pad encoded sequences\n",
    "\tpadded = pad_sequences(encoded, maxlen=length, padding='post')\n",
    "\treturn padded\n"
   ]
  },
  {
   "cell_type": "code",
   "execution_count": 9,
   "metadata": {},
   "outputs": [
    {
     "name": "stdout",
     "output_type": "stream",
     "text": [
      "Max document length México: 36\n",
      "Vocabulary size México: 8281\n",
      "(2400, 36)\n",
      "(600, 36)\n"
     ]
    }
   ],
   "source": [
    "# create tokenizer\n",
    "tokenizer_mx = create_tokenizer(x_train_mx)\n",
    "# calculate max document length\n",
    "length_mx = max_length(x_train_mx)\n",
    "# calculate vocabulary size\n",
    "vocab_size_mx = len(tokenizer_mx.word_index) + 1\n",
    "print('Max document length México: %d' % length_mx)\n",
    "print('Vocabulary size México: %d' % vocab_size_mx)\n",
    "\n",
    "# encode data\n",
    "trainX_mx = encode_text(tokenizer_mx, x_train_mx, length_mx)\n",
    "print(trainX_mx.shape)\n",
    "\n",
    "\n",
    "testX_mx = encode_text(tokenizer_mx, x_test_mx, length_mx)\n",
    "print(testX_mx.shape)"
   ]
  },
  {
   "cell_type": "code",
   "execution_count": 10,
   "metadata": {},
   "outputs": [],
   "source": [
    "tokenizer_mx.word_index\n",
    "vocabulary_inv_mx = dict((v, k) for k, v in tokenizer_mx.word_index.items())\n",
    "vocabulary_inv_mx[0] = \"<PAD/>\"\n"
   ]
  },
  {
   "cell_type": "code",
   "execution_count": 11,
   "metadata": {},
   "outputs": [],
   "source": [
    "# pesos \n",
    "embedding_weights_mx = {key: modelo_google[word] if word in modelo_google else\n",
    "                          np.random.uniform(-0.25, 0.25, modelo_google.vector_size)\n",
    "                     for key, word in vocabulary_inv_mx.items()}"
   ]
  },
  {
   "cell_type": "code",
   "execution_count": 12,
   "metadata": {},
   "outputs": [],
   "source": [
    "weights_mx = np.array([embedding_weights_mx[i] for i in range(len(embedding_weights_mx))])"
   ]
  },
  {
   "cell_type": "markdown",
   "metadata": {},
   "source": [
    "# España"
   ]
  },
  {
   "cell_type": "code",
   "execution_count": 13,
   "metadata": {},
   "outputs": [
    {
     "name": "stdout",
     "output_type": "stream",
     "text": [
      "(2400,)\n",
      "(2400,)\n",
      "(600,)\n",
      "(600,)\n"
     ]
    }
   ],
   "source": [
    "# Importando los textos\n",
    "import os\n",
    "# introducit path datos de entrenamiento\n",
    "os.chdir('C:\\\\Users\\\\h_air\\\\Documents\\\\Diplomado Deep Learning\\\\Estancia\\\\Datos\\\\Datos\\\\IberLEF19-IroSvA-training-20190331')\n",
    "train_es = pd.read_csv('irosva.es.training.csv');\n",
    "# introducit path datos de prueba\n",
    "os.chdir('C:\\\\Users\\\\h_air\\\\Documents\\\\Diplomado Deep Learning\\\\Estancia\\\\Datos\\\\Datos\\\\IberLEF19-IroSvA-test-20190420')\n",
    "test_nolabel_es = pd.read_csv('irosva.es - irosva.es.test.csv');\n",
    "# introducit path etiquetas verdaderas de prueba\n",
    "os.chdir('C:\\\\Users\\\\h_air\\\\Documents\\\\Diplomado Deep Learning\\\\Estancia\\\\Datos\\\\Datos\\\\IberLEF19-IroSvA-test-truth-20190420')\n",
    "test_label_es = pd.read_csv('irosva.es.test.truth.csv');\n",
    "\n",
    "test_es = pd.merge(test_nolabel_es, test_label_es, on='ID')\n",
    "\n",
    "x_train_es = train_es[\"MESSAGE\"]\n",
    "x_test_es = test_es[\"MESSAGE\"]\n",
    "y_train_es = train_es['IS_IRONIC']\n",
    "y_test_es = test_es['IS_IRONIC_y']\n",
    "\n",
    "#Limpiando datos de entrenamiento\n",
    "num = x_train_es.size\n",
    "# Lista para guardar twits limpios\n",
    "clean_train = []\n",
    "for i in range( 0, num):\n",
    "    clean_train.append(review_to_words(x_train_es.values[i]))\n",
    "x_train_es = clean_train\n",
    "\n",
    "num= x_test_es.size\n",
    "clean_test_train = []\n",
    "for i in range( 0, num):\n",
    "    clean_test_train.append( review_to_words(x_test_es.values[i] ) )\n",
    "x_test_es= clean_test_train\n",
    "\n",
    "x_train_es = train_es[\"TOPIC\"].astype(str).str.cat(x_train_es, sep=' ')\n",
    "x_test_es = test_es[\"TOPIC_y\"].astype(str).str.cat(x_test_es, sep=' ')\n",
    "\n",
    "x_test_mx# Datos de entrenamient y de prueba ya pre-procesados\n",
    "\n",
    "x_train_es= pd.Series(x_train_es)\n",
    "y_train_es = pd.Series(y_train_es)\n",
    "x_test_es = pd.Series(x_test_es)\n",
    "y_test_es = pd.Series(y_test_es)\n",
    "\n",
    "print(x_train_es.shape)\n",
    "print(y_train_es.shape)\n",
    "print(x_test_es.shape)\n",
    "print(y_test_es.shape)\n"
   ]
  },
  {
   "cell_type": "code",
   "execution_count": 14,
   "metadata": {},
   "outputs": [
    {
     "name": "stdout",
     "output_type": "stream",
     "text": [
      "Max document length España: 38\n",
      "Vocabulary size España: 6995\n",
      "(2400, 38)\n",
      "(600, 38)\n"
     ]
    }
   ],
   "source": [
    "# create tokenizer\n",
    "tokenizer_es = create_tokenizer(x_train_es)\n",
    "# calculate max document length\n",
    "length_es = max_length(x_train_es)\n",
    "# calculate vocabulary size\n",
    "vocab_size_es = len(tokenizer_es.word_index) + 1\n",
    "print('Max document length España: %d' % length_es)\n",
    "print('Vocabulary size España: %d' % vocab_size_es)\n",
    "\n",
    "# encode data\n",
    "trainX_es = encode_text(tokenizer_es, x_train_es, length_es)\n",
    "print(trainX_es.shape)\n",
    "\n",
    "\n",
    "testX_es = encode_text(tokenizer_es, x_test_es, length_es)\n",
    "print(testX_es.shape)\n",
    "\n",
    "tokenizer_es.word_index\n",
    "vocabulary_inv_es = dict((v, k) for k, v in tokenizer_es.word_index.items())\n",
    "vocabulary_inv_es[0] = \"<PAD/>\"\n",
    "\n",
    "# pesos \n",
    "embedding_weights_es = {key: modelo_google[word] if word in modelo_google else\n",
    "                          np.random.uniform(-0.25, 0.25, modelo_google.vector_size)\n",
    "                     for key, word in vocabulary_inv_es.items()}\n",
    "\n",
    "weights_es = np.array([embedding_weights_es[i] for i in range(len(embedding_weights_es))])"
   ]
  },
  {
   "cell_type": "markdown",
   "metadata": {},
   "source": [
    "# Cuba"
   ]
  },
  {
   "cell_type": "code",
   "execution_count": 15,
   "metadata": {},
   "outputs": [
    {
     "name": "stdout",
     "output_type": "stream",
     "text": [
      "(2400,)\n",
      "(2400,)\n",
      "(600,)\n",
      "(600,)\n"
     ]
    }
   ],
   "source": [
    "# Importando los textos\n",
    "import os\n",
    "# introducit path datos de entrenamiento\n",
    "os.chdir('C:\\\\Users\\\\h_air\\\\Documents\\\\Diplomado Deep Learning\\\\Estancia\\\\Datos\\\\Datos\\\\IberLEF19-IroSvA-training-20190331')\n",
    "train_cu = pd.read_csv('irosva.cu.training.csv');\n",
    "# introducit path datos de prueba\n",
    "os.chdir('C:\\\\Users\\\\h_air\\\\Documents\\\\Diplomado Deep Learning\\\\Estancia\\\\Datos\\\\Datos\\\\IberLEF19-IroSvA-test-20190420')\n",
    "test_nolabel_cu = pd.read_csv('irosva.cu - irosva.cu.test.csv');\n",
    "# introducit path etiquetas verdaderas de prueba\n",
    "os.chdir('C:\\\\Users\\\\h_air\\\\Documents\\\\Diplomado Deep Learning\\\\Estancia\\\\Datos\\\\Datos\\\\IberLEF19-IroSvA-test-truth-20190420')\n",
    "test_label_cu = pd.read_csv('irosva.cu.test.truth.csv');\n",
    "\n",
    "test_cu = pd.merge(test_nolabel_cu, test_label_cu, on='ID')\n",
    "\n",
    "x_train_cu = train_cu[\"MESSAGE\"]\n",
    "x_test_cu = test_cu[\"MESSAGE\"]\n",
    "y_train_cu = train_cu['IS_IRONIC']\n",
    "y_test_cu = test_cu['IS_IRONIC_y']\n",
    "\n",
    "#Limpiando datos de entrenamiento\n",
    "num = x_train_cu.size\n",
    "# Lista para guardar twits limpios\n",
    "clean_train = []\n",
    "for i in range( 0, num):\n",
    "    clean_train.append(review_to_words2(x_train_cu.values[i]))\n",
    "x_train_cu = clean_train\n",
    "\n",
    "num= x_test_cu.size\n",
    "clean_test_train = []\n",
    "for i in range( 0, num):\n",
    "    clean_test_train.append( review_to_words2(x_test_cu.values[i] ) )\n",
    "x_test_cu= clean_test_train\n",
    "\n",
    "x_train_cu = train_cu[\"TOPIC\"].astype(str).str.cat(x_train_cu, sep=' ')\n",
    "x_test_cu = test_cu[\"TOPIC_y\"].astype(str).str.cat(x_test_cu, sep=' ')\n",
    "\n",
    "x_test_mx# Datos de entrenamient y de prueba ya pre-procesados\n",
    "\n",
    "x_train_cu= pd.Series(x_train_cu)\n",
    "y_train_cu = pd.Series(y_train_cu)\n",
    "x_test_cu = pd.Series(x_test_cu)\n",
    "y_test_cu = pd.Series(y_test_cu)\n",
    "\n",
    "print(x_train_cu.shape)\n",
    "print(y_train_cu.shape)\n",
    "print(x_test_cu.shape)\n",
    "print(y_test_cu.shape)\n"
   ]
  },
  {
   "cell_type": "code",
   "execution_count": 16,
   "metadata": {},
   "outputs": [
    {
     "name": "stdout",
     "output_type": "stream",
     "text": [
      "Max document length Cuba: 41\n",
      "Vocabulary size Cuba: 9304\n",
      "(2400, 41)\n",
      "(600, 41)\n"
     ]
    }
   ],
   "source": [
    "# create tokenizer\n",
    "tokenizer_cu = create_tokenizer(x_train_cu)\n",
    "# calculate max document length\n",
    "length_cu = max_length(x_train_cu)\n",
    "# calculate vocabulary size\n",
    "vocab_size_cu = len(tokenizer_cu.word_index) + 1\n",
    "print('Max document length Cuba: %d' % length_cu)\n",
    "print('Vocabulary size Cuba: %d' % vocab_size_cu)\n",
    "\n",
    "# encode data\n",
    "trainX_cu = encode_text(tokenizer_cu, x_train_cu, length_cu)\n",
    "print(trainX_cu.shape)\n",
    "\n",
    "\n",
    "testX_cu = encode_text(tokenizer_cu, x_test_cu, length_cu)\n",
    "print(testX_cu.shape)\n",
    "\n",
    "tokenizer_cu.word_index\n",
    "vocabulary_inv_cu = dict((v, k) for k, v in tokenizer_cu.word_index.items())\n",
    "vocabulary_inv_cu[0] = \"<PAD/>\"\n",
    "\n",
    "# pesos \n",
    "embedding_weights_cu = {key: modelo_google[word] if word in modelo_google else\n",
    "                          np.random.uniform(-0.25, 0.25, modelo_google.vector_size)\n",
    "                     for key, word in vocabulary_inv_cu.items()}\n",
    "\n",
    "weights_cu = np.array([embedding_weights_cu[i] for i in range(len(embedding_weights_cu))])"
   ]
  },
  {
   "cell_type": "markdown",
   "metadata": {},
   "source": [
    "### Clasificación CNN México"
   ]
  },
  {
   "cell_type": "code",
   "execution_count": 17,
   "metadata": {},
   "outputs": [],
   "source": [
    "# one hot representación targets\n",
    "from keras.utils import to_categorical\n",
    "y_train_label_mx = to_categorical(y_train)\n",
    "y_test_label_mx  = to_categorical(y_test)"
   ]
  },
  {
   "cell_type": "markdown",
   "metadata": {},
   "source": [
    "* Arquitectura CNN"
   ]
  },
  {
   "cell_type": "code",
   "execution_count": 18,
   "metadata": {},
   "outputs": [],
   "source": [
    "# define the model\n",
    "def define_model_mx1(length, vocab_size, n ):\n",
    "    \n",
    "\n",
    "\n",
    "\t# channel 1\n",
    "\tnp.random.seed(n)\n",
    "\tinputs1 = Input(shape=(length,))\n",
    "\tembedding1 = Embedding(vocab_size, 300)(inputs1)\n",
    "\tconv1 = Conv1D(filters=100, kernel_size=4, activation='relu')(embedding1)\n",
    "\tpool1 = GlobalMaxPooling1D()(conv1)\n",
    "\tdrop1 = Dropout(0.5)(pool1) \n",
    "\t# channel 2\n",
    "\tnp.random.seed(n)\n",
    "\tinputs2 = Input(shape=(length,))\n",
    "\tembedding2 = Embedding(vocab_size, 300)(inputs2)   \n",
    "\tconv2 = Conv1D(filters=100, kernel_size=6, activation='relu')(embedding2)\n",
    "\tpool2 = GlobalMaxPooling1D()(conv2)\n",
    "\tdrop2 = Dropout(0.5)(pool2) \n",
    "\t# channel 3\n",
    "\tnp.random.seed(n)\n",
    "\tinputs3 = Input(shape=(length,))\n",
    "\tembedding3 = Embedding(vocab_size, 300)(inputs3)   \n",
    "\tconv3 = Conv1D(filters=100, kernel_size=8, activation='relu')(embedding3)\n",
    "\tpool3 = GlobalMaxPooling1D()(conv3)\n",
    "\tdrop3 = Dropout(0.5)(pool3) \n",
    "\t# merge\n",
    "\tmerged = concatenate([pool1, pool2, pool3])\n",
    "\t# interpretation\n",
    "\tdense1 = Dense(10, activation='relu')(merged)\n",
    "\toutputs = Dense(2, activation='softmax')(dense1)\n",
    "\tmodel = Model(inputs=[inputs1, inputs2, inputs3], outputs=outputs)\n",
    "\t# compile\n",
    "\tmodel.compile(loss='binary_crossentropy', optimizer='adam', metrics=['accuracy'])\n",
    "\t# summarize\n",
    "\tprint(model.summary())\n",
    "\t\n",
    "\treturn model"
   ]
  },
  {
   "cell_type": "code",
   "execution_count": 58,
   "metadata": {},
   "outputs": [],
   "source": [
    "del model_mx, hist_mx"
   ]
  },
  {
   "cell_type": "code",
   "execution_count": 60,
   "metadata": {},
   "outputs": [],
   "source": [
    "from sklearn.utils import class_weight\n",
    "class_weights = class_weight.compute_class_weight('balanced',\n",
    "                                                 np.unique(array(y_train_label_mx)),\n",
    "                                                 y_train)\n",
    "\n"
   ]
  },
  {
   "cell_type": "code",
   "execution_count": 61,
   "metadata": {
    "scrolled": false
   },
   "outputs": [
    {
     "name": "stdout",
     "output_type": "stream",
     "text": [
      "__________________________________________________________________________________________________\n",
      "Layer (type)                    Output Shape         Param #     Connected to                     \n",
      "==================================================================================================\n",
      "input_28 (InputLayer)           (None, 36)           0                                            \n",
      "__________________________________________________________________________________________________\n",
      "input_29 (InputLayer)           (None, 36)           0                                            \n",
      "__________________________________________________________________________________________________\n",
      "input_30 (InputLayer)           (None, 36)           0                                            \n",
      "__________________________________________________________________________________________________\n",
      "embedding_28 (Embedding)        (None, 36, 300)      2484300     input_28[0][0]                   \n",
      "__________________________________________________________________________________________________\n",
      "embedding_29 (Embedding)        (None, 36, 300)      2484300     input_29[0][0]                   \n",
      "__________________________________________________________________________________________________\n",
      "embedding_30 (Embedding)        (None, 36, 300)      2484300     input_30[0][0]                   \n",
      "__________________________________________________________________________________________________\n",
      "conv1d_28 (Conv1D)              (None, 33, 100)      120100      embedding_28[0][0]               \n",
      "__________________________________________________________________________________________________\n",
      "conv1d_29 (Conv1D)              (None, 31, 100)      180100      embedding_29[0][0]               \n",
      "__________________________________________________________________________________________________\n",
      "conv1d_30 (Conv1D)              (None, 29, 100)      240100      embedding_30[0][0]               \n",
      "__________________________________________________________________________________________________\n",
      "global_max_pooling1d_28 (Global (None, 100)          0           conv1d_28[0][0]                  \n",
      "__________________________________________________________________________________________________\n",
      "global_max_pooling1d_29 (Global (None, 100)          0           conv1d_29[0][0]                  \n",
      "__________________________________________________________________________________________________\n",
      "global_max_pooling1d_30 (Global (None, 100)          0           conv1d_30[0][0]                  \n",
      "__________________________________________________________________________________________________\n",
      "concatenate_10 (Concatenate)    (None, 300)          0           global_max_pooling1d_28[0][0]    \n",
      "                                                                 global_max_pooling1d_29[0][0]    \n",
      "                                                                 global_max_pooling1d_30[0][0]    \n",
      "__________________________________________________________________________________________________\n",
      "dense_19 (Dense)                (None, 10)           3010        concatenate_10[0][0]             \n",
      "__________________________________________________________________________________________________\n",
      "dense_20 (Dense)                (None, 2)            22          dense_19[0][0]                   \n",
      "==================================================================================================\n",
      "Total params: 7,996,232\n",
      "Trainable params: 7,996,232\n",
      "Non-trainable params: 0\n",
      "__________________________________________________________________________________________________\n",
      "None\n",
      "Train on 1920 samples, validate on 480 samples\n",
      "Epoch 1/25\n",
      "1920/1920 [==============================] - 3s 1ms/step - loss: 0.6547 - acc: 0.6161 - val_loss: 0.5290 - val_acc: 0.8521\n",
      "Epoch 2/25\n",
      "1920/1920 [==============================] - 1s 495us/step - loss: 0.3410 - acc: 0.9245 - val_loss: 0.5856 - val_acc: 0.7250\n",
      "Epoch 3/25\n",
      "1920/1920 [==============================] - 1s 495us/step - loss: 0.0613 - acc: 0.9885 - val_loss: 0.4721 - val_acc: 0.8167\n",
      "Epoch 4/25\n",
      "1920/1920 [==============================] - 1s 561us/step - loss: 0.0103 - acc: 0.9984 - val_loss: 0.6066 - val_acc: 0.7521\n",
      "Epoch 5/25\n",
      "1920/1920 [==============================] - 1s 517us/step - loss: 0.0047 - acc: 0.9990 - val_loss: 0.5424 - val_acc: 0.7875\n",
      "Epoch 6/25\n",
      "1920/1920 [==============================] - 1s 497us/step - loss: 0.0018 - acc: 1.0000 - val_loss: 0.5825 - val_acc: 0.7833\n",
      "Epoch 7/25\n",
      "1920/1920 [==============================] - 1s 489us/step - loss: 0.0010 - acc: 1.0000 - val_loss: 0.5806 - val_acc: 0.7875\n",
      "Epoch 8/25\n",
      "1920/1920 [==============================] - 1s 522us/step - loss: 7.0745e-04 - acc: 1.0000 - val_loss: 0.6108 - val_acc: 0.7812\n",
      "Epoch 9/25\n",
      "1920/1920 [==============================] - 1s 496us/step - loss: 5.1231e-04 - acc: 1.0000 - val_loss: 0.6334 - val_acc: 0.7750\n",
      "Epoch 10/25\n",
      "1920/1920 [==============================] - 1s 497us/step - loss: 4.0542e-04 - acc: 1.0000 - val_loss: 0.6413 - val_acc: 0.7729\n",
      "Epoch 11/25\n",
      "1920/1920 [==============================] - 1s 487us/step - loss: 3.3110e-04 - acc: 1.0000 - val_loss: 0.6486 - val_acc: 0.7750\n",
      "Epoch 12/25\n",
      "1920/1920 [==============================] - 1s 499us/step - loss: 2.7447e-04 - acc: 1.0000 - val_loss: 0.6596 - val_acc: 0.7750\n",
      "Epoch 13/25\n",
      "1920/1920 [==============================] - 1s 499us/step - loss: 2.3374e-04 - acc: 1.0000 - val_loss: 0.6715 - val_acc: 0.7750\n",
      "Epoch 14/25\n",
      "1920/1920 [==============================] - 1s 506us/step - loss: 2.0001e-04 - acc: 1.0000 - val_loss: 0.6795 - val_acc: 0.7750\n",
      "Epoch 15/25\n",
      "1920/1920 [==============================] - 1s 500us/step - loss: 1.7307e-04 - acc: 1.0000 - val_loss: 0.6818 - val_acc: 0.7771\n",
      "Epoch 16/25\n",
      "1920/1920 [==============================] - 1s 499us/step - loss: 1.5310e-04 - acc: 1.0000 - val_loss: 0.6926 - val_acc: 0.7750\n",
      "Epoch 17/25\n",
      "1920/1920 [==============================] - 1s 499us/step - loss: 1.3322e-04 - acc: 1.0000 - val_loss: 0.6973 - val_acc: 0.7771\n",
      "Epoch 18/25\n",
      "1920/1920 [==============================] - 1s 501us/step - loss: 1.1817e-04 - acc: 1.0000 - val_loss: 0.7029 - val_acc: 0.7771\n",
      "Epoch 19/25\n",
      "1920/1920 [==============================] - 1s 497us/step - loss: 1.0606e-04 - acc: 1.0000 - val_loss: 0.7081 - val_acc: 0.7771\n",
      "Epoch 20/25\n",
      "1920/1920 [==============================] - 1s 496us/step - loss: 9.5787e-05 - acc: 1.0000 - val_loss: 0.7154 - val_acc: 0.7771\n",
      "Epoch 21/25\n",
      "1920/1920 [==============================] - 1s 502us/step - loss: 8.6800e-05 - acc: 1.0000 - val_loss: 0.7227 - val_acc: 0.7771\n",
      "Epoch 22/25\n",
      "1920/1920 [==============================] - 1s 492us/step - loss: 7.9081e-05 - acc: 1.0000 - val_loss: 0.7240 - val_acc: 0.7771\n",
      "Epoch 23/25\n",
      "1920/1920 [==============================] - 1s 496us/step - loss: 7.1904e-05 - acc: 1.0000 - val_loss: 0.7306 - val_acc: 0.7792\n",
      "Epoch 24/25\n",
      "1920/1920 [==============================] - 1s 493us/step - loss: 6.6109e-05 - acc: 1.0000 - val_loss: 0.7332 - val_acc: 0.7792\n",
      "Epoch 25/25\n",
      "1920/1920 [==============================] - 1s 494us/step - loss: 6.1180e-05 - acc: 1.0000 - val_loss: 0.7380 - val_acc: 0.7792\n"
     ]
    },
    {
     "data": {
      "image/png": "[encoded data removed]",
      "text/plain": [
       "<Figure size 864x360 with 2 Axes>"
      ]
     },
     "metadata": {},
     "output_type": "display_data"
    }
   ],
   "source": [
    "model_mx = define_model_mx1(length_mx, vocab_size_mx, 17) \n",
    "# fit model\n",
    "\n",
    "\n",
    "hist_mx = model_mx.fit([trainX_mx,trainX_mx,trainX_mx], array(y_train_label_mx), epochs=25, batch_size=50, validation_split=.2,  class_weight=class_weights)\n",
    "\n",
    "def plot_history(history):\n",
    "        acc = history.history[\"acc\"]\n",
    "        val_acc = history.history[\"val_acc\"]\n",
    "        loss = history.history[\"loss\"]\n",
    "        val_loss = history.history[\"val_loss\"]\n",
    "        x = range(1, len(acc) + 1)\n",
    "\n",
    "        plt.figure(figsize=(12, 5))\n",
    "        plt.subplot(1, 2, 1)\n",
    "        plt.plot(x, acc, \"b\", label=\"Training acc\")\n",
    "        plt.plot(x, val_acc, \"r\", label=\"Validation acc\")\n",
    "        plt.title(\"Training and validation accuracy\")\n",
    "        plt.legend()\n",
    "        plt.subplot(1, 2, 2)\n",
    "        plt.plot(x, loss, \"b\", label=\"Training loss\")\n",
    "        plt.plot(x, val_loss, \"r\", label=\"Validation loss\")\n",
    "        plt.title(\"Training and validation loss\")\n",
    "        plt.legend()\n",
    "    \n",
    "plot_history(history=hist_mx)\n"
   ]
  },
  {
   "cell_type": "code",
   "execution_count": 62,
   "metadata": {},
   "outputs": [
    {
     "name": "stdout",
     "output_type": "stream",
     "text": [
      "600/600 [==============================] - 0s 108us/step\n"
     ]
    },
    {
     "data": {
      "text/plain": [
       "[1.3451624313990276, 0.6933333333333334]"
      ]
     },
     "execution_count": 62,
     "metadata": {},
     "output_type": "execute_result"
    }
   ],
   "source": [
    "model_mx.evaluate([testX_mx,testX_mx,testX_mx],y_test_label_mx)"
   ]
  },
  {
   "cell_type": "code",
   "execution_count": 19,
   "metadata": {},
   "outputs": [
    {
     "name": "stdout",
     "output_type": "stream",
     "text": [
      "[[327  74]\n",
      " [110  89]]\n",
      "F1 test: 0.6360711507271983\n"
     ]
    },
    {
     "data": {
      "image/png": "[encoded data removed]",
      "text/plain": [
       "<Figure size 792x648 with 2 Axes>"
      ]
     },
     "metadata": {
      "needs_background": "light"
     },
     "output_type": "display_data"
    }
   ],
   "source": [
    "##########################\n",
    "# Tabla de confusión\n",
    "##########################\n",
    "from sklearn.metrics import confusion_matrix, precision_score, recall_score \n",
    "from sklearn.metrics import f1_score, cohen_kappa_score\n",
    "import seaborn as sns \n",
    "\n",
    "y_predict_mx = model_mx.predict([testX_mx,testX_mx,testX_mx])\n",
    "\n",
    "test_true_labels_mx      = np.argmax(y_test_label_mx, axis=1)\n",
    "test_predicted_labels_mx = np.argmax(y_predict_mx,axis=1)\n",
    "\n",
    "\n",
    "%matplotlib inline\n",
    "C = confusion_matrix(test_true_labels_mx, test_predicted_labels_mx)\n",
    "print(C)\n",
    "\n",
    "##########################\n",
    "# F1\n",
    "##########################\n",
    "print('F1 test:', f1_score(test_true_labels_mx, test_predicted_labels_mx,  average='macro'))\n",
    "\n",
    "\n",
    "f, ax = plt.subplots(figsize=(11, 9))\n",
    "sns.set()\n",
    "cmap = sns.diverging_palette(220, 10, as_cmap=True)\n",
    "ax = sns.heatmap(C, cmap=cmap, square=True,\n",
    "                 annot=True, fmt='d', linewidths=.5)\n",
    "ax.set_title('Matriz de Confusión')\n",
    "plt.show()\n",
    "\n",
    "# con 25 epocas y seed 17 \n",
    "\n",
    "#[[327  74]\n",
    "# [110  89]]\n",
    "#F1 test:0.6360711507271983"
   ]
  },
  {
   "cell_type": "code",
   "execution_count": 18,
   "metadata": {},
   "outputs": [
    {
     "name": "stderr",
     "output_type": "stream",
     "text": [
      "WARNING: Logging before flag parsing goes to stderr.\n",
      "W0710 10:59:44.147166  8800 deprecation_wrapper.py:119] From C:\\Users\\h_air\\Anaconda3\\envs\\tensorflow-gpu\\lib\\site-packages\\keras\\backend\\tensorflow_backend.py:517: The name tf.placeholder is deprecated. Please use tf.compat.v1.placeholder instead.\n",
      "\n",
      "W0710 10:59:45.088257  8800 deprecation_wrapper.py:119] From C:\\Users\\h_air\\Anaconda3\\envs\\tensorflow-gpu\\lib\\site-packages\\keras\\backend\\tensorflow_backend.py:4138: The name tf.random_uniform is deprecated. Please use tf.random.uniform instead.\n",
      "\n",
      "W0710 10:59:45.938836  8800 deprecation_wrapper.py:119] From C:\\Users\\h_air\\Anaconda3\\envs\\tensorflow-gpu\\lib\\site-packages\\keras\\backend\\tensorflow_backend.py:174: The name tf.get_default_session is deprecated. Please use tf.compat.v1.get_default_session instead.\n",
      "\n",
      "W0710 10:59:45.939798  8800 deprecation_wrapper.py:119] From C:\\Users\\h_air\\Anaconda3\\envs\\tensorflow-gpu\\lib\\site-packages\\keras\\backend\\tensorflow_backend.py:181: The name tf.ConfigProto is deprecated. Please use tf.compat.v1.ConfigProto instead.\n",
      "\n",
      "W0710 10:59:45.939798  8800 deprecation_wrapper.py:119] From C:\\Users\\h_air\\Anaconda3\\envs\\tensorflow-gpu\\lib\\site-packages\\keras\\backend\\tensorflow_backend.py:186: The name tf.Session is deprecated. Please use tf.compat.v1.Session instead.\n",
      "\n",
      "W0710 11:00:38.074687  8800 deprecation_wrapper.py:119] From C:\\Users\\h_air\\Anaconda3\\envs\\tensorflow-gpu\\lib\\site-packages\\keras\\optimizers.py:790: The name tf.train.Optimizer is deprecated. Please use tf.compat.v1.train.Optimizer instead.\n",
      "\n",
      "W0710 11:00:38.084628  8800 deprecation.py:323] From C:\\Users\\h_air\\Anaconda3\\envs\\tensorflow-gpu\\lib\\site-packages\\tensorflow\\python\\ops\\nn_impl.py:180: add_dispatch_support.<locals>.wrapper (from tensorflow.python.ops.array_ops) is deprecated and will be removed in a future version.\n",
      "Instructions for updating:\n",
      "Use tf.where in 2.0, which has the same broadcast rule as np.where\n"
     ]
    }
   ],
   "source": [
    "from keras.models import load_model\n",
    "DATA_PATH='C:\\\\Users\\\\h_air\\\\Documents\\\\Diplomado Deep Learning\\\\Estancia\\\\Datos\\\\Datos\\\\'\n",
    "#model_mx.save(DATA_PATH+'Cnn_mx.h5')\n",
    "\n",
    "model_mx = load_model(DATA_PATH+'Cnn_mx.h5') # Cargar"
   ]
  },
  {
   "cell_type": "code",
   "execution_count": 70,
   "metadata": {},
   "outputs": [],
   "source": [
    "from keras.utils.vis_utils import plot_model\n",
    "plot_model(model_mx, show_shapes=True, to_file=DATA_PATH+'Cnn_mx.png')\n"
   ]
  },
  {
   "cell_type": "markdown",
   "metadata": {},
   "source": [
    "### Clasificación CNN España"
   ]
  },
  {
   "cell_type": "code",
   "execution_count": 20,
   "metadata": {},
   "outputs": [],
   "source": [
    "# one hot representación targets\n",
    "from keras.utils import to_categorical\n",
    "y_train_label_es = to_categorical(y_train_es)\n",
    "y_test_label_es  = to_categorical(y_test_es)"
   ]
  },
  {
   "cell_type": "code",
   "execution_count": 21,
   "metadata": {},
   "outputs": [],
   "source": [
    "# define the model\n",
    "def define_model_es1(length, vocab_size, n ):\n",
    "    \n",
    "\n",
    "\n",
    "\t# channel 1\n",
    "\tnp.random.seed(n)\n",
    "\tinputs1 = Input(shape=(length,))\n",
    "\tembedding1 = Embedding(vocab_size, 300)(inputs1)\n",
    "\tconv1 = Conv1D(filters=100, kernel_size=4, activation='relu')(embedding1)\n",
    "\tpool1 = GlobalMaxPooling1D()(conv1)\n",
    "\tdrop1 = Dropout(0.5)(pool1) \n",
    "\t# channel 2\n",
    "\tnp.random.seed(n)\n",
    "\tinputs2 = Input(shape=(length,))\n",
    "\tembedding2 = Embedding(vocab_size, 300)(inputs2)   \n",
    "\tconv2 = Conv1D(filters=100, kernel_size=6, activation='relu')(embedding2)\n",
    "\tpool2 = GlobalMaxPooling1D()(conv2)\n",
    "\tdrop2 = Dropout(0.5)(pool2) \n",
    "\t# channel 3\n",
    "\tnp.random.seed(n)\n",
    "\tinputs3 = Input(shape=(length,))\n",
    "\tembedding3 = Embedding(vocab_size, 300)(inputs3)   \n",
    "\tconv3 = Conv1D(filters=100, kernel_size=8, activation='relu')(embedding3)\n",
    "\tpool3 = GlobalMaxPooling1D()(conv3)\n",
    "\tdrop3 = Dropout(0.5)(pool3) \n",
    "\t# merge\n",
    "\tmerged = concatenate([pool1, pool2, pool3])\n",
    "\t# interpretation\n",
    "\tdense1 = Dense(10, activation='relu')(merged)\n",
    "\toutputs = Dense(2, activation='softmax')(dense1)\n",
    "\tmodel = Model(inputs=[inputs1, inputs2, inputs3], outputs=outputs)\n",
    "\t# compile\n",
    "\tmodel.compile(loss='binary_crossentropy', optimizer='adam', metrics=['accuracy'])\n",
    "\t# summarize\n",
    "\tprint(model.summary())\n",
    "\t\n",
    "\treturn model"
   ]
  },
  {
   "cell_type": "code",
   "execution_count": 24,
   "metadata": {},
   "outputs": [],
   "source": [
    "from sklearn.utils import class_weight\n",
    "class_weights_es = class_weight.compute_class_weight('balanced',\n",
    "                                                 np.unique(array(y_train_label_es)),\n",
    "                                                 y_train_es)"
   ]
  },
  {
   "cell_type": "code",
   "execution_count": 112,
   "metadata": {},
   "outputs": [],
   "source": [
    "del model_es, hist_es"
   ]
  },
  {
   "cell_type": "code",
   "execution_count": 26,
   "metadata": {},
   "outputs": [
    {
     "name": "stdout",
     "output_type": "stream",
     "text": [
      "__________________________________________________________________________________________________\n",
      "Layer (type)                    Output Shape         Param #     Connected to                     \n",
      "==================================================================================================\n",
      "input_7 (InputLayer)            (None, 38)           0                                            \n",
      "__________________________________________________________________________________________________\n",
      "input_8 (InputLayer)            (None, 38)           0                                            \n",
      "__________________________________________________________________________________________________\n",
      "input_9 (InputLayer)            (None, 38)           0                                            \n",
      "__________________________________________________________________________________________________\n",
      "embedding_7 (Embedding)         (None, 38, 300)      2098500     input_7[0][0]                    \n",
      "__________________________________________________________________________________________________\n",
      "embedding_8 (Embedding)         (None, 38, 300)      2098500     input_8[0][0]                    \n",
      "__________________________________________________________________________________________________\n",
      "embedding_9 (Embedding)         (None, 38, 300)      2098500     input_9[0][0]                    \n",
      "__________________________________________________________________________________________________\n",
      "conv1d_7 (Conv1D)               (None, 35, 100)      120100      embedding_7[0][0]                \n",
      "__________________________________________________________________________________________________\n",
      "conv1d_8 (Conv1D)               (None, 33, 100)      180100      embedding_8[0][0]                \n",
      "__________________________________________________________________________________________________\n",
      "conv1d_9 (Conv1D)               (None, 31, 100)      240100      embedding_9[0][0]                \n",
      "__________________________________________________________________________________________________\n",
      "global_max_pooling1d_7 (GlobalM (None, 100)          0           conv1d_7[0][0]                   \n",
      "__________________________________________________________________________________________________\n",
      "global_max_pooling1d_8 (GlobalM (None, 100)          0           conv1d_8[0][0]                   \n",
      "__________________________________________________________________________________________________\n",
      "global_max_pooling1d_9 (GlobalM (None, 100)          0           conv1d_9[0][0]                   \n",
      "__________________________________________________________________________________________________\n",
      "concatenate_3 (Concatenate)     (None, 300)          0           global_max_pooling1d_7[0][0]     \n",
      "                                                                 global_max_pooling1d_8[0][0]     \n",
      "                                                                 global_max_pooling1d_9[0][0]     \n",
      "__________________________________________________________________________________________________\n",
      "dense_5 (Dense)                 (None, 10)           3010        concatenate_3[0][0]              \n",
      "__________________________________________________________________________________________________\n",
      "dense_6 (Dense)                 (None, 2)            22          dense_5[0][0]                    \n",
      "==================================================================================================\n",
      "Total params: 6,838,832\n",
      "Trainable params: 6,838,832\n",
      "Non-trainable params: 0\n",
      "__________________________________________________________________________________________________\n",
      "None\n",
      "Train on 1920 samples, validate on 480 samples\n",
      "Epoch 1/9\n",
      "1920/1920 [==============================] - 12s 6ms/step - loss: 0.5657 - acc: 0.7120 - val_loss: 0.6670 - val_acc: 0.5750\n",
      "Epoch 2/9\n",
      "1920/1920 [==============================] - 1s 469us/step - loss: 0.3377 - acc: 0.8599 - val_loss: 0.7374 - val_acc: 0.5333\n",
      "Epoch 3/9\n",
      "1920/1920 [==============================] - 1s 458us/step - loss: 0.1093 - acc: 0.9729 - val_loss: 0.7800 - val_acc: 0.6104\n",
      "Epoch 4/9\n",
      "1920/1920 [==============================] - 1s 455us/step - loss: 0.0221 - acc: 0.9953 - val_loss: 0.8905 - val_acc: 0.6104\n",
      "Epoch 5/9\n",
      "1920/1920 [==============================] - 1s 452us/step - loss: 0.0076 - acc: 0.9995 - val_loss: 1.0369 - val_acc: 0.5604\n",
      "Epoch 6/9\n",
      "1920/1920 [==============================] - 1s 447us/step - loss: 0.0047 - acc: 0.9995 - val_loss: 0.9724 - val_acc: 0.6125\n",
      "Epoch 7/9\n",
      "1920/1920 [==============================] - 1s 449us/step - loss: 0.0039 - acc: 0.9990 - val_loss: 1.0092 - val_acc: 0.6104\n",
      "Epoch 8/9\n",
      "1920/1920 [==============================] - 1s 449us/step - loss: 0.0045 - acc: 0.9990 - val_loss: 1.0527 - val_acc: 0.6021\n",
      "Epoch 9/9\n",
      "1920/1920 [==============================] - 1s 454us/step - loss: 0.0029 - acc: 0.9995 - val_loss: 1.1291 - val_acc: 0.5875\n"
     ]
    },
    {
     "data": {
      "image/png": "[encoded data removed]",
      "text/plain": [
       "<Figure size 864x360 with 2 Axes>"
      ]
     },
     "metadata": {
      "needs_background": "light"
     },
     "output_type": "display_data"
    }
   ],
   "source": [
    "model_es = define_model_es1(length_es, vocab_size_es, 16) #16\n",
    "# fit model\n",
    "\n",
    "\n",
    "hist_es = model_es.fit([trainX_es,trainX_es,trainX_es], array(y_train_label_es), epochs=9, batch_size=50, validation_split=.2, \n",
    "                      class_weight = class_weights_es)\n",
    "\n",
    "def plot_history(history):\n",
    "        acc = history.history[\"acc\"]\n",
    "        val_acc = history.history[\"val_acc\"]\n",
    "        loss = history.history[\"loss\"]\n",
    "        val_loss = history.history[\"val_loss\"]\n",
    "        x = range(1, len(acc) + 1)\n",
    "\n",
    "        plt.figure(figsize=(12, 5))\n",
    "        plt.subplot(1, 2, 1)\n",
    "        plt.plot(x, acc, \"b\", label=\"Training acc\")\n",
    "        plt.plot(x, val_acc, \"r\", label=\"Validation acc\")\n",
    "        plt.title(\"Training and validation accuracy\")\n",
    "        plt.legend()\n",
    "        plt.subplot(1, 2, 2)\n",
    "        plt.plot(x, loss, \"b\", label=\"Training loss\")\n",
    "        plt.plot(x, val_loss, \"r\", label=\"Validation loss\")\n",
    "        plt.title(\"Training and validation loss\")\n",
    "        plt.legend()\n",
    "    \n",
    "plot_history(history=hist_es)\n"
   ]
  },
  {
   "cell_type": "code",
   "execution_count": 22,
   "metadata": {},
   "outputs": [
    {
     "name": "stdout",
     "output_type": "stream",
     "text": [
      "[[307  93]\n",
      " [ 81 119]]\n",
      "F1 test: 0.6784288600857523\n"
     ]
    },
    {
     "data": {
      "image/png": "[encoded data removed]",
      "text/plain": [
       "<Figure size 792x648 with 2 Axes>"
      ]
     },
     "metadata": {
      "needs_background": "light"
     },
     "output_type": "display_data"
    }
   ],
   "source": [
    "##########################\n",
    "# Tabla de confusión\n",
    "##########################\n",
    "from sklearn.metrics import confusion_matrix, precision_score, recall_score \n",
    "from sklearn.metrics import f1_score, cohen_kappa_score\n",
    "import seaborn as sns \n",
    "\n",
    "y_predict_es = model_es.predict([testX_es,testX_es,testX_es])\n",
    "\n",
    "test_true_labels_es      = np.argmax(y_test_label_es, axis=1)\n",
    "test_predicted_labels_es = np.argmax(y_predict_es,axis=1)\n",
    "\n",
    "\n",
    "%matplotlib inline\n",
    "C = confusion_matrix(test_true_labels_es, test_predicted_labels_es)\n",
    "print(C)\n",
    "\n",
    "##########################\n",
    "# F1\n",
    "##########################\n",
    "print('F1 test:', f1_score(test_true_labels_es, test_predicted_labels_es,  average='macro'))\n",
    "\n",
    "\n",
    "f, ax = plt.subplots(figsize=(11, 9))\n",
    "sns.set()\n",
    "cmap = sns.diverging_palette(220, 10, as_cmap=True)\n",
    "ax = sns.heatmap(C, cmap=cmap, square=True,\n",
    "                 annot=True, fmt='d', linewidths=.5)\n",
    "ax.set_title('Matriz de Confusión')\n",
    "plt.show()\n",
    "\n",
    "\n",
    "#  0.6784288600857523 semilla 9 epocas"
   ]
  },
  {
   "cell_type": "code",
   "execution_count": 21,
   "metadata": {},
   "outputs": [],
   "source": [
    "from keras.models import load_model\n",
    "DATA_PATH='C:\\\\Users\\\\h_air\\\\Documents\\\\Diplomado Deep Learning\\\\Estancia\\\\Datos\\\\Datos\\\\'\n",
    "#model_es.save(DATA_PATH+'Cnn_es.h5')\n",
    "\n",
    "model_es = load_model(DATA_PATH+'Cnn_es.h5') # Cargar"
   ]
  },
  {
   "cell_type": "code",
   "execution_count": 29,
   "metadata": {},
   "outputs": [],
   "source": [
    "from keras.utils.vis_utils import plot_model\n",
    "plot_model(model_es, show_shapes=True, to_file=DATA_PATH+'Cnn_es.png')"
   ]
  },
  {
   "cell_type": "markdown",
   "metadata": {},
   "source": [
    "### Clasificación CNN Cuba"
   ]
  },
  {
   "cell_type": "code",
   "execution_count": 23,
   "metadata": {},
   "outputs": [],
   "source": [
    "# one hot representación targets\n",
    "from keras.utils import to_categorical\n",
    "y_train_label_cu = to_categorical(y_train_cu)\n",
    "y_test_label_cu  = to_categorical(y_test_cu)"
   ]
  },
  {
   "cell_type": "code",
   "execution_count": 24,
   "metadata": {},
   "outputs": [],
   "source": [
    "from keras import backend as K\n",
    "# define the model\n",
    "def recall_m(y_true, y_pred):\n",
    "        true_positives = K.sum(K.round(K.clip(y_true * y_pred, 0, 1)))\n",
    "        possible_positives = K.sum(K.round(K.clip(y_true, 0, 1)))\n",
    "        recall = true_positives / (possible_positives + K.epsilon())\n",
    "        return recall\n",
    "\n",
    "def precision_m(y_true, y_pred):\n",
    "        true_positives = K.sum(K.round(K.clip(y_true * y_pred, 0, 1)))\n",
    "        predicted_positives = K.sum(K.round(K.clip(y_pred, 0, 1)))\n",
    "        precision = true_positives / (predicted_positives + K.epsilon())\n",
    "        return precision\n",
    "    \n",
    "def f1_m(y_true, y_pred):\n",
    "    precision = precision_m(y_true, y_pred)\n",
    "    recall = recall_m(y_true, y_pred)\n",
    "    return 2*((precision*recall)/(precision+recall+K.epsilon()))"
   ]
  },
  {
   "cell_type": "code",
   "execution_count": 33,
   "metadata": {},
   "outputs": [],
   "source": [
    "def define_model_cu1(length, vocab_size, n ):\n",
    "    \n",
    "\n",
    "\t# channel 1\n",
    "\tnp.random.seed(n)\n",
    "\tinputs1 = Input(shape=(length,))\n",
    "\tembedding1 = Embedding(vocab_size, 300)(inputs1)\n",
    "\tconv1 = Conv1D(filters=100, kernel_size=4, activation='relu')(embedding1)\n",
    "\tpool1 = GlobalMaxPooling1D()(conv1)\n",
    "\tdrop1 = Dropout(0.5)(pool1) \n",
    "\t# channel 2\n",
    "\tnp.random.seed(n)\n",
    "\tinputs2 = Input(shape=(length,))\n",
    "\tembedding2 = Embedding(vocab_size, 300)(inputs2)   \n",
    "\tconv2 = Conv1D(filters=100, kernel_size=6, activation='relu')(embedding2)\n",
    "\tpool2 = GlobalMaxPooling1D()(conv2)\n",
    "\tdrop2 = Dropout(0.5)(pool2) \n",
    "\t# channel 3\n",
    "\tnp.random.seed(n)\n",
    "\tinputs3 = Input(shape=(length,))\n",
    "\tembedding3 = Embedding(vocab_size, 300)(inputs3)   \n",
    "\tconv3 = Conv1D(filters=100, kernel_size=8, activation='relu')(embedding3)\n",
    "\tpool3 = GlobalMaxPooling1D()(conv3)\n",
    "\tdrop3 = Dropout(0.5)(pool3) \n",
    "\t# merge\n",
    "\tmerged = concatenate([pool1, pool2, pool3])\n",
    "\t# interpretation\n",
    "\tdense1 = Dense(10, activation='relu')(merged)\n",
    "\toutputs = Dense(2, activation='softmax')(dense1)\n",
    "\tmodel = Model(inputs=[inputs1, inputs2, inputs3], outputs=outputs)\n",
    "\t# compile\n",
    "\tmodel.compile(loss='binary_crossentropy', optimizer='adam', metrics=['accuracy'])\n",
    "\t# summarize\n",
    "\tprint(model.summary())\n",
    "\treturn model"
   ]
  },
  {
   "cell_type": "code",
   "execution_count": 34,
   "metadata": {},
   "outputs": [],
   "source": [
    "from sklearn.utils import class_weight\n",
    "class_weights_cu = class_weight.compute_class_weight('balanced',\n",
    "                                                 np.unique(array(y_train_label_cu)),\n",
    "                                                 y_train_cu)"
   ]
  },
  {
   "cell_type": "code",
   "execution_count": 35,
   "metadata": {},
   "outputs": [],
   "source": [
    "del model_cu, hist_cu"
   ]
  },
  {
   "cell_type": "code",
   "execution_count": 36,
   "metadata": {},
   "outputs": [
    {
     "name": "stdout",
     "output_type": "stream",
     "text": [
      "__________________________________________________________________________________________________\n",
      "Layer (type)                    Output Shape         Param #     Connected to                     \n",
      "==================================================================================================\n",
      "input_4 (InputLayer)            (None, 41)           0                                            \n",
      "__________________________________________________________________________________________________\n",
      "input_5 (InputLayer)            (None, 41)           0                                            \n",
      "__________________________________________________________________________________________________\n",
      "input_6 (InputLayer)            (None, 41)           0                                            \n",
      "__________________________________________________________________________________________________\n",
      "embedding_4 (Embedding)         (None, 41, 300)      2791200     input_4[0][0]                    \n",
      "__________________________________________________________________________________________________\n",
      "embedding_5 (Embedding)         (None, 41, 300)      2791200     input_5[0][0]                    \n",
      "__________________________________________________________________________________________________\n",
      "embedding_6 (Embedding)         (None, 41, 300)      2791200     input_6[0][0]                    \n",
      "__________________________________________________________________________________________________\n",
      "conv1d_4 (Conv1D)               (None, 38, 100)      120100      embedding_4[0][0]                \n",
      "__________________________________________________________________________________________________\n",
      "conv1d_5 (Conv1D)               (None, 36, 100)      180100      embedding_5[0][0]                \n",
      "__________________________________________________________________________________________________\n",
      "conv1d_6 (Conv1D)               (None, 34, 100)      240100      embedding_6[0][0]                \n",
      "__________________________________________________________________________________________________\n",
      "global_max_pooling1d_4 (GlobalM (None, 100)          0           conv1d_4[0][0]                   \n",
      "__________________________________________________________________________________________________\n",
      "global_max_pooling1d_5 (GlobalM (None, 100)          0           conv1d_5[0][0]                   \n",
      "__________________________________________________________________________________________________\n",
      "global_max_pooling1d_6 (GlobalM (None, 100)          0           conv1d_6[0][0]                   \n",
      "__________________________________________________________________________________________________\n",
      "concatenate_2 (Concatenate)     (None, 300)          0           global_max_pooling1d_4[0][0]     \n",
      "                                                                 global_max_pooling1d_5[0][0]     \n",
      "                                                                 global_max_pooling1d_6[0][0]     \n",
      "__________________________________________________________________________________________________\n",
      "dense_3 (Dense)                 (None, 10)           3010        concatenate_2[0][0]              \n",
      "__________________________________________________________________________________________________\n",
      "dense_4 (Dense)                 (None, 2)            22          dense_3[0][0]                    \n",
      "==================================================================================================\n",
      "Total params: 8,916,932\n",
      "Trainable params: 8,916,932\n",
      "Non-trainable params: 0\n",
      "__________________________________________________________________________________________________\n",
      "None\n",
      "Train on 1920 samples, validate on 480 samples\n",
      "Epoch 1/5\n",
      "1920/1920 [==============================] - 2s 1ms/step - loss: 0.6500 - acc: 0.6417 - val_loss: 0.6573 - val_acc: 0.7583\n",
      "Epoch 2/5\n",
      "1920/1920 [==============================] - 1s 542us/step - loss: 0.5099 - acc: 0.7057 - val_loss: 0.6425 - val_acc: 0.4583\n",
      "Epoch 3/5\n",
      "1920/1920 [==============================] - 1s 539us/step - loss: 0.2879 - acc: 0.9214 - val_loss: 1.3688 - val_acc: 0.4354\n",
      "Epoch 4/5\n",
      "1920/1920 [==============================] - 1s 538us/step - loss: 0.0496 - acc: 0.9958 - val_loss: 2.7299 - val_acc: 0.4292\n",
      "Epoch 5/5\n",
      "1920/1920 [==============================] - 1s 540us/step - loss: 0.0077 - acc: 0.9990 - val_loss: 3.1476 - val_acc: 0.4104\n"
     ]
    },
    {
     "data": {
      "image/png": "[encoded data removed]",
      "text/plain": [
       "<Figure size 864x360 with 2 Axes>"
      ]
     },
     "metadata": {},
     "output_type": "display_data"
    }
   ],
   "source": [
    "model_cu = define_model_cu1(length_cu, vocab_size_cu, 17) \n",
    "# fit model\n",
    "\n",
    "\n",
    "hist_cu = model_cu.fit([trainX_cu,trainX_cu,trainX_cu], array(y_train_label_cu), epochs=5, batch_size=50, validation_split=.2,\n",
    "                      class_weight = class_weights_cu)\n",
    "\n",
    "def plot_history(history):\n",
    "        acc = history.history[\"acc\"]\n",
    "        val_acc = history.history[\"val_acc\"]\n",
    "        loss = history.history[\"loss\"]\n",
    "        val_loss = history.history[\"val_loss\"]\n",
    "        x = range(1, len(acc) + 1)\n",
    "\n",
    "        plt.figure(figsize=(12, 5))\n",
    "        plt.subplot(1, 2, 1)\n",
    "        plt.plot(x, acc, \"b\", label=\"Training acc\")\n",
    "        plt.plot(x, val_acc, \"r\", label=\"Validation acc\")\n",
    "        plt.title(\"Training and validation accuracy\")\n",
    "        plt.legend()\n",
    "        plt.subplot(1, 2, 2)\n",
    "        plt.plot(x, loss, \"b\", label=\"Training loss\")\n",
    "        plt.plot(x, val_loss, \"r\", label=\"Validation loss\")\n",
    "        plt.title(\"Training and validation loss\")\n",
    "        plt.legend()\n",
    "    \n",
    "plot_history(history=hist_cu)"
   ]
  },
  {
   "cell_type": "code",
   "execution_count": 25,
   "metadata": {},
   "outputs": [
    {
     "name": "stdout",
     "output_type": "stream",
     "text": [
      "[[277 123]\n",
      " [103  97]]\n",
      "F1 test: 0.5860805860805861\n"
     ]
    },
    {
     "data": {
      "image/png": "[encoded data removed]",
      "text/plain": [
       "<Figure size 792x648 with 2 Axes>"
      ]
     },
     "metadata": {
      "needs_background": "light"
     },
     "output_type": "display_data"
    }
   ],
   "source": [
    "##########################\n",
    "# Tabla de confusión\n",
    "##########################\n",
    "from sklearn.metrics import confusion_matrix, precision_score, recall_score \n",
    "from sklearn.metrics import f1_score, cohen_kappa_score\n",
    "import seaborn as sns \n",
    "\n",
    "y_predict_cu = model_cu.predict([testX_cu,testX_cu,testX_cu])\n",
    "\n",
    "test_true_labels_cu      = np.argmax(y_test_label_cu, axis=1)\n",
    "test_predicted_labels_cu = np.argmax(y_predict_cu,axis=1)\n",
    "\n",
    "\n",
    "%matplotlib inline\n",
    "C = confusion_matrix(test_true_labels_cu, test_predicted_labels_cu)\n",
    "print(C)\n",
    "\n",
    "##########################\n",
    "# F1\n",
    "##########################\n",
    "print('F1 test:', f1_score(test_true_labels_cu, test_predicted_labels_cu,  average='macro'))\n",
    "\n",
    "\n",
    "f, ax = plt.subplots(figsize=(11, 9))\n",
    "sns.set()\n",
    "cmap = sns.diverging_palette(220, 10, as_cmap=True)\n",
    "ax = sns.heatmap(C, cmap=cmap, square=True,\n",
    "                 annot=True, fmt='d', linewidths=.5)\n",
    "ax.set_title('Matriz de Confusión')\n",
    "plt.show()\n",
    "\n",
    "# F1 test 0.5860805860805861 seed 17 epoca 5"
   ]
  },
  {
   "cell_type": "code",
   "execution_count": 24,
   "metadata": {},
   "outputs": [],
   "source": [
    "from keras.models import load_model\n",
    "#DATA_PATH='C:\\\\Users\\\\h_air\\\\Documents\\\\Diplomado Deep Learning\\\\Estancia\\\\Datos\\\\Datos\\\\'\n",
    "#model_cu.save(DATA_PATH+'Cnn_cu.h5')\n",
    "\n",
    "model_cu = load_model(DATA_PATH+'Cnn_cu.h5') # Cargar\n",
    "\n",
    "#from keras.utils.vis_utils import plot_model\n",
    "#plot_model(model_cu, show_shapes=True, to_file=DATA_PATH+'Cnn_cu.png')"
   ]
  },
  {
   "cell_type": "code",
   "execution_count": 26,
   "metadata": {},
   "outputs": [],
   "source": [
    "del modelo_google"
   ]
  },
  {
   "cell_type": "code",
   "execution_count": null,
   "metadata": {},
   "outputs": [],
   "source": []
  },
  {
   "cell_type": "code",
   "execution_count": null,
   "metadata": {},
   "outputs": [],
   "source": []
  },
  {
   "cell_type": "code",
   "execution_count": null,
   "metadata": {},
   "outputs": [],
   "source": []
  },
  {
   "cell_type": "code",
   "execution_count": null,
   "metadata": {},
   "outputs": [],
   "source": []
  },
  {
   "cell_type": "code",
   "execution_count": null,
   "metadata": {},
   "outputs": [],
   "source": []
  },
  {
   "cell_type": "markdown",
   "metadata": {},
   "source": [
    "# Word2Vec Pesos (entrenables)"
   ]
  },
  {
   "cell_type": "markdown",
   "metadata": {},
   "source": [
    "## México"
   ]
  },
  {
   "cell_type": "code",
   "execution_count": 27,
   "metadata": {},
   "outputs": [],
   "source": [
    "# define the model\n",
    "def define_model_mx1_w2v(length, vocab_size, n , weights):\n",
    "\t# channel 1\n",
    "\tnp.random.seed(n)\n",
    "\tinputs1 = Input(shape=(length,))\n",
    "\tembedding1 = Embedding(vocab_size, 300, weights=[weights], trainable=True)(inputs1)\n",
    "\tconv1 = Conv1D(filters=100, kernel_size=4, activation='relu')(embedding1)\n",
    "\tpool1 = GlobalMaxPooling1D()(conv1)\n",
    "\tdrop1 = Dropout(0.5)(pool1) \n",
    "\t# channel 2\n",
    "\tnp.random.seed(n)\n",
    "\tinputs2 = Input(shape=(length,))\n",
    "\tembedding2 = Embedding(vocab_size, 300, weights=[weights], trainable=True)(inputs2)   \n",
    "\tconv2 = Conv1D(filters=100, kernel_size=6, activation='relu')(embedding2)\n",
    "\tpool2 = GlobalMaxPooling1D()(conv2)\n",
    "\tdrop2 = Dropout(0.5)(pool2) \n",
    "\t# channel 3\n",
    "\tnp.random.seed(n)\n",
    "\tinputs3 = Input(shape=(length,))\n",
    "\tembedding3 = Embedding(vocab_size, 300, weights=[weights], trainable=True)(inputs3)   \n",
    "\tconv3 = Conv1D(filters=100, kernel_size=8, activation='relu')(embedding3)\n",
    "\tpool3 = GlobalMaxPooling1D()(conv3)\n",
    "\tdrop3 = Dropout(0.5)(pool3) \n",
    "\t# merge\n",
    "\tmerged = concatenate([pool1, pool2, pool3])\n",
    "\t# interpretation\n",
    "\tdense1 = Dense(10, activation='relu')(merged)\n",
    "\toutputs = Dense(2, activation='softmax')(dense1)\n",
    "\tmodel = Model(inputs=[inputs1, inputs2, inputs3], outputs=outputs)\n",
    "\t# compile\n",
    "\tmodel.compile(loss='binary_crossentropy', optimizer='adam', metrics=['accuracy'])\n",
    "\t# summarize\n",
    "\tprint(model.summary())\n",
    "\t\n",
    "\treturn model"
   ]
  },
  {
   "cell_type": "code",
   "execution_count": 28,
   "metadata": {},
   "outputs": [],
   "source": [
    "del model_mx_w2v, hist_mx_w2v"
   ]
  },
  {
   "cell_type": "code",
   "execution_count": 44,
   "metadata": {},
   "outputs": [],
   "source": [
    "from sklearn.utils import class_weight\n",
    "class_weights_mx = class_weight.compute_class_weight('balanced',\n",
    "                                                 np.unique(array(y_train_label_mx)),\n",
    "                                                 y_train)\n"
   ]
  },
  {
   "cell_type": "code",
   "execution_count": 45,
   "metadata": {},
   "outputs": [
    {
     "name": "stdout",
     "output_type": "stream",
     "text": [
      "__________________________________________________________________________________________________\n",
      "Layer (type)                    Output Shape         Param #     Connected to                     \n",
      "==================================================================================================\n",
      "input_7 (InputLayer)            (None, 36)           0                                            \n",
      "__________________________________________________________________________________________________\n",
      "input_8 (InputLayer)            (None, 36)           0                                            \n",
      "__________________________________________________________________________________________________\n",
      "input_9 (InputLayer)            (None, 36)           0                                            \n",
      "__________________________________________________________________________________________________\n",
      "embedding_7 (Embedding)         (None, 36, 300)      2484300     input_7[0][0]                    \n",
      "__________________________________________________________________________________________________\n",
      "embedding_8 (Embedding)         (None, 36, 300)      2484300     input_8[0][0]                    \n",
      "__________________________________________________________________________________________________\n",
      "embedding_9 (Embedding)         (None, 36, 300)      2484300     input_9[0][0]                    \n",
      "__________________________________________________________________________________________________\n",
      "conv1d_7 (Conv1D)               (None, 33, 100)      120100      embedding_7[0][0]                \n",
      "__________________________________________________________________________________________________\n",
      "conv1d_8 (Conv1D)               (None, 31, 100)      180100      embedding_8[0][0]                \n",
      "__________________________________________________________________________________________________\n",
      "conv1d_9 (Conv1D)               (None, 29, 100)      240100      embedding_9[0][0]                \n",
      "__________________________________________________________________________________________________\n",
      "global_max_pooling1d_7 (GlobalM (None, 100)          0           conv1d_7[0][0]                   \n",
      "__________________________________________________________________________________________________\n",
      "global_max_pooling1d_8 (GlobalM (None, 100)          0           conv1d_8[0][0]                   \n",
      "__________________________________________________________________________________________________\n",
      "global_max_pooling1d_9 (GlobalM (None, 100)          0           conv1d_9[0][0]                   \n",
      "__________________________________________________________________________________________________\n",
      "concatenate_3 (Concatenate)     (None, 300)          0           global_max_pooling1d_7[0][0]     \n",
      "                                                                 global_max_pooling1d_8[0][0]     \n",
      "                                                                 global_max_pooling1d_9[0][0]     \n",
      "__________________________________________________________________________________________________\n",
      "dense_5 (Dense)                 (None, 10)           3010        concatenate_3[0][0]              \n",
      "__________________________________________________________________________________________________\n",
      "dense_6 (Dense)                 (None, 2)            22          dense_5[0][0]                    \n",
      "==================================================================================================\n",
      "Total params: 7,996,232\n",
      "Trainable params: 7,996,232\n",
      "Non-trainable params: 0\n",
      "__________________________________________________________________________________________________\n",
      "None\n",
      "Train on 1920 samples, validate on 480 samples\n",
      "Epoch 1/15\n",
      "1920/1920 [==============================] - 3s 2ms/step - loss: 0.6678 - acc: 0.6083 - val_loss: 0.5832 - val_acc: 0.8854\n",
      "Epoch 2/15\n",
      "1920/1920 [==============================] - 1s 494us/step - loss: 0.5340 - acc: 0.6542 - val_loss: 0.4711 - val_acc: 0.8854\n",
      "Epoch 3/15\n",
      "1920/1920 [==============================] - 1s 502us/step - loss: 0.3601 - acc: 0.8547 - val_loss: 0.4200 - val_acc: 0.8646\n",
      "Epoch 4/15\n",
      "1920/1920 [==============================] - 1s 499us/step - loss: 0.1322 - acc: 0.9677 - val_loss: 0.5006 - val_acc: 0.7729\n",
      "Epoch 5/15\n",
      "1920/1920 [==============================] - 1s 498us/step - loss: 0.0348 - acc: 0.9958 - val_loss: 0.5573 - val_acc: 0.6896\n",
      "Epoch 6/15\n",
      "1920/1920 [==============================] - 1s 499us/step - loss: 0.0123 - acc: 0.9995 - val_loss: 0.4962 - val_acc: 0.7750\n",
      "Epoch 7/15\n",
      "1920/1920 [==============================] - 1s 498us/step - loss: 0.0059 - acc: 1.0000 - val_loss: 0.5152 - val_acc: 0.7687\n",
      "Epoch 8/15\n",
      "1920/1920 [==============================] - 1s 503us/step - loss: 0.0036 - acc: 1.0000 - val_loss: 0.5196 - val_acc: 0.7667\n",
      "Epoch 9/15\n",
      "1920/1920 [==============================] - 1s 501us/step - loss: 0.0026 - acc: 1.0000 - val_loss: 0.5563 - val_acc: 0.7417\n",
      "Epoch 10/15\n",
      "1920/1920 [==============================] - 1s 499us/step - loss: 0.0018 - acc: 1.0000 - val_loss: 0.5257 - val_acc: 0.7854\n",
      "Epoch 11/15\n",
      "1920/1920 [==============================] - 1s 496us/step - loss: 0.0013 - acc: 1.0000 - val_loss: 0.5301 - val_acc: 0.7875\n",
      "Epoch 12/15\n",
      "1920/1920 [==============================] - 1s 500us/step - loss: 0.0011 - acc: 1.0000 - val_loss: 0.5337 - val_acc: 0.7896\n",
      "Epoch 13/15\n",
      "1920/1920 [==============================] - 1s 498us/step - loss: 8.9558e-04 - acc: 1.0000 - val_loss: 0.5460 - val_acc: 0.7771\n",
      "Epoch 14/15\n",
      "1920/1920 [==============================] - 1s 498us/step - loss: 7.4098e-04 - acc: 1.0000 - val_loss: 0.5668 - val_acc: 0.7604\n",
      "Epoch 15/15\n",
      "1920/1920 [==============================] - 1s 499us/step - loss: 6.3452e-04 - acc: 1.0000 - val_loss: 0.5555 - val_acc: 0.7792\n"
     ]
    },
    {
     "data": {
      "image/png": "[encoded data removed]",
      "text/plain": [
       "<Figure size 864x360 with 2 Axes>"
      ]
     },
     "metadata": {},
     "output_type": "display_data"
    }
   ],
   "source": [
    "\n",
    "\n",
    "model_mx_w2v = define_model_mx1_w2v(length_mx, vocab_size_mx, 17, weights_mx) #16\n",
    "# fit model\n",
    "\n",
    "\n",
    "hist_mx_w2v = model_mx_w2v.fit([trainX_mx,trainX_mx,trainX_mx], array(y_train_label_mx), epochs=15, batch_size=50,\n",
    "                               validation_split=.2, class_weight=class_weights_mx)\n",
    "\n",
    "def plot_history(history):\n",
    "        acc = history.history[\"acc\"]\n",
    "        val_acc = history.history[\"val_acc\"]\n",
    "        loss = history.history[\"loss\"]\n",
    "        val_loss = history.history[\"val_loss\"]\n",
    "        x = range(1, len(acc) + 1)\n",
    "\n",
    "        plt.figure(figsize=(12, 5))\n",
    "        plt.subplot(1, 2, 1)\n",
    "        plt.plot(x, acc, \"b\", label=\"Training acc\")\n",
    "        plt.plot(x, val_acc, \"r\", label=\"Validation acc\")\n",
    "        plt.title(\"Training and validation accuracy\")\n",
    "        plt.legend()\n",
    "        plt.subplot(1, 2, 2)\n",
    "        plt.plot(x, loss, \"b\", label=\"Training loss\")\n",
    "        plt.plot(x, val_loss, \"r\", label=\"Validation loss\")\n",
    "        plt.title(\"Training and validation loss\")\n",
    "        plt.legend()\n",
    "    \n",
    "plot_history(history=hist_mx_w2v)\n",
    "\n",
    "\n"
   ]
  },
  {
   "cell_type": "code",
   "execution_count": 30,
   "metadata": {},
   "outputs": [
    {
     "name": "stdout",
     "output_type": "stream",
     "text": [
      "[[352  49]\n",
      " [125  74]]\n",
      "F1 test: 0.6307248263274806\n"
     ]
    },
    {
     "data": {
      "image/png": "[encoded data removed]",
      "text/plain": [
       "<Figure size 792x648 with 2 Axes>"
      ]
     },
     "metadata": {
      "needs_background": "light"
     },
     "output_type": "display_data"
    }
   ],
   "source": [
    "##########################\n",
    "# Tabla de confusión\n",
    "##########################\n",
    "from sklearn.metrics import confusion_matrix, precision_score, recall_score \n",
    "from sklearn.metrics import f1_score, cohen_kappa_score\n",
    "import seaborn as sns \n",
    "\n",
    "y_predict_mx_w2v = model_mx_w2v.predict([testX_mx,testX_mx,testX_mx])\n",
    "\n",
    "test_true_labels_mx_w2v      = np.argmax(y_test_label_mx, axis=1)\n",
    "test_predicted_labels_mx_w2v = np.argmax(y_predict_mx_w2v,axis=1)\n",
    "\n",
    "\n",
    "%matplotlib inline\n",
    "C = confusion_matrix(test_true_labels_mx_w2v, test_predicted_labels_mx_w2v)\n",
    "print(C)\n",
    "\n",
    "##########################\n",
    "# F1\n",
    "##########################\n",
    "print('F1 test:', f1_score(test_true_labels_mx_w2v, test_predicted_labels_mx_w2v,  average='macro'))\n",
    "\n",
    "\n",
    "f, ax = plt.subplots(figsize=(11, 9))\n",
    "sns.set()\n",
    "cmap = sns.diverging_palette(220, 10, as_cmap=True)\n",
    "ax = sns.heatmap(C, cmap=cmap, square=True,\n",
    "                 annot=True, fmt='d', linewidths=.5)\n",
    "ax.set_title('Matriz de Confusión')\n",
    "plt.show()\n",
    "\n",
    "\n",
    "\n",
    "#0.6307248263274806  con 15 epocas y 17 semillas"
   ]
  },
  {
   "cell_type": "code",
   "execution_count": 29,
   "metadata": {},
   "outputs": [],
   "source": [
    "\n",
    "from keras.models import load_model\n",
    "DATA_PATH='C:\\\\Users\\\\h_air\\\\Documents\\\\Diplomado Deep Learning\\\\Estancia\\\\Datos\\\\Datos\\\\'\n",
    "#model_mx_w2v.save(DATA_PATH+'Cnn_mx_w2v.h5')\n",
    "\n",
    "model_mx_w2v = load_model(DATA_PATH+'Cnn_mx_w2v.h5') # Cargar\n",
    "\n",
    "#from keras.utils.vis_utils import plot_model\n",
    "#plot_model(model_mx_w2v, show_shapes=True, to_file=DATA_PATH+'Cnn_mx_w2v.png')"
   ]
  },
  {
   "cell_type": "markdown",
   "metadata": {},
   "source": [
    "## España"
   ]
  },
  {
   "cell_type": "code",
   "execution_count": 79,
   "metadata": {},
   "outputs": [],
   "source": [
    "# define the model\n",
    "def define_model_es1_w2v(length, vocab_size, n , weights):\n",
    "    \n",
    "\t# channel 1\n",
    "\tnp.random.seed(n)\n",
    "\tinputs1 = Input(shape=(length,))\n",
    "\tembedding1 = Embedding(vocab_size, 300, weights=[weights], trainable=True)(inputs1)\n",
    "\tconv1 = Conv1D(filters=100, kernel_size=4, activation='relu')(embedding1)\n",
    "\tpool1 = GlobalMaxPooling1D()(conv1)\n",
    "\tdrop1 = Dropout(0.5)(pool1) \n",
    "\t# channel 2\n",
    "\tnp.random.seed(n)\n",
    "\tinputs2 = Input(shape=(length,))\n",
    "\tembedding2 = Embedding(vocab_size, 300, weights=[weights], trainable=True)(inputs2)   \n",
    "\tconv2 = Conv1D(filters=100, kernel_size=6, activation='relu')(embedding2)\n",
    "\tpool2 = GlobalMaxPooling1D()(conv2)\n",
    "\tdrop2 = Dropout(0.5)(pool2) \n",
    "\t# channel 3\n",
    "\tnp.random.seed(n)\n",
    "\tinputs3 = Input(shape=(length,))\n",
    "\tembedding3 = Embedding(vocab_size, 300, weights=[weights], trainable=True)(inputs3)   \n",
    "\tconv3 = Conv1D(filters=100, kernel_size=8, activation='relu')(embedding3)\n",
    "\tpool3 = GlobalMaxPooling1D()(conv3)\n",
    "\tdrop3 = Dropout(0.5)(pool3) \n",
    "\t# merge\n",
    "\tmerged = concatenate([pool1, pool2, pool3])\n",
    "\t# interpretation\n",
    "\tdense1 = Dense(10, activation='relu')(merged)\n",
    "\toutputs = Dense(2, activation='softmax')(dense1)\n",
    "\tmodel = Model(inputs=[inputs1, inputs2, inputs3], outputs=outputs)\n",
    "\t# compile\n",
    "\tmodel.compile(loss='binary_crossentropy', optimizer='adam', metrics=['accuracy'])\n",
    "\t# summarize\n",
    "\tprint(model.summary())\n",
    "\t\n",
    "\treturn model"
   ]
  },
  {
   "cell_type": "code",
   "execution_count": 69,
   "metadata": {},
   "outputs": [],
   "source": [
    "from sklearn.utils import class_weight\n",
    "class_weights_es = class_weight.compute_class_weight('balanced',\n",
    "                                                 np.unique(array(y_train_label_es)),\n",
    "                                                 y_train_es)\n"
   ]
  },
  {
   "cell_type": "code",
   "execution_count": 98,
   "metadata": {},
   "outputs": [],
   "source": [
    "del model_es_w2v, hist_es_w2v"
   ]
  },
  {
   "cell_type": "code",
   "execution_count": 102,
   "metadata": {},
   "outputs": [
    {
     "name": "stdout",
     "output_type": "stream",
     "text": [
      "__________________________________________________________________________________________________\n",
      "Layer (type)                    Output Shape         Param #     Connected to                     \n",
      "==================================================================================================\n",
      "input_43 (InputLayer)           (None, 38)           0                                            \n",
      "__________________________________________________________________________________________________\n",
      "input_44 (InputLayer)           (None, 38)           0                                            \n",
      "__________________________________________________________________________________________________\n",
      "input_45 (InputLayer)           (None, 38)           0                                            \n",
      "__________________________________________________________________________________________________\n",
      "embedding_43 (Embedding)        (None, 38, 300)      2098500     input_43[0][0]                   \n",
      "__________________________________________________________________________________________________\n",
      "embedding_44 (Embedding)        (None, 38, 300)      2098500     input_44[0][0]                   \n",
      "__________________________________________________________________________________________________\n",
      "embedding_45 (Embedding)        (None, 38, 300)      2098500     input_45[0][0]                   \n",
      "__________________________________________________________________________________________________\n",
      "conv1d_43 (Conv1D)              (None, 35, 100)      120100      embedding_43[0][0]               \n",
      "__________________________________________________________________________________________________\n",
      "conv1d_44 (Conv1D)              (None, 33, 100)      180100      embedding_44[0][0]               \n",
      "__________________________________________________________________________________________________\n",
      "conv1d_45 (Conv1D)              (None, 31, 100)      240100      embedding_45[0][0]               \n",
      "__________________________________________________________________________________________________\n",
      "global_max_pooling1d_43 (Global (None, 100)          0           conv1d_43[0][0]                  \n",
      "__________________________________________________________________________________________________\n",
      "global_max_pooling1d_44 (Global (None, 100)          0           conv1d_44[0][0]                  \n",
      "__________________________________________________________________________________________________\n",
      "global_max_pooling1d_45 (Global (None, 100)          0           conv1d_45[0][0]                  \n",
      "__________________________________________________________________________________________________\n",
      "concatenate_15 (Concatenate)    (None, 300)          0           global_max_pooling1d_43[0][0]    \n",
      "                                                                 global_max_pooling1d_44[0][0]    \n",
      "                                                                 global_max_pooling1d_45[0][0]    \n",
      "__________________________________________________________________________________________________\n",
      "dense_29 (Dense)                (None, 10)           3010        concatenate_15[0][0]             \n",
      "__________________________________________________________________________________________________\n",
      "dense_30 (Dense)                (None, 2)            22          dense_29[0][0]                   \n",
      "==================================================================================================\n",
      "Total params: 6,838,832\n",
      "Trainable params: 6,838,832\n",
      "Non-trainable params: 0\n",
      "__________________________________________________________________________________________________\n",
      "None\n",
      "Train on 1920 samples, validate on 480 samples\n",
      "Epoch 1/5\n",
      "1920/1920 [==============================] - 3s 2ms/step - loss: 0.5391 - acc: 0.7198 - val_loss: 0.7336 - val_acc: 0.5750\n",
      "Epoch 2/5\n",
      "1920/1920 [==============================] - 1s 478us/step - loss: 0.2998 - acc: 0.8875 - val_loss: 0.7524 - val_acc: 0.5479\n",
      "Epoch 3/5\n",
      "1920/1920 [==============================] - 1s 497us/step - loss: 0.1192 - acc: 0.9755 - val_loss: 0.7982 - val_acc: 0.5688\n",
      "Epoch 4/5\n",
      "1920/1920 [==============================] - 1s 492us/step - loss: 0.0357 - acc: 0.9958 - val_loss: 0.8598 - val_acc: 0.5708\n",
      "Epoch 5/5\n",
      "1920/1920 [==============================] - 1s 494us/step - loss: 0.0212 - acc: 0.9969 - val_loss: 0.9287 - val_acc: 0.5687\n"
     ]
    },
    {
     "data": {
      "image/png": "[encoded data removed]",
      "text/plain": [
       "<Figure size 864x360 with 2 Axes>"
      ]
     },
     "metadata": {},
     "output_type": "display_data"
    }
   ],
   "source": [
    "\n",
    "model_es_w2v = define_model_es1_w2v(length_es, vocab_size_es, 16, weights_es) \n",
    "# fit model\n",
    "\n",
    "\n",
    "hist_es_w2v = model_es_w2v.fit([trainX_es,trainX_es,trainX_es], array(y_train_label_es), epochs=5, batch_size=50, \n",
    "                               validation_split=.2, class_weight = class_weights_es)\n",
    "\n",
    "def plot_history(history):\n",
    "        acc = history.history[\"acc\"]\n",
    "        val_acc = history.history[\"val_acc\"]\n",
    "        loss = history.history[\"loss\"]\n",
    "        val_loss = history.history[\"val_loss\"]\n",
    "        x = range(1, len(acc) + 1)\n",
    "\n",
    "        plt.figure(figsize=(12, 5))\n",
    "        plt.subplot(1, 2, 1)\n",
    "        plt.plot(x, acc, \"b\", label=\"Training acc\")\n",
    "        plt.plot(x, val_acc, \"r\", label=\"Validation acc\")\n",
    "        plt.title(\"Training and validation accuracy\")\n",
    "        plt.legend()\n",
    "        plt.subplot(1, 2, 2)\n",
    "        plt.plot(x, loss, \"b\", label=\"Training loss\")\n",
    "        plt.plot(x, val_loss, \"r\", label=\"Validation loss\")\n",
    "        plt.title(\"Training and validation loss\")\n",
    "        plt.legend()\n",
    "    \n",
    "plot_history(history=hist_es_w2v)"
   ]
  },
  {
   "cell_type": "code",
   "execution_count": 32,
   "metadata": {},
   "outputs": [
    {
     "name": "stdout",
     "output_type": "stream",
     "text": [
      "[[308  92]\n",
      " [102  98]]\n",
      "F1 test: 0.6315289648622984\n"
     ]
    },
    {
     "data": {
      "image/png": "[encoded data removed]",
      "text/plain": [
       "<Figure size 792x648 with 2 Axes>"
      ]
     },
     "metadata": {
      "needs_background": "light"
     },
     "output_type": "display_data"
    }
   ],
   "source": [
    "##########################\n",
    "# Tabla de confusión\n",
    "##########################\n",
    "from sklearn.metrics import confusion_matrix, precision_score, recall_score \n",
    "from sklearn.metrics import f1_score, cohen_kappa_score\n",
    "import seaborn as sns \n",
    "\n",
    "y_predict_es_w2v = model_es_w2v.predict([testX_es,testX_es,testX_es])\n",
    "\n",
    "test_true_labels_es_w2v      = np.argmax(y_test_label_es, axis=1)\n",
    "test_predicted_labels_es_w2v = np.argmax(y_predict_es_w2v,axis=1)\n",
    "\n",
    "\n",
    "%matplotlib inline\n",
    "C = confusion_matrix(test_true_labels_es_w2v, test_predicted_labels_es_w2v)\n",
    "print(C)\n",
    "\n",
    "##########################\n",
    "# F1\n",
    "##########################\n",
    "print('F1 test:', f1_score(test_true_labels_es_w2v, test_predicted_labels_es_w2v,  average='macro'))\n",
    "\n",
    "\n",
    "f, ax = plt.subplots(figsize=(11, 9))\n",
    "sns.set()\n",
    "cmap = sns.diverging_palette(220, 10, as_cmap=True)\n",
    "ax = sns.heatmap(C, cmap=cmap, square=True,\n",
    "                 annot=True, fmt='d', linewidths=.5)\n",
    "ax.set_title('Matriz de Confusión')\n",
    "plt.show()\n",
    "\n",
    "#  0.6315289648622984 semilla 16 epoca 5"
   ]
  },
  {
   "cell_type": "code",
   "execution_count": 31,
   "metadata": {},
   "outputs": [],
   "source": [
    "\n",
    "from keras.models import load_model\n",
    "DATA_PATH='C:\\\\Users\\\\h_air\\\\Documents\\\\Diplomado Deep Learning\\\\Estancia\\\\Datos\\\\Datos\\\\'\n",
    "#model_es_w2v.save(DATA_PATH+'Cnn_es_w2v.h5')\n",
    "\n",
    "model_es_w2v = load_model(DATA_PATH+'Cnn_es_w2v.h5') # Cargar\n",
    "\n",
    "#from keras.utils.vis_utils import plot_model\n",
    "#plot_model(model_es_w2v, show_shapes=True, to_file=DATA_PATH+'Cnn_es_w2v.png')"
   ]
  },
  {
   "cell_type": "markdown",
   "metadata": {},
   "source": [
    "# Cuba"
   ]
  },
  {
   "cell_type": "code",
   "execution_count": 106,
   "metadata": {},
   "outputs": [],
   "source": [
    "# define the model\n",
    "def define_model_cu1_w2v(length, vocab_size, n , weights):\n",
    "    \n",
    "\n",
    "\n",
    "\t# channel 1\n",
    "\tnp.random.seed(n)\n",
    "\tinputs1 = Input(shape=(length,))\n",
    "\tembedding1 = Embedding(vocab_size, 300, weights=[weights], trainable=True)(inputs1)\n",
    "\tconv1 = Conv1D(filters=100, kernel_size=4, activation='relu')(embedding1)\n",
    "\tpool1 = GlobalMaxPooling1D()(conv1)\n",
    "\tdrop1 = Dropout(0.5)(pool1) \n",
    "\t# channel 2\n",
    "\tnp.random.seed(n)\n",
    "\tinputs2 = Input(shape=(length,))\n",
    "\tembedding2 = Embedding(vocab_size, 300, weights=[weights], trainable=True)(inputs2)   \n",
    "\tconv2 = Conv1D(filters=100, kernel_size=6, activation='relu')(embedding2)\n",
    "\tpool2 = GlobalMaxPooling1D()(conv2)\n",
    "\tdrop2 = Dropout(0.5)(pool2) \n",
    "\t# channel 3\n",
    "\tnp.random.seed(n)\n",
    "\tinputs3 = Input(shape=(length,))\n",
    "\tembedding3 = Embedding(vocab_size, 300, weights=[weights], trainable=True)(inputs3)   \n",
    "\tconv3 = Conv1D(filters=100, kernel_size=8, activation='relu')(embedding3)\n",
    "\tpool3 = GlobalMaxPooling1D()(conv3)\n",
    "\tdrop3 = Dropout(0.5)(pool3) \n",
    "\t# merge\n",
    "\tmerged = concatenate([pool1, pool2, pool3])\n",
    "\t# interpretation\n",
    "\tdense1 = Dense(10, activation='relu')(merged)\n",
    "\toutputs = Dense(2, activation='softmax')(dense1)\n",
    "\tmodel = Model(inputs=[inputs1, inputs2, inputs3], outputs=outputs)\n",
    "\t# compile\n",
    "\tmodel.compile(loss='binary_crossentropy', optimizer='adam', metrics=['accuracy'])\n",
    "\t# summarize\n",
    "\tprint(model.summary())\n",
    "\t\n",
    "\t\n",
    "\treturn model"
   ]
  },
  {
   "cell_type": "code",
   "execution_count": 107,
   "metadata": {},
   "outputs": [],
   "source": [
    "from sklearn.utils import class_weight\n",
    "class_weights_cu = class_weight.compute_class_weight('balanced',\n",
    "                                                 np.unique(array(y_train_label_cu)),\n",
    "                                                 y_train_cu)\n"
   ]
  },
  {
   "cell_type": "code",
   "execution_count": 127,
   "metadata": {},
   "outputs": [],
   "source": [
    "del model_cu_w2v, hist_cu_w2v"
   ]
  },
  {
   "cell_type": "code",
   "execution_count": 128,
   "metadata": {},
   "outputs": [
    {
     "name": "stdout",
     "output_type": "stream",
     "text": [
      "__________________________________________________________________________________________________\n",
      "Layer (type)                    Output Shape         Param #     Connected to                     \n",
      "==================================================================================================\n",
      "input_64 (InputLayer)           (None, 41)           0                                            \n",
      "__________________________________________________________________________________________________\n",
      "input_65 (InputLayer)           (None, 41)           0                                            \n",
      "__________________________________________________________________________________________________\n",
      "input_66 (InputLayer)           (None, 41)           0                                            \n",
      "__________________________________________________________________________________________________\n",
      "embedding_64 (Embedding)        (None, 41, 300)      2791200     input_64[0][0]                   \n",
      "__________________________________________________________________________________________________\n",
      "embedding_65 (Embedding)        (None, 41, 300)      2791200     input_65[0][0]                   \n",
      "__________________________________________________________________________________________________\n",
      "embedding_66 (Embedding)        (None, 41, 300)      2791200     input_66[0][0]                   \n",
      "__________________________________________________________________________________________________\n",
      "conv1d_64 (Conv1D)              (None, 38, 100)      120100      embedding_64[0][0]               \n",
      "__________________________________________________________________________________________________\n",
      "conv1d_65 (Conv1D)              (None, 36, 100)      180100      embedding_65[0][0]               \n",
      "__________________________________________________________________________________________________\n",
      "conv1d_66 (Conv1D)              (None, 34, 100)      240100      embedding_66[0][0]               \n",
      "__________________________________________________________________________________________________\n",
      "global_max_pooling1d_64 (Global (None, 100)          0           conv1d_64[0][0]                  \n",
      "__________________________________________________________________________________________________\n",
      "global_max_pooling1d_65 (Global (None, 100)          0           conv1d_65[0][0]                  \n",
      "__________________________________________________________________________________________________\n",
      "global_max_pooling1d_66 (Global (None, 100)          0           conv1d_66[0][0]                  \n",
      "__________________________________________________________________________________________________\n",
      "concatenate_22 (Concatenate)    (None, 300)          0           global_max_pooling1d_64[0][0]    \n",
      "                                                                 global_max_pooling1d_65[0][0]    \n",
      "                                                                 global_max_pooling1d_66[0][0]    \n",
      "__________________________________________________________________________________________________\n",
      "dense_43 (Dense)                (None, 10)           3010        concatenate_22[0][0]             \n",
      "__________________________________________________________________________________________________\n",
      "dense_44 (Dense)                (None, 2)            22          dense_43[0][0]                   \n",
      "==================================================================================================\n",
      "Total params: 8,916,932\n",
      "Trainable params: 8,916,932\n",
      "Non-trainable params: 0\n",
      "__________________________________________________________________________________________________\n",
      "None\n",
      "Train on 1920 samples, validate on 480 samples\n",
      "Epoch 1/30\n",
      "1920/1920 [==============================] - 4s 2ms/step - loss: 0.6488 - acc: 0.6526 - val_loss: 0.7337 - val_acc: 0.4521\n",
      "Epoch 2/30\n",
      "1920/1920 [==============================] - 1s 558us/step - loss: 0.5604 - acc: 0.7214 - val_loss: 1.0299 - val_acc: 0.4688\n",
      "Epoch 3/30\n",
      "1920/1920 [==============================] - 1s 559us/step - loss: 0.3479 - acc: 0.8875 - val_loss: 1.7300 - val_acc: 0.4271\n",
      "Epoch 4/30\n",
      "1920/1920 [==============================] - 1s 558us/step - loss: 0.1145 - acc: 0.9797 - val_loss: 2.6420 - val_acc: 0.4521\n",
      "Epoch 5/30\n",
      "1920/1920 [==============================] - 1s 567us/step - loss: 0.0273 - acc: 0.9979 - val_loss: 3.5260 - val_acc: 0.4458\n",
      "Epoch 6/30\n",
      "1920/1920 [==============================] - 1s 561us/step - loss: 0.0102 - acc: 0.9990 - val_loss: 3.9214 - val_acc: 0.4313\n",
      "Epoch 7/30\n",
      "1920/1920 [==============================] - 1s 562us/step - loss: 0.0045 - acc: 0.9995 - val_loss: 3.9597 - val_acc: 0.4646\n",
      "Epoch 8/30\n",
      "1920/1920 [==============================] - 1s 565us/step - loss: 0.0028 - acc: 1.0000 - val_loss: 4.4706 - val_acc: 0.4167\n",
      "Epoch 9/30\n",
      "1920/1920 [==============================] - 1s 566us/step - loss: 0.0020 - acc: 1.0000 - val_loss: 4.4841 - val_acc: 0.4354\n",
      "Epoch 10/30\n",
      "1920/1920 [==============================] - 1s 579us/step - loss: 0.0011 - acc: 1.0000 - val_loss: 4.5436 - val_acc: 0.4563\n",
      "Epoch 11/30\n",
      "1920/1920 [==============================] - 1s 575us/step - loss: 8.3525e-04 - acc: 1.0000 - val_loss: 4.6537 - val_acc: 0.4542\n",
      "Epoch 12/30\n",
      "1920/1920 [==============================] - 1s 576us/step - loss: 6.7843e-04 - acc: 1.0000 - val_loss: 4.7591 - val_acc: 0.4458\n",
      "Epoch 13/30\n",
      "1920/1920 [==============================] - 1s 564us/step - loss: 5.6113e-04 - acc: 1.0000 - val_loss: 4.8279 - val_acc: 0.4563\n",
      "Epoch 14/30\n",
      "1920/1920 [==============================] - 1s 572us/step - loss: 4.7398e-04 - acc: 1.0000 - val_loss: 4.9120 - val_acc: 0.4479\n",
      "Epoch 15/30\n",
      "1920/1920 [==============================] - 1s 566us/step - loss: 4.0606e-04 - acc: 1.0000 - val_loss: 4.9994 - val_acc: 0.4417\n",
      "Epoch 16/30\n",
      "1920/1920 [==============================] - 1s 562us/step - loss: 3.5140e-04 - acc: 1.0000 - val_loss: 5.0278 - val_acc: 0.4521\n",
      "Epoch 17/30\n",
      "1920/1920 [==============================] - 1s 579us/step - loss: 3.0855e-04 - acc: 1.0000 - val_loss: 5.1251 - val_acc: 0.4438\n",
      "Epoch 18/30\n",
      "1920/1920 [==============================] - 1s 580us/step - loss: 2.7479e-04 - acc: 1.0000 - val_loss: 5.1708 - val_acc: 0.4479\n",
      "Epoch 19/30\n",
      "1920/1920 [==============================] - 1s 565us/step - loss: 2.4213e-04 - acc: 1.0000 - val_loss: 5.2172 - val_acc: 0.4479\n",
      "Epoch 20/30\n",
      "1920/1920 [==============================] - 1s 568us/step - loss: 2.1765e-04 - acc: 1.0000 - val_loss: 5.2729 - val_acc: 0.4417\n",
      "Epoch 21/30\n",
      "1920/1920 [==============================] - 1s 585us/step - loss: 1.9524e-04 - acc: 1.0000 - val_loss: 5.3008 - val_acc: 0.4479\n",
      "Epoch 22/30\n",
      "1920/1920 [==============================] - 1s 563us/step - loss: 1.7679e-04 - acc: 1.0000 - val_loss: 5.3421 - val_acc: 0.4479\n",
      "Epoch 23/30\n",
      "1920/1920 [==============================] - 1s 565us/step - loss: 1.6068e-04 - acc: 1.0000 - val_loss: 5.3733 - val_acc: 0.4479\n",
      "Epoch 24/30\n",
      "1920/1920 [==============================] - 1s 565us/step - loss: 1.4633e-04 - acc: 1.0000 - val_loss: 5.4047 - val_acc: 0.4500\n",
      "Epoch 25/30\n",
      "1920/1920 [==============================] - 1s 563us/step - loss: 1.3423e-04 - acc: 1.0000 - val_loss: 5.4306 - val_acc: 0.4500\n",
      "Epoch 26/30\n",
      "1920/1920 [==============================] - 1s 569us/step - loss: 1.2341e-04 - acc: 1.0000 - val_loss: 5.4518 - val_acc: 0.4521\n",
      "Epoch 27/30\n",
      "1920/1920 [==============================] - 1s 568us/step - loss: 1.1370e-04 - acc: 1.0000 - val_loss: 5.4717 - val_acc: 0.4500\n",
      "Epoch 28/30\n",
      "1920/1920 [==============================] - 1s 564us/step - loss: 1.0489e-04 - acc: 1.0000 - val_loss: 5.4896 - val_acc: 0.4500\n",
      "Epoch 29/30\n",
      "1920/1920 [==============================] - 1s 560us/step - loss: 9.7238e-05 - acc: 1.0000 - val_loss: 5.5005 - val_acc: 0.4500\n",
      "Epoch 30/30\n",
      "1920/1920 [==============================] - 1s 562us/step - loss: 8.9995e-05 - acc: 1.0000 - val_loss: 5.5129 - val_acc: 0.4500\n"
     ]
    },
    {
     "data": {
      "image/png": "[encoded data removed]",
      "text/plain": [
       "<Figure size 864x360 with 2 Axes>"
      ]
     },
     "metadata": {},
     "output_type": "display_data"
    }
   ],
   "source": [
    "model_cu_w2v = define_model_cu1_w2v(length_cu, vocab_size_cu, 16, weights_cu) \n",
    "# fit model\n",
    "\n",
    "\n",
    "hist_cu_w2v = model_cu_w2v.fit([trainX_cu,trainX_cu,trainX_cu], array(y_train_label_cu), epochs=30, batch_size=50, \n",
    "                               validation_split=.2, class_weight = class_weights_cu )\n",
    "\n",
    "def plot_history(history):\n",
    "        acc = history.history[\"acc\"]\n",
    "        val_acc = history.history[\"val_acc\"]\n",
    "        loss = history.history[\"loss\"]\n",
    "        val_loss = history.history[\"val_loss\"]\n",
    "        x = range(1, len(acc) + 1)\n",
    "\n",
    "        plt.figure(figsize=(12, 5))\n",
    "        plt.subplot(1, 2, 1)\n",
    "        plt.plot(x, acc, \"b\", label=\"Training acc\")\n",
    "        plt.plot(x, val_acc, \"r\", label=\"Validation acc\")\n",
    "        plt.title(\"Training and validation accuracy\")\n",
    "        plt.legend()\n",
    "        plt.subplot(1, 2, 2)\n",
    "        plt.plot(x, loss, \"b\", label=\"Training loss\")\n",
    "        plt.plot(x, val_loss, \"r\", label=\"Validation loss\")\n",
    "        plt.title(\"Training and validation loss\")\n",
    "        plt.legend()\n",
    "    \n",
    "plot_history(history=hist_cu_w2v)"
   ]
  },
  {
   "cell_type": "code",
   "execution_count": 37,
   "metadata": {},
   "outputs": [
    {
     "name": "stdout",
     "output_type": "stream",
     "text": [
      "[[317  83]\n",
      " [135  65]]\n",
      "F1 test: 0.5588473368949328\n"
     ]
    },
    {
     "data": {
      "image/png": "[encoded data removed]",
      "text/plain": [
       "<Figure size 792x648 with 2 Axes>"
      ]
     },
     "metadata": {
      "needs_background": "light"
     },
     "output_type": "display_data"
    }
   ],
   "source": [
    "##########################\n",
    "# Tabla de confusión\n",
    "##########################\n",
    "from sklearn.metrics import confusion_matrix, precision_score, recall_score \n",
    "from sklearn.metrics import f1_score, cohen_kappa_score\n",
    "import seaborn as sns \n",
    "\n",
    "y_predict_cu_w2v = model_cu_w2v.predict([testX_cu,testX_cu,testX_cu])\n",
    "\n",
    "test_true_labels_cu_w2v      = np.argmax(y_test_label_cu, axis=1)\n",
    "test_predicted_labels_cu_w2v = np.argmax(y_predict_cu_w2v,axis=1)\n",
    "\n",
    "\n",
    "%matplotlib inline\n",
    "C = confusion_matrix(test_true_labels_cu_w2v, test_predicted_labels_cu_w2v)\n",
    "print(C)\n",
    "\n",
    "##########################\n",
    "# F1\n",
    "##########################\n",
    "print('F1 test:', f1_score(test_true_labels_cu_w2v, test_predicted_labels_cu_w2v,  average='macro'))\n",
    "\n",
    "\n",
    "f, ax = plt.subplots(figsize=(11, 9))\n",
    "sns.set()\n",
    "cmap = sns.diverging_palette(220, 10, as_cmap=True)\n",
    "ax = sns.heatmap(C, cmap=cmap, square=True,\n",
    "                 annot=True, fmt='d', linewidths=.5)\n",
    "ax.set_title('Matriz de Confusión')\n",
    "plt.show()\n",
    "\n",
    "#   0.5588473368949328 con 30 epocas semilla 17\n"
   ]
  },
  {
   "cell_type": "code",
   "execution_count": 36,
   "metadata": {},
   "outputs": [],
   "source": [
    "from keras.models import load_model\n",
    "DATA_PATH='C:\\\\Users\\\\h_air\\\\Documents\\\\Diplomado Deep Learning\\\\Estancia\\\\Datos\\\\Datos\\\\'\n",
    "#model_cu_w2v.save(DATA_PATH+'Cnn_cu_w2v.h5')\n",
    "\n",
    "model_cu_w2v = load_model(DATA_PATH+'Cnn_cu_w2v.h5') # Cargar\n",
    "\n",
    "#from keras.utils.vis_utils import plot_model\n",
    "#plot_model(model_cu_w2v, show_shapes=True, to_file=DATA_PATH+'Cnn_cu_w2v.png')"
   ]
  },
  {
   "cell_type": "code",
   "execution_count": null,
   "metadata": {},
   "outputs": [],
   "source": []
  },
  {
   "cell_type": "markdown",
   "metadata": {},
   "source": [
    "# Resultados"
   ]
  },
  {
   "cell_type": "code",
   "execution_count": 40,
   "metadata": {},
   "outputs": [
    {
     "data": {
      "text/html": [
       "<div>\n",
       "<style scoped>\n",
       "    .dataframe tbody tr th:only-of-type {\n",
       "        vertical-align: middle;\n",
       "    }\n",
       "\n",
       "    .dataframe tbody tr th {\n",
       "        vertical-align: top;\n",
       "    }\n",
       "\n",
       "    .dataframe thead th {\n",
       "        text-align: right;\n",
       "    }\n",
       "</style>\n",
       "<table border=\"1\" class=\"dataframe\">\n",
       "  <thead>\n",
       "    <tr style=\"text-align: right;\">\n",
       "      <th></th>\n",
       "      <th>País</th>\n",
       "      <th>CNN_chanels3</th>\n",
       "      <th>CNN_chanels3-W2VGoogle</th>\n",
       "    </tr>\n",
       "  </thead>\n",
       "  <tbody>\n",
       "    <tr>\n",
       "      <th>0</th>\n",
       "      <td>México</td>\n",
       "      <td>0.636071</td>\n",
       "      <td>0.630725</td>\n",
       "    </tr>\n",
       "    <tr>\n",
       "      <th>1</th>\n",
       "      <td>España</td>\n",
       "      <td>0.678429</td>\n",
       "      <td>0.631529</td>\n",
       "    </tr>\n",
       "    <tr>\n",
       "      <th>2</th>\n",
       "      <td>Cuba</td>\n",
       "      <td>0.586081</td>\n",
       "      <td>0.558847</td>\n",
       "    </tr>\n",
       "  </tbody>\n",
       "</table>\n",
       "</div>"
      ],
      "text/plain": [
       "     País  CNN_chanels3  CNN_chanels3-W2VGoogle\n",
       "0  México      0.636071                0.630725\n",
       "1  España      0.678429                0.631529\n",
       "2    Cuba      0.586081                0.558847"
      ]
     },
     "execution_count": 40,
     "metadata": {},
     "output_type": "execute_result"
    }
   ],
   "source": [
    "Tabla= {'País':['México', 'España', 'Cuba'],\n",
    "        'CNN_chanels3':[f1_score(test_true_labels_mx, test_predicted_labels_mx,  average='macro'), \n",
    "                    f1_score(test_true_labels_es, test_predicted_labels_es,  average='macro'), \n",
    "                      f1_score(test_true_labels_cu, test_predicted_labels_cu,  average='macro')],\n",
    "        'CNN_chanels3-W2VGoogle':[f1_score(test_true_labels_mx_w2v, test_predicted_labels_mx_w2v,  average='macro'), \n",
    "                     f1_score(test_true_labels_es_w2v, test_predicted_labels_es_w2v,  average='macro'), \n",
    "                     f1_score(test_true_labels_cu_w2v, test_predicted_labels_cu_w2v,  average='macro')]}\n",
    " \n",
    "# Create DataFrame\n",
    "Tabla = pd.DataFrame(Tabla)\n",
    "Tabla"
   ]
  }
 ],
 "metadata": {
  "kernelspec": {
   "display_name": "Python 3",
   "language": "python",
   "name": "python3"
  },
  "language_info": {
   "codemirror_mode": {
    "name": "ipython",
    "version": 3
   },
   "file_extension": ".py",
   "mimetype": "text/x-python",
   "name": "python",
   "nbconvert_exporter": "python",
   "pygments_lexer": "ipython3",
   "version": "3.6.8"
  }
 },
 "nbformat": 4,
 "nbformat_minor": 2
}
