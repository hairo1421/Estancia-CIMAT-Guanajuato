{
 "cells": [
  {
   "cell_type": "markdown",
   "metadata": {},
   "source": [
    "Estancia de Investigación Dr. Pastor CIMAT Guanajuato\n",
    "Junio 2019\n",
    "\n",
    "Hairo Ulises Miranda Belmonte Cimat Monterrey\n",
    "\n",
    "hairo.miranda@cimat.mx\n",
    "\n",
    "Cimat Gto."
   ]
  },
  {
   "cell_type": "markdown",
   "metadata": {},
   "source": [
    "# Clasificador CNN básico"
   ]
  },
  {
   "cell_type": "code",
   "execution_count": 1,
   "metadata": {
    "collapsed": true
   },
   "outputs": [],
   "source": [
    "import numpy as np \n",
    "import pandas as pd \n",
    "import re # lidia con expresiones regulares\n",
    "import nltk\n",
    "import matplotlib.pyplot as plt   \n",
    "from nltk.corpus import stopwords \n",
    "from sklearn.feature_extraction.text import CountVectorizer\n",
    "from nltk import word_tokenize # sentencia en palabras\n",
    "from nltk.stem import SnowballStemmer # idioma steam\n",
    "from nltk.stem.porter import PorterStemmer\n",
    "from nltk.stem import WordNetLemmatizer\n",
    "from sklearn.ensemble import RandomForestClassifier\n",
    "from sklearn.feature_extraction.text import TfidfVectorizer\n",
    "from sklearn import feature_extraction, model_selection, naive_bayes, metrics, svm\n",
    "\n",
    "\n",
    "\n",
    "from sklearn.model_selection import train_test_split\n",
    "from sklearn.feature_extraction.text import TfidfVectorizer\n",
    "# Any results you write to the current directory are saved as output.\n",
    "from sklearn.naive_bayes import GaussianNB\n",
    "from sklearn.metrics import accuracy_score \n"
   ]
  },
  {
   "cell_type": "code",
   "execution_count": 2,
   "metadata": {},
   "outputs": [
    {
     "name": "stderr",
     "output_type": "stream",
     "text": [
      "Using TensorFlow backend.\n"
     ]
    }
   ],
   "source": [
    "import numpy as np\n",
    "import pylab as pl\n",
    "from IPython.display import SVG\n",
    "from os.path import join, exists, split\n",
    "import os\n",
    "\n",
    "from gensim.models import word2vec, KeyedVectors\n",
    "\n",
    "\n",
    "from keras.models import Sequential, Model\n",
    "from keras.layers import Dense, Dropout, Flatten, Input, MaxPooling1D, Convolution1D, Embedding, GlobalMaxPooling1D\n",
    "from keras.layers.merge import Concatenate\n",
    "from keras.datasets import imdb\n",
    "from keras.preprocessing import sequence\n",
    "from keras.utils.vis_utils import model_to_dot\n",
    "\n",
    "%matplotlib inline"
   ]
  },
  {
   "cell_type": "code",
   "execution_count": 3,
   "metadata": {},
   "outputs": [],
   "source": [
    "import os\n",
    "import time\n",
    "import numpy as np # linear algebra\n",
    "import pandas as pd # data processing, CSV file I/O (e.g. pd.read_csv)\n",
    "\n",
    "import math\n",
    "\n",
    "from sklearn.metrics import roc_curve, auc,  f1_score\n",
    "from sklearn.model_selection import train_test_split\n",
    "\n",
    "import matplotlib.pyplot as plt\n",
    "import keras\n",
    "from sklearn import metrics\n",
    "from keras.layers import Input, Embedding, Dense, Conv2D, MaxPool2D, Reshape, Flatten, Concatenate, Dropout, SpatialDropout1D, BatchNormalization, LSTM, Embedding, Dropout, Activation, CuDNNGRU, Conv1D,CuDNNLSTM\n",
    "from keras.preprocessing.text import Tokenizer\n",
    "from keras.preprocessing.sequence import pad_sequences\n",
    "from keras.layers import Bidirectional, GlobalMaxPool1D, TimeDistributed\n",
    "from keras.models import Model\n",
    "from keras import initializers, regularizers, constraints, optimizers, layers"
   ]
  },
  {
   "cell_type": "code",
   "execution_count": 4,
   "metadata": {},
   "outputs": [],
   "source": [
    "# con stemming\n",
    "def review_to_words( raw_review ):\n",
    "    # 1. Remover todo menos letras y comas        \n",
    "    letters_only = re.sub('[^\\w]\\d*',  \" \", raw_review) \n",
    "    # 2. convertir a mínusculas\n",
    "    words = letters_only.lower().split()                             \n",
    "    # 3. remover stopwords\n",
    "    stops = set(stopwords.words(\"spanish\"))                  \n",
    "    # 3.1 retirando stopwords\n",
    "    meaningful_words = [w for w in words if not w in stops]   \n",
    "    # 4 stemming en español\n",
    "    stemmer = SnowballStemmer('spanish')\n",
    "    stemmed_text = [stemmer.stem(i) for i in meaningful_words]\n",
    "    # 5. uniendo documeto\n",
    "    return( \" \".join( stemmed_text ))  \n",
    "# sin stemming\n",
    "def review_to_words2( raw_review ):\n",
    "    # 1. Remover todo menos letras y comas       \n",
    "    letters_only = re.sub('[^\\w]\\d*',  \" \", raw_review) \n",
    "    # 2. convertir a mínusculas\n",
    "    words = letters_only.lower().split()                             \n",
    "    # 3. remover stopwords\n",
    "    stops = set(stopwords.words(\"spanish\"))                  \n",
    "    # 3.1 retirando stopwords\n",
    "    meaningful_words = [w for w in words if not w in stops]   \n",
    "    return( \" \".join( meaningful_words )) "
   ]
  },
  {
   "cell_type": "code",
   "execution_count": 5,
   "metadata": {},
   "outputs": [],
   "source": [
    "import gensim\n",
    "from gensim.models import word2vec, KeyedVectors\n",
    "\n",
    "\n",
    "from keras.models import Sequential, Model\n",
    "from keras.layers import Dense, Dropout, Flatten, Input, MaxPooling1D, Convolution1D, Embedding, GlobalMaxPooling1D\n",
    "from keras.layers.merge import Concatenate\n",
    "from keras.datasets import imdb\n",
    "from keras.preprocessing import sequence\n",
    "from keras.utils.vis_utils import model_to_dot\n",
    "\n",
    "%matplotlib inline"
   ]
  },
  {
   "cell_type": "code",
   "execution_count": 6,
   "metadata": {},
   "outputs": [
    {
     "name": "stderr",
     "output_type": "stream",
     "text": [
      "C:\\Users\\h_air\\Anaconda3\\envs\\tensorflow-gpu\\lib\\site-packages\\smart_open\\smart_open_lib.py:398: UserWarning: This function is deprecated, use smart_open.open instead. See the migration notes for details: https://github.com/RaRe-Technologies/smart_open/blob/master/README.rst#migrating-to-the-new-open-function\n",
      "  'See the migration notes for details: %s' % _MIGRATION_NOTES_URL\n"
     ]
    }
   ],
   "source": [
    "# Load Google's pre-trained Word2Vec model.\n",
    "os.chdir('C:\\\\Users\\\\h_air\\\\Documents\\\\Diplomado Deep Learning\\\\Estancia\\\\Datos\\\\Datos\\\\word2vec Google news')\n",
    "modelo_google = gensim.models.KeyedVectors.load_word2vec_format('GoogleNews-vectors-negative300.bin', binary=True)"
   ]
  },
  {
   "cell_type": "markdown",
   "metadata": {},
   "source": [
    "## México"
   ]
  },
  {
   "cell_type": "code",
   "execution_count": 6,
   "metadata": {},
   "outputs": [
    {
     "name": "stdout",
     "output_type": "stream",
     "text": [
      "(2400,)\n",
      "(2400,)\n",
      "(600,)\n",
      "(600,)\n"
     ]
    }
   ],
   "source": [
    "# Importando los textos\n",
    "import os\n",
    "# introducit path datos de entrenamiento\n",
    "os.chdir('C:\\\\Users\\\\h_air\\\\Documents\\\\Diplomado Deep Learning\\\\Estancia\\\\Datos\\\\Datos\\\\IberLEF19-IroSvA-training-20190331')\n",
    "train = pd.read_csv('irosva.mx.training.csv');\n",
    "# introducit path datos de prueba\n",
    "os.chdir('C:\\\\Users\\\\h_air\\\\Documents\\\\Diplomado Deep Learning\\\\Estancia\\\\Datos\\\\Datos\\\\IberLEF19-IroSvA-test-20190420')\n",
    "test_nolabel = pd.read_csv('irosva.mx - irosva.mx.test.csv');\n",
    "# introducit path etiquetas verdaderas de prueba\n",
    "os.chdir('C:\\\\Users\\\\h_air\\\\Documents\\\\Diplomado Deep Learning\\\\Estancia\\\\Datos\\\\Datos\\\\IberLEF19-IroSvA-test-truth-20190420')\n",
    "test_label = pd.read_csv('irosva.mx.test.truth.csv');\n",
    "\n",
    "test = pd.merge(test_nolabel, test_label, on='ID')\n",
    "entrenamiento = train[\"TOPIC\"].astype(str).str.cat(train[\"MESSAGE\"].astype(str), sep=' ')\n",
    "prueba = test[\"TOPIC_y\"].astype(str).str.cat(test[\"MESSAGE\"].astype(str), sep=' ')\n",
    "\n",
    "x_train = train[\"MESSAGE\"]\n",
    "x_test = test[\"MESSAGE\"]\n",
    "y_train = train['IS_IRONIC']\n",
    "y_test = test['IS_IRONIC_y']\n",
    "\n",
    "#Limpiando datos de entrenamiento\n",
    "num = x_train.size\n",
    "# Lista para guardar twits limpios\n",
    "clean_train = []\n",
    "for i in range( 0, num):\n",
    "    clean_train.append(review_to_words2(x_train.values[i]))\n",
    "x_train_mx = clean_train\n",
    "\n",
    "num= x_test.size\n",
    "clean_test_train = []\n",
    "for i in range( 0, num):\n",
    "    clean_test_train.append( review_to_words2(x_test.values[i] ) )\n",
    "x_test_mx = clean_test_train\n",
    "\n",
    "x_train_mx = train[\"TOPIC\"].astype(str).str.cat(x_train_mx, sep=' ')\n",
    "x_test_mx = test[\"TOPIC_y\"].astype(str).str.cat(x_test_mx, sep=' ')\n",
    "\n",
    "x_test_mx# Datos de entrenamient y de prueba ya pre-procesados\n",
    "\n",
    "x_train_mx = pd.Series(x_train_mx)\n",
    "y_train = pd.Series(y_train)\n",
    "x_test_mx = pd.Series(x_test_mx)\n",
    "y_test = pd.Series(y_test)\n",
    "\n",
    "print(x_train_mx.shape)\n",
    "print(y_train.shape)\n",
    "print(x_test_mx.shape)\n",
    "print(y_test.shape)"
   ]
  },
  {
   "cell_type": "code",
   "execution_count": 7,
   "metadata": {},
   "outputs": [],
   "source": [
    "from pickle import load\n",
    "from numpy import array\n",
    "from keras.preprocessing.text import Tokenizer\n",
    "from keras.preprocessing.sequence import pad_sequences\n",
    "from keras.utils.vis_utils import plot_model\n",
    "from keras.models import Model\n",
    "from keras.layers import Input\n",
    "from keras.layers import Dense\n",
    "from keras.layers import Flatten\n",
    "from keras.layers import Dropout\n",
    "from keras.layers import Embedding\n",
    "from keras.layers.convolutional import Conv1D\n",
    "from keras.layers.convolutional import MaxPooling1D\n",
    "from keras.layers.merge import concatenate\n",
    "\n",
    "\n",
    "# fit a tokenizer\n",
    "def create_tokenizer(lines):\n",
    "\ttokenizer = Tokenizer()\n",
    "\ttokenizer.fit_on_texts(lines)\n",
    "\treturn tokenizer\n",
    "\n",
    "# calculate the maximum document length\n",
    "def max_length(lines):\n",
    "\treturn max([len(s.split()) for s in lines])\n",
    "\n",
    "# encode a list of lines\n",
    "def encode_text(tokenizer, lines, length):\n",
    "\t# integer encode\n",
    "\tencoded = tokenizer.texts_to_sequences(lines)\n",
    "\t# pad encoded sequences\n",
    "\tpadded = pad_sequences(encoded, maxlen=length, padding='post')\n",
    "\treturn padded\n"
   ]
  },
  {
   "cell_type": "code",
   "execution_count": 8,
   "metadata": {},
   "outputs": [
    {
     "name": "stdout",
     "output_type": "stream",
     "text": [
      "Max document length México: 36\n",
      "Vocabulary size México: 8281\n",
      "(2400, 36)\n",
      "(600, 36)\n"
     ]
    }
   ],
   "source": [
    "# create tokenizer\n",
    "tokenizer_mx = create_tokenizer(x_train_mx)\n",
    "# calculate max document length\n",
    "length_mx = max_length(x_train_mx)\n",
    "# calculate vocabulary size\n",
    "vocab_size_mx = len(tokenizer_mx.word_index) + 1\n",
    "print('Max document length México: %d' % length_mx)\n",
    "print('Vocabulary size México: %d' % vocab_size_mx)\n",
    "\n",
    "# encode data\n",
    "trainX_mx = encode_text(tokenizer_mx, x_train_mx, length_mx)\n",
    "print(trainX_mx.shape)\n",
    "\n",
    "\n",
    "testX_mx = encode_text(tokenizer_mx, x_test_mx, length_mx)\n",
    "print(testX_mx.shape)"
   ]
  },
  {
   "cell_type": "code",
   "execution_count": 9,
   "metadata": {},
   "outputs": [],
   "source": [
    "tokenizer_mx.word_index\n",
    "vocabulary_inv_mx = dict((v, k) for k, v in tokenizer_mx.word_index.items())\n",
    "vocabulary_inv_mx[0] = \"<PAD/>\"\n"
   ]
  },
  {
   "cell_type": "code",
   "execution_count": 11,
   "metadata": {},
   "outputs": [],
   "source": [
    "# pesos \n",
    "embedding_weights_mx = {key: modelo_google[word] if word in modelo_google else\n",
    "                          np.random.uniform(-0.25, 0.25, modelo_google.vector_size)\n",
    "                     for key, word in vocabulary_inv_mx.items()}\n",
    "\n",
    "weights_mx = np.array([embedding_weights_mx[i] for i in range(len(embedding_weights_mx))])"
   ]
  },
  {
   "cell_type": "markdown",
   "metadata": {},
   "source": [
    "## España"
   ]
  },
  {
   "cell_type": "code",
   "execution_count": 11,
   "metadata": {},
   "outputs": [
    {
     "name": "stdout",
     "output_type": "stream",
     "text": [
      "(2400,)\n",
      "(2400,)\n",
      "(600,)\n",
      "(600,)\n"
     ]
    }
   ],
   "source": [
    "# Importando los textos\n",
    "import os\n",
    "# introducit path datos de entrenamiento\n",
    "os.chdir('C:\\\\Users\\\\h_air\\\\Documents\\\\Diplomado Deep Learning\\\\Estancia\\\\Datos\\\\Datos\\\\IberLEF19-IroSvA-training-20190331')\n",
    "train_es = pd.read_csv('irosva.es.training.csv');\n",
    "# introducit path datos de prueba\n",
    "os.chdir('C:\\\\Users\\\\h_air\\\\Documents\\\\Diplomado Deep Learning\\\\Estancia\\\\Datos\\\\Datos\\\\IberLEF19-IroSvA-test-20190420')\n",
    "test_nolabel_es = pd.read_csv('irosva.es - irosva.es.test.csv');\n",
    "# introducit path etiquetas verdaderas de prueba\n",
    "os.chdir('C:\\\\Users\\\\h_air\\\\Documents\\\\Diplomado Deep Learning\\\\Estancia\\\\Datos\\\\Datos\\\\IberLEF19-IroSvA-test-truth-20190420')\n",
    "test_label_es = pd.read_csv('irosva.es.test.truth.csv');\n",
    "\n",
    "test_es = pd.merge(test_nolabel_es, test_label_es, on='ID')\n",
    "\n",
    "x_train_es = train_es[\"MESSAGE\"]\n",
    "x_test_es = test_es[\"MESSAGE\"]\n",
    "y_train_es = train_es['IS_IRONIC']\n",
    "y_test_es = test_es['IS_IRONIC_y']\n",
    "\n",
    "#Limpiando datos de entrenamiento\n",
    "num = x_train_es.size\n",
    "# Lista para guardar twits limpios\n",
    "clean_train = []\n",
    "for i in range( 0, num):\n",
    "    clean_train.append(review_to_words(x_train_es.values[i]))\n",
    "x_train_es = clean_train\n",
    "\n",
    "num= x_test_es.size\n",
    "clean_test_train = []\n",
    "for i in range( 0, num):\n",
    "    clean_test_train.append( review_to_words(x_test_es.values[i] ) )\n",
    "x_test_es= clean_test_train\n",
    "\n",
    "x_train_es = train_es[\"TOPIC\"].astype(str).str.cat(x_train_es, sep=' ')\n",
    "x_test_es = test_es[\"TOPIC_y\"].astype(str).str.cat(x_test_es, sep=' ')\n",
    "\n",
    "x_test_mx# Datos de entrenamient y de prueba ya pre-procesados\n",
    "\n",
    "x_train_es= pd.Series(x_train_es)\n",
    "y_train_es = pd.Series(y_train_es)\n",
    "x_test_es = pd.Series(x_test_es)\n",
    "y_test_es = pd.Series(y_test_es)\n",
    "\n",
    "print(x_train_es.shape)\n",
    "print(y_train_es.shape)\n",
    "print(x_test_es.shape)\n",
    "print(y_test_es.shape)\n"
   ]
  },
  {
   "cell_type": "code",
   "execution_count": 12,
   "metadata": {},
   "outputs": [
    {
     "name": "stdout",
     "output_type": "stream",
     "text": [
      "Max document length España: 38\n",
      "Vocabulary size España: 6995\n",
      "(2400, 38)\n",
      "(600, 38)\n"
     ]
    }
   ],
   "source": [
    "# create tokenizer\n",
    "tokenizer_es = create_tokenizer(x_train_es)\n",
    "# calculate max document length\n",
    "length_es = max_length(x_train_es)\n",
    "# calculate vocabulary size\n",
    "vocab_size_es = len(tokenizer_es.word_index) + 1\n",
    "print('Max document length España: %d' % length_es)\n",
    "print('Vocabulary size España: %d' % vocab_size_es)\n",
    "\n",
    "# encode data\n",
    "trainX_es = encode_text(tokenizer_es, x_train_es, length_es)\n",
    "print(trainX_es.shape)\n",
    "\n",
    "\n",
    "testX_es = encode_text(tokenizer_es, x_test_es, length_es)\n",
    "print(testX_es.shape)\n",
    "\n",
    "tokenizer_es.word_index\n",
    "vocabulary_inv_es = dict((v, k) for k, v in tokenizer_es.word_index.items())\n",
    "vocabulary_inv_es[0] = \"<PAD/>\"\n",
    "\n"
   ]
  },
  {
   "cell_type": "code",
   "execution_count": null,
   "metadata": {},
   "outputs": [],
   "source": [
    "# pesos \n",
    "embedding_weights_es = {key: modelo_google[word] if word in modelo_google else\n",
    "                          np.random.uniform(-0.25, 0.25, modelo_google.vector_size)\n",
    "                     for key, word in vocabulary_inv_es.items()}\n",
    "\n",
    "weights_es = np.array([embedding_weights_es[i] for i in range(len(embedding_weights_es))])"
   ]
  },
  {
   "cell_type": "markdown",
   "metadata": {},
   "source": [
    "## Cuba"
   ]
  },
  {
   "cell_type": "code",
   "execution_count": 13,
   "metadata": {},
   "outputs": [
    {
     "name": "stdout",
     "output_type": "stream",
     "text": [
      "(2400,)\n",
      "(2400,)\n",
      "(600,)\n",
      "(600,)\n"
     ]
    }
   ],
   "source": [
    "# Importando los textos\n",
    "import os\n",
    "# introducit path datos de entrenamiento\n",
    "os.chdir('C:\\\\Users\\\\h_air\\\\Documents\\\\Diplomado Deep Learning\\\\Estancia\\\\Datos\\\\Datos\\\\IberLEF19-IroSvA-training-20190331')\n",
    "train_cu = pd.read_csv('irosva.cu.training.csv');\n",
    "# introducit path datos de prueba\n",
    "os.chdir('C:\\\\Users\\\\h_air\\\\Documents\\\\Diplomado Deep Learning\\\\Estancia\\\\Datos\\\\Datos\\\\IberLEF19-IroSvA-test-20190420')\n",
    "test_nolabel_cu = pd.read_csv('irosva.cu - irosva.cu.test.csv');\n",
    "# introducit path etiquetas verdaderas de prueba\n",
    "os.chdir('C:\\\\Users\\\\h_air\\\\Documents\\\\Diplomado Deep Learning\\\\Estancia\\\\Datos\\\\Datos\\\\IberLEF19-IroSvA-test-truth-20190420')\n",
    "test_label_cu = pd.read_csv('irosva.cu.test.truth.csv');\n",
    "\n",
    "test_cu = pd.merge(test_nolabel_cu, test_label_cu, on='ID')\n",
    "\n",
    "x_train_cu = train_cu[\"MESSAGE\"]\n",
    "x_test_cu = test_cu[\"MESSAGE\"]\n",
    "y_train_cu = train_cu['IS_IRONIC']\n",
    "y_test_cu = test_cu['IS_IRONIC_y']\n",
    "\n",
    "#Limpiando datos de entrenamiento\n",
    "num = x_train_cu.size\n",
    "# Lista para guardar twits limpios\n",
    "clean_train = []\n",
    "for i in range( 0, num):\n",
    "    clean_train.append(review_to_words2(x_train_cu.values[i]))\n",
    "x_train_cu = clean_train\n",
    "\n",
    "num= x_test_cu.size\n",
    "clean_test_train = []\n",
    "for i in range( 0, num):\n",
    "    clean_test_train.append( review_to_words2(x_test_cu.values[i] ) )\n",
    "x_test_cu= clean_test_train\n",
    "\n",
    "x_train_cu = train_cu[\"TOPIC\"].astype(str).str.cat(x_train_cu, sep=' ')\n",
    "x_test_cu = test_cu[\"TOPIC_y\"].astype(str).str.cat(x_test_cu, sep=' ')\n",
    "\n",
    "x_test_mx# Datos de entrenamient y de prueba ya pre-procesados\n",
    "\n",
    "x_train_cu= pd.Series(x_train_cu)\n",
    "y_train_cu = pd.Series(y_train_cu)\n",
    "x_test_cu = pd.Series(x_test_cu)\n",
    "y_test_cu = pd.Series(y_test_cu)\n",
    "\n",
    "print(x_train_cu.shape)\n",
    "print(y_train_cu.shape)\n",
    "print(x_test_cu.shape)\n",
    "print(y_test_cu.shape)"
   ]
  },
  {
   "cell_type": "code",
   "execution_count": 14,
   "metadata": {},
   "outputs": [
    {
     "name": "stdout",
     "output_type": "stream",
     "text": [
      "Max document length Cuba: 41\n",
      "Vocabulary size Cuba: 9304\n",
      "(2400, 41)\n",
      "(600, 41)\n"
     ]
    }
   ],
   "source": [
    "# create tokenizer\n",
    "tokenizer_cu = create_tokenizer(x_train_cu)\n",
    "# calculate max document length\n",
    "length_cu = max_length(x_train_cu)\n",
    "# calculate vocabulary size\n",
    "vocab_size_cu = len(tokenizer_cu.word_index) + 1\n",
    "print('Max document length Cuba: %d' % length_cu)\n",
    "print('Vocabulary size Cuba: %d' % vocab_size_cu)\n",
    "\n",
    "# encode data\n",
    "trainX_cu = encode_text(tokenizer_cu, x_train_cu, length_cu)\n",
    "print(trainX_cu.shape)\n",
    "\n",
    "\n",
    "testX_cu = encode_text(tokenizer_cu, x_test_cu, length_cu)\n",
    "print(testX_cu.shape)\n",
    "\n",
    "tokenizer_cu.word_index\n",
    "vocabulary_inv_cu = dict((v, k) for k, v in tokenizer_cu.word_index.items())\n",
    "vocabulary_inv_cu[0] = \"<PAD/>\"\n",
    "\n"
   ]
  },
  {
   "cell_type": "code",
   "execution_count": null,
   "metadata": {},
   "outputs": [],
   "source": [
    "# pesos \n",
    "embedding_weights_cu = {key: modelo_google[word] if word in modelo_google else\n",
    "                          np.random.uniform(-0.25, 0.25, modelo_google.vector_size)\n",
    "                     for key, word in vocabulary_inv_cu.items()}\n",
    "\n",
    "weights_cu = np.array([embedding_weights_cu[i] for i in range(len(embedding_weights_cu))])"
   ]
  },
  {
   "cell_type": "code",
   "execution_count": 16,
   "metadata": {},
   "outputs": [],
   "source": [
    "del modelo_google"
   ]
  },
  {
   "cell_type": "markdown",
   "metadata": {},
   "source": [
    "### Clasificador CNN México"
   ]
  },
  {
   "cell_type": "code",
   "execution_count": 10,
   "metadata": {},
   "outputs": [],
   "source": [
    "# one hot representación targets\n",
    "from keras.utils import to_categorical\n",
    "y_train_label_mx = to_categorical(y_train)\n",
    "y_test_label_mx  = to_categorical(y_test)"
   ]
  },
  {
   "cell_type": "code",
   "execution_count": 16,
   "metadata": {},
   "outputs": [],
   "source": [
    "# define the model\n",
    "def define_model_mx1(length, vocab_size, n ):\n",
    "    \n",
    "\n",
    "\n",
    "\t# channel 1\n",
    "\tnp.random.seed(n)\n",
    "\tinputs1 = Input(shape=(length,))\n",
    "\tembedding1 = Embedding(vocab_size, 300)(inputs1)\n",
    "\tconv1 = Conv1D(filters=100, kernel_size=4, activation='relu')(embedding1)\n",
    "\tpool1 = GlobalMaxPooling1D()(conv1)\n",
    "\tdrop1 = Dropout(0.5)(pool1) \n",
    "\t# interpretation\n",
    "\tdense1 = Dense(10, activation='relu')(drop1)\n",
    "\toutputs = Dense(2, activation='softmax')(dense1)\n",
    "\tmodel = Model(inputs1, outputs=outputs)\n",
    "\t# compile\n",
    "\tmodel.compile(loss='binary_crossentropy', optimizer='adam', metrics=['accuracy'])\n",
    "\t# summarize\n",
    "\tprint(model.summary())\n",
    "\t\n",
    "\treturn model"
   ]
  },
  {
   "cell_type": "code",
   "execution_count": 17,
   "metadata": {},
   "outputs": [],
   "source": [
    "from sklearn.utils import class_weight\n",
    "class_weights_mx = class_weight.compute_class_weight('balanced',\n",
    "                                                 np.unique(array(y_train_label_mx)),\n",
    "                                                 y_train)"
   ]
  },
  {
   "cell_type": "code",
   "execution_count": 38,
   "metadata": {},
   "outputs": [],
   "source": [
    "del model_mx, hist_mx"
   ]
  },
  {
   "cell_type": "code",
   "execution_count": 18,
   "metadata": {},
   "outputs": [
    {
     "name": "stderr",
     "output_type": "stream",
     "text": [
      "WARNING: Logging before flag parsing goes to stderr.\n",
      "W0710 11:55:10.738850  7060 deprecation_wrapper.py:119] From C:\\Users\\h_air\\Anaconda3\\envs\\tensorflow-gpu\\lib\\site-packages\\keras\\backend\\tensorflow_backend.py:74: The name tf.get_default_graph is deprecated. Please use tf.compat.v1.get_default_graph instead.\n",
      "\n",
      "W0710 11:55:10.750820  7060 deprecation_wrapper.py:119] From C:\\Users\\h_air\\Anaconda3\\envs\\tensorflow-gpu\\lib\\site-packages\\keras\\backend\\tensorflow_backend.py:517: The name tf.placeholder is deprecated. Please use tf.compat.v1.placeholder instead.\n",
      "\n",
      "W0710 11:55:10.752815  7060 deprecation_wrapper.py:119] From C:\\Users\\h_air\\Anaconda3\\envs\\tensorflow-gpu\\lib\\site-packages\\keras\\backend\\tensorflow_backend.py:4138: The name tf.random_uniform is deprecated. Please use tf.random.uniform instead.\n",
      "\n",
      "W0710 11:55:10.780740  7060 deprecation_wrapper.py:119] From C:\\Users\\h_air\\Anaconda3\\envs\\tensorflow-gpu\\lib\\site-packages\\keras\\backend\\tensorflow_backend.py:133: The name tf.placeholder_with_default is deprecated. Please use tf.compat.v1.placeholder_with_default instead.\n",
      "\n",
      "W0710 11:55:10.785759  7060 deprecation.py:506] From C:\\Users\\h_air\\Anaconda3\\envs\\tensorflow-gpu\\lib\\site-packages\\keras\\backend\\tensorflow_backend.py:3445: calling dropout (from tensorflow.python.ops.nn_ops) with keep_prob is deprecated and will be removed in a future version.\n",
      "Instructions for updating:\n",
      "Please use `rate` instead of `keep_prob`. Rate should be set to `rate = 1 - keep_prob`.\n",
      "W0710 11:55:10.817643  7060 deprecation_wrapper.py:119] From C:\\Users\\h_air\\Anaconda3\\envs\\tensorflow-gpu\\lib\\site-packages\\keras\\optimizers.py:790: The name tf.train.Optimizer is deprecated. Please use tf.compat.v1.train.Optimizer instead.\n",
      "\n",
      "W0710 11:55:10.834602  7060 deprecation_wrapper.py:119] From C:\\Users\\h_air\\Anaconda3\\envs\\tensorflow-gpu\\lib\\site-packages\\keras\\backend\\tensorflow_backend.py:3376: The name tf.log is deprecated. Please use tf.math.log instead.\n",
      "\n",
      "W0710 11:55:10.841581  7060 deprecation.py:323] From C:\\Users\\h_air\\Anaconda3\\envs\\tensorflow-gpu\\lib\\site-packages\\tensorflow\\python\\ops\\nn_impl.py:180: add_dispatch_support.<locals>.wrapper (from tensorflow.python.ops.array_ops) is deprecated and will be removed in a future version.\n",
      "Instructions for updating:\n",
      "Use tf.where in 2.0, which has the same broadcast rule as np.where\n"
     ]
    },
    {
     "name": "stdout",
     "output_type": "stream",
     "text": [
      "_________________________________________________________________\n",
      "Layer (type)                 Output Shape              Param #   \n",
      "=================================================================\n",
      "input_1 (InputLayer)         (None, 36)                0         \n",
      "_________________________________________________________________\n",
      "embedding_1 (Embedding)      (None, 36, 300)           2484300   \n",
      "_________________________________________________________________\n",
      "conv1d_1 (Conv1D)            (None, 33, 100)           120100    \n",
      "_________________________________________________________________\n",
      "global_max_pooling1d_1 (Glob (None, 100)               0         \n",
      "_________________________________________________________________\n",
      "dropout_1 (Dropout)          (None, 100)               0         \n",
      "_________________________________________________________________\n",
      "dense_1 (Dense)              (None, 10)                1010      \n",
      "_________________________________________________________________\n",
      "dense_2 (Dense)              (None, 2)                 22        \n",
      "=================================================================\n",
      "Total params: 2,605,432\n",
      "Trainable params: 2,605,432\n",
      "Non-trainable params: 0\n",
      "_________________________________________________________________\n",
      "None\n",
      "Train on 1920 samples, validate on 480 samples\n",
      "Epoch 1/6\n",
      "1920/1920 [==============================] - 7s 4ms/step - loss: 0.6696 - acc: 0.6063 - val_loss: 0.5275 - val_acc: 0.8854\n",
      "Epoch 2/6\n",
      "1920/1920 [==============================] - 0s 194us/step - loss: 0.5974 - acc: 0.6370 - val_loss: 0.5336 - val_acc: 0.8833\n",
      "Epoch 3/6\n",
      "1920/1920 [==============================] - 0s 193us/step - loss: 0.4005 - acc: 0.8734 - val_loss: 0.4771 - val_acc: 0.8250\n",
      "Epoch 4/6\n",
      "1920/1920 [==============================] - 0s 194us/step - loss: 0.1278 - acc: 0.9776 - val_loss: 0.5142 - val_acc: 0.7729\n",
      "Epoch 5/6\n",
      "1920/1920 [==============================] - 0s 193us/step - loss: 0.0341 - acc: 0.9938 - val_loss: 0.5580 - val_acc: 0.7854\n",
      "Epoch 6/6\n",
      "1920/1920 [==============================] - 0s 203us/step - loss: 0.0157 - acc: 0.9964 - val_loss: 0.6320 - val_acc: 0.7646\n"
     ]
    }
   ],
   "source": [
    "model_mx = define_model_mx1(length_mx, vocab_size_mx, 16) #16\n",
    "# fit model\n",
    "\n",
    "\n",
    "hist_mx = model_mx.fit(trainX_mx,  array(y_train_label_mx), epochs=6, batch_size=50, validation_split=.2, class_weight= class_weights_mx)\n"
   ]
  },
  {
   "cell_type": "code",
   "execution_count": 19,
   "metadata": {},
   "outputs": [
    {
     "data": {
      "image/png": "[encoded data removed]",
      "text/plain": [
       "<Figure size 864x360 with 2 Axes>"
      ]
     },
     "metadata": {
      "needs_background": "light"
     },
     "output_type": "display_data"
    }
   ],
   "source": [
    "\n",
    "def plot_history(history):\n",
    "        acc = history.history[\"acc\"]\n",
    "        val_acc = history.history[\"val_acc\"]\n",
    "        loss = history.history[\"loss\"]\n",
    "        val_loss = history.history[\"val_loss\"]\n",
    "        x = range(1, len(acc) + 1)\n",
    "\n",
    "        plt.figure(figsize=(12, 5))\n",
    "        plt.subplot(1, 2, 1)\n",
    "        plt.plot(x, acc, \"b\", label=\"Training acc\")\n",
    "        plt.plot(x, val_acc, \"r\", label=\"Validation acc\")\n",
    "        plt.title(\"Training and validation accuracy\")\n",
    "        plt.legend()\n",
    "        plt.subplot(1, 2, 2)\n",
    "        plt.plot(x, loss, \"b\", label=\"Training loss\")\n",
    "        plt.plot(x, val_loss, \"r\", label=\"Validation loss\")\n",
    "        plt.title(\"Training and validation loss\")\n",
    "        plt.legend()\n",
    "    \n",
    "plot_history(history=hist_mx)\n"
   ]
  },
  {
   "cell_type": "code",
   "execution_count": 12,
   "metadata": {},
   "outputs": [
    {
     "name": "stdout",
     "output_type": "stream",
     "text": [
      "[[311  90]\n",
      " [ 99 100]]\n",
      "F1 test: 0.6405465973963402\n"
     ]
    },
    {
     "data": {
      "image/png": "[encoded data removed]",
      "text/plain": [
       "<Figure size 792x648 with 2 Axes>"
      ]
     },
     "metadata": {
      "needs_background": "light"
     },
     "output_type": "display_data"
    }
   ],
   "source": [
    "##########################\n",
    "# Tabla de confusión\n",
    "##########################\n",
    "from sklearn.metrics import confusion_matrix, precision_score, recall_score \n",
    "from sklearn.metrics import f1_score, cohen_kappa_score\n",
    "import seaborn as sns \n",
    "\n",
    "y_predict_mx = model_mx.predict(testX_mx)\n",
    "\n",
    "test_true_labels_mx      = np.argmax(y_test_label_mx, axis=1)\n",
    "test_predicted_labels_mx = np.argmax(y_predict_mx,axis=1)\n",
    "\n",
    "\n",
    "%matplotlib inline\n",
    "C = confusion_matrix(test_true_labels_mx, test_predicted_labels_mx)\n",
    "print(C)\n",
    "\n",
    "##########################\n",
    "# F1\n",
    "##########################\n",
    "print('F1 test:', f1_score(test_true_labels_mx, test_predicted_labels_mx,  average='macro'))\n",
    "\n",
    "\n",
    "f, ax = plt.subplots(figsize=(11, 9))\n",
    "sns.set()\n",
    "cmap = sns.diverging_palette(220, 10, as_cmap=True)\n",
    "ax = sns.heatmap(C, cmap=cmap, square=True,\n",
    "                 annot=True, fmt='d', linewidths=.5)\n",
    "ax.set_title('Matriz de Confusión')\n",
    "plt.show()\n",
    "\n",
    "\n",
    "#F1 test:  0.6405465973963402 16semillas,6 epocas"
   ]
  },
  {
   "cell_type": "code",
   "execution_count": 11,
   "metadata": {},
   "outputs": [
    {
     "name": "stderr",
     "output_type": "stream",
     "text": [
      "WARNING: Logging before flag parsing goes to stderr.\n",
      "W0711 12:14:43.745559 16644 deprecation_wrapper.py:119] From C:\\Users\\h_air\\Anaconda3\\envs\\tensorflow-gpu\\lib\\site-packages\\keras\\backend\\tensorflow_backend.py:517: The name tf.placeholder is deprecated. Please use tf.compat.v1.placeholder instead.\n",
      "\n",
      "W0711 12:14:43.991924 16644 deprecation_wrapper.py:119] From C:\\Users\\h_air\\Anaconda3\\envs\\tensorflow-gpu\\lib\\site-packages\\keras\\backend\\tensorflow_backend.py:4138: The name tf.random_uniform is deprecated. Please use tf.random.uniform instead.\n",
      "\n",
      "W0711 12:14:44.194498 16644 deprecation_wrapper.py:119] From C:\\Users\\h_air\\Anaconda3\\envs\\tensorflow-gpu\\lib\\site-packages\\keras\\backend\\tensorflow_backend.py:131: The name tf.get_default_graph is deprecated. Please use tf.compat.v1.get_default_graph instead.\n",
      "\n",
      "W0711 12:14:44.194498 16644 deprecation_wrapper.py:119] From C:\\Users\\h_air\\Anaconda3\\envs\\tensorflow-gpu\\lib\\site-packages\\keras\\backend\\tensorflow_backend.py:133: The name tf.placeholder_with_default is deprecated. Please use tf.compat.v1.placeholder_with_default instead.\n",
      "\n",
      "W0711 12:14:44.202478 16644 deprecation.py:506] From C:\\Users\\h_air\\Anaconda3\\envs\\tensorflow-gpu\\lib\\site-packages\\keras\\backend\\tensorflow_backend.py:3445: calling dropout (from tensorflow.python.ops.nn_ops) with keep_prob is deprecated and will be removed in a future version.\n",
      "Instructions for updating:\n",
      "Please use `rate` instead of `keep_prob`. Rate should be set to `rate = 1 - keep_prob`.\n",
      "W0711 12:14:44.393966 16644 deprecation_wrapper.py:119] From C:\\Users\\h_air\\Anaconda3\\envs\\tensorflow-gpu\\lib\\site-packages\\keras\\backend\\tensorflow_backend.py:174: The name tf.get_default_session is deprecated. Please use tf.compat.v1.get_default_session instead.\n",
      "\n",
      "W0711 12:15:00.984575 16644 deprecation_wrapper.py:119] From C:\\Users\\h_air\\Anaconda3\\envs\\tensorflow-gpu\\lib\\site-packages\\keras\\optimizers.py:790: The name tf.train.Optimizer is deprecated. Please use tf.compat.v1.train.Optimizer instead.\n",
      "\n",
      "W0711 12:15:00.990558 16644 deprecation.py:323] From C:\\Users\\h_air\\Anaconda3\\envs\\tensorflow-gpu\\lib\\site-packages\\tensorflow\\python\\ops\\nn_impl.py:180: add_dispatch_support.<locals>.wrapper (from tensorflow.python.ops.array_ops) is deprecated and will be removed in a future version.\n",
      "Instructions for updating:\n",
      "Use tf.where in 2.0, which has the same broadcast rule as np.where\n"
     ]
    }
   ],
   "source": [
    "from keras.models import load_model\n",
    "DATA_PATH='C:\\\\Users\\\\h_air\\\\Documents\\\\Diplomado Deep Learning\\\\Estancia\\\\Datos\\\\Datos\\\\'\n",
    "#model_mx.save(DATA_PATH+'Cnn_mx_basico.h5')\n",
    "\n",
    "model_mx = load_model(DATA_PATH+'Cnn_mx_basico.h5') # Cargar"
   ]
  },
  {
   "cell_type": "markdown",
   "metadata": {},
   "source": [
    "### CNN-SVM"
   ]
  },
  {
   "cell_type": "markdown",
   "metadata": {},
   "source": [
    "En proceso...\n"
   ]
  },
  {
   "cell_type": "code",
   "execution_count": 50,
   "metadata": {},
   "outputs": [
    {
     "name": "stdout",
     "output_type": "stream",
     "text": [
      "(2400, 10)\n",
      "(600, 10)\n"
     ]
    }
   ],
   "source": [
    "model_feat = Model(inputs=model_mx.input,outputs=model_mx.get_layer('global_max_pooling1d_1').output)\n",
    "\n",
    "feat_train = model_feat.predict(trainX_mx)\n",
    "print(feat_train.shape)\n",
    "\n",
    "feat_test = model_feat.predict(testX_mx)\n",
    "print(feat_test.shape)\n"
   ]
  },
  {
   "cell_type": "code",
   "execution_count": 51,
   "metadata": {},
   "outputs": [],
   "source": [
    "del svm_mx"
   ]
  },
  {
   "cell_type": "code",
   "execution_count": 52,
   "metadata": {},
   "outputs": [
    {
     "name": "stderr",
     "output_type": "stream",
     "text": [
      "C:\\Users\\h_air\\Anaconda3\\envs\\tensorflow-gpu\\lib\\site-packages\\sklearn\\svm\\base.py:931: ConvergenceWarning: Liblinear failed to converge, increase the number of iterations.\n",
      "  \"the number of iterations.\", ConvergenceWarning)\n",
      "C:\\Users\\h_air\\Anaconda3\\envs\\tensorflow-gpu\\lib\\site-packages\\sklearn\\svm\\base.py:931: ConvergenceWarning: Liblinear failed to converge, increase the number of iterations.\n",
      "  \"the number of iterations.\", ConvergenceWarning)\n",
      "C:\\Users\\h_air\\Anaconda3\\envs\\tensorflow-gpu\\lib\\site-packages\\sklearn\\svm\\base.py:931: ConvergenceWarning: Liblinear failed to converge, increase the number of iterations.\n",
      "  \"the number of iterations.\", ConvergenceWarning)\n",
      "C:\\Users\\h_air\\Anaconda3\\envs\\tensorflow-gpu\\lib\\site-packages\\sklearn\\svm\\base.py:931: ConvergenceWarning: Liblinear failed to converge, increase the number of iterations.\n",
      "  \"the number of iterations.\", ConvergenceWarning)\n",
      "C:\\Users\\h_air\\Anaconda3\\envs\\tensorflow-gpu\\lib\\site-packages\\sklearn\\svm\\base.py:931: ConvergenceWarning: Liblinear failed to converge, increase the number of iterations.\n",
      "  \"the number of iterations.\", ConvergenceWarning)\n",
      "C:\\Users\\h_air\\Anaconda3\\envs\\tensorflow-gpu\\lib\\site-packages\\sklearn\\svm\\base.py:931: ConvergenceWarning: Liblinear failed to converge, increase the number of iterations.\n",
      "  \"the number of iterations.\", ConvergenceWarning)\n",
      "C:\\Users\\h_air\\Anaconda3\\envs\\tensorflow-gpu\\lib\\site-packages\\sklearn\\svm\\base.py:931: ConvergenceWarning: Liblinear failed to converge, increase the number of iterations.\n",
      "  \"the number of iterations.\", ConvergenceWarning)\n",
      "C:\\Users\\h_air\\Anaconda3\\envs\\tensorflow-gpu\\lib\\site-packages\\sklearn\\svm\\base.py:931: ConvergenceWarning: Liblinear failed to converge, increase the number of iterations.\n",
      "  \"the number of iterations.\", ConvergenceWarning)\n",
      "C:\\Users\\h_air\\Anaconda3\\envs\\tensorflow-gpu\\lib\\site-packages\\sklearn\\svm\\base.py:931: ConvergenceWarning: Liblinear failed to converge, increase the number of iterations.\n",
      "  \"the number of iterations.\", ConvergenceWarning)\n",
      "C:\\Users\\h_air\\Anaconda3\\envs\\tensorflow-gpu\\lib\\site-packages\\sklearn\\svm\\base.py:931: ConvergenceWarning: Liblinear failed to converge, increase the number of iterations.\n",
      "  \"the number of iterations.\", ConvergenceWarning)\n",
      "C:\\Users\\h_air\\Anaconda3\\envs\\tensorflow-gpu\\lib\\site-packages\\sklearn\\svm\\base.py:931: ConvergenceWarning: Liblinear failed to converge, increase the number of iterations.\n",
      "  \"the number of iterations.\", ConvergenceWarning)\n",
      "C:\\Users\\h_air\\Anaconda3\\envs\\tensorflow-gpu\\lib\\site-packages\\sklearn\\svm\\base.py:931: ConvergenceWarning: Liblinear failed to converge, increase the number of iterations.\n",
      "  \"the number of iterations.\", ConvergenceWarning)\n",
      "C:\\Users\\h_air\\Anaconda3\\envs\\tensorflow-gpu\\lib\\site-packages\\sklearn\\svm\\base.py:931: ConvergenceWarning: Liblinear failed to converge, increase the number of iterations.\n",
      "  \"the number of iterations.\", ConvergenceWarning)\n",
      "C:\\Users\\h_air\\Anaconda3\\envs\\tensorflow-gpu\\lib\\site-packages\\sklearn\\svm\\base.py:931: ConvergenceWarning: Liblinear failed to converge, increase the number of iterations.\n",
      "  \"the number of iterations.\", ConvergenceWarning)\n",
      "C:\\Users\\h_air\\Anaconda3\\envs\\tensorflow-gpu\\lib\\site-packages\\sklearn\\svm\\base.py:931: ConvergenceWarning: Liblinear failed to converge, increase the number of iterations.\n",
      "  \"the number of iterations.\", ConvergenceWarning)\n",
      "C:\\Users\\h_air\\Anaconda3\\envs\\tensorflow-gpu\\lib\\site-packages\\sklearn\\svm\\base.py:931: ConvergenceWarning: Liblinear failed to converge, increase the number of iterations.\n",
      "  \"the number of iterations.\", ConvergenceWarning)\n",
      "C:\\Users\\h_air\\Anaconda3\\envs\\tensorflow-gpu\\lib\\site-packages\\sklearn\\svm\\base.py:931: ConvergenceWarning: Liblinear failed to converge, increase the number of iterations.\n",
      "  \"the number of iterations.\", ConvergenceWarning)\n",
      "C:\\Users\\h_air\\Anaconda3\\envs\\tensorflow-gpu\\lib\\site-packages\\sklearn\\svm\\base.py:931: ConvergenceWarning: Liblinear failed to converge, increase the number of iterations.\n",
      "  \"the number of iterations.\", ConvergenceWarning)\n",
      "C:\\Users\\h_air\\Anaconda3\\envs\\tensorflow-gpu\\lib\\site-packages\\sklearn\\svm\\base.py:931: ConvergenceWarning: Liblinear failed to converge, increase the number of iterations.\n",
      "  \"the number of iterations.\", ConvergenceWarning)\n",
      "C:\\Users\\h_air\\Anaconda3\\envs\\tensorflow-gpu\\lib\\site-packages\\sklearn\\svm\\base.py:931: ConvergenceWarning: Liblinear failed to converge, increase the number of iterations.\n",
      "  \"the number of iterations.\", ConvergenceWarning)\n",
      "C:\\Users\\h_air\\Anaconda3\\envs\\tensorflow-gpu\\lib\\site-packages\\sklearn\\svm\\base.py:931: ConvergenceWarning: Liblinear failed to converge, increase the number of iterations.\n",
      "  \"the number of iterations.\", ConvergenceWarning)\n",
      "C:\\Users\\h_air\\Anaconda3\\envs\\tensorflow-gpu\\lib\\site-packages\\sklearn\\svm\\base.py:931: ConvergenceWarning: Liblinear failed to converge, increase the number of iterations.\n",
      "  \"the number of iterations.\", ConvergenceWarning)\n",
      "C:\\Users\\h_air\\Anaconda3\\envs\\tensorflow-gpu\\lib\\site-packages\\sklearn\\svm\\base.py:931: ConvergenceWarning: Liblinear failed to converge, increase the number of iterations.\n",
      "  \"the number of iterations.\", ConvergenceWarning)\n",
      "C:\\Users\\h_air\\Anaconda3\\envs\\tensorflow-gpu\\lib\\site-packages\\sklearn\\svm\\base.py:931: ConvergenceWarning: Liblinear failed to converge, increase the number of iterations.\n",
      "  \"the number of iterations.\", ConvergenceWarning)\n",
      "C:\\Users\\h_air\\Anaconda3\\envs\\tensorflow-gpu\\lib\\site-packages\\sklearn\\svm\\base.py:931: ConvergenceWarning: Liblinear failed to converge, increase the number of iterations.\n",
      "  \"the number of iterations.\", ConvergenceWarning)\n",
      "C:\\Users\\h_air\\Anaconda3\\envs\\tensorflow-gpu\\lib\\site-packages\\sklearn\\svm\\base.py:931: ConvergenceWarning: Liblinear failed to converge, increase the number of iterations.\n",
      "  \"the number of iterations.\", ConvergenceWarning)\n",
      "C:\\Users\\h_air\\Anaconda3\\envs\\tensorflow-gpu\\lib\\site-packages\\sklearn\\svm\\base.py:931: ConvergenceWarning: Liblinear failed to converge, increase the number of iterations.\n",
      "  \"the number of iterations.\", ConvergenceWarning)\n",
      "C:\\Users\\h_air\\Anaconda3\\envs\\tensorflow-gpu\\lib\\site-packages\\sklearn\\svm\\base.py:931: ConvergenceWarning: Liblinear failed to converge, increase the number of iterations.\n",
      "  \"the number of iterations.\", ConvergenceWarning)\n",
      "C:\\Users\\h_air\\Anaconda3\\envs\\tensorflow-gpu\\lib\\site-packages\\sklearn\\svm\\base.py:931: ConvergenceWarning: Liblinear failed to converge, increase the number of iterations.\n",
      "  \"the number of iterations.\", ConvergenceWarning)\n",
      "C:\\Users\\h_air\\Anaconda3\\envs\\tensorflow-gpu\\lib\\site-packages\\sklearn\\svm\\base.py:931: ConvergenceWarning: Liblinear failed to converge, increase the number of iterations.\n",
      "  \"the number of iterations.\", ConvergenceWarning)\n",
      "C:\\Users\\h_air\\Anaconda3\\envs\\tensorflow-gpu\\lib\\site-packages\\sklearn\\svm\\base.py:931: ConvergenceWarning: Liblinear failed to converge, increase the number of iterations.\n",
      "  \"the number of iterations.\", ConvergenceWarning)\n",
      "C:\\Users\\h_air\\Anaconda3\\envs\\tensorflow-gpu\\lib\\site-packages\\sklearn\\svm\\base.py:931: ConvergenceWarning: Liblinear failed to converge, increase the number of iterations.\n",
      "  \"the number of iterations.\", ConvergenceWarning)\n",
      "C:\\Users\\h_air\\Anaconda3\\envs\\tensorflow-gpu\\lib\\site-packages\\sklearn\\svm\\base.py:931: ConvergenceWarning: Liblinear failed to converge, increase the number of iterations.\n",
      "  \"the number of iterations.\", ConvergenceWarning)\n",
      "C:\\Users\\h_air\\Anaconda3\\envs\\tensorflow-gpu\\lib\\site-packages\\sklearn\\svm\\base.py:931: ConvergenceWarning: Liblinear failed to converge, increase the number of iterations.\n",
      "  \"the number of iterations.\", ConvergenceWarning)\n",
      "C:\\Users\\h_air\\Anaconda3\\envs\\tensorflow-gpu\\lib\\site-packages\\sklearn\\svm\\base.py:931: ConvergenceWarning: Liblinear failed to converge, increase the number of iterations.\n",
      "  \"the number of iterations.\", ConvergenceWarning)\n",
      "C:\\Users\\h_air\\Anaconda3\\envs\\tensorflow-gpu\\lib\\site-packages\\sklearn\\svm\\base.py:931: ConvergenceWarning: Liblinear failed to converge, increase the number of iterations.\n",
      "  \"the number of iterations.\", ConvergenceWarning)\n",
      "C:\\Users\\h_air\\Anaconda3\\envs\\tensorflow-gpu\\lib\\site-packages\\sklearn\\svm\\base.py:931: ConvergenceWarning: Liblinear failed to converge, increase the number of iterations.\n",
      "  \"the number of iterations.\", ConvergenceWarning)\n",
      "C:\\Users\\h_air\\Anaconda3\\envs\\tensorflow-gpu\\lib\\site-packages\\sklearn\\svm\\base.py:931: ConvergenceWarning: Liblinear failed to converge, increase the number of iterations.\n",
      "  \"the number of iterations.\", ConvergenceWarning)\n"
     ]
    },
    {
     "name": "stderr",
     "output_type": "stream",
     "text": [
      "C:\\Users\\h_air\\Anaconda3\\envs\\tensorflow-gpu\\lib\\site-packages\\sklearn\\svm\\base.py:931: ConvergenceWarning: Liblinear failed to converge, increase the number of iterations.\n",
      "  \"the number of iterations.\", ConvergenceWarning)\n",
      "C:\\Users\\h_air\\Anaconda3\\envs\\tensorflow-gpu\\lib\\site-packages\\sklearn\\svm\\base.py:931: ConvergenceWarning: Liblinear failed to converge, increase the number of iterations.\n",
      "  \"the number of iterations.\", ConvergenceWarning)\n",
      "C:\\Users\\h_air\\Anaconda3\\envs\\tensorflow-gpu\\lib\\site-packages\\sklearn\\svm\\base.py:931: ConvergenceWarning: Liblinear failed to converge, increase the number of iterations.\n",
      "  \"the number of iterations.\", ConvergenceWarning)\n"
     ]
    },
    {
     "name": "stdout",
     "output_type": "stream",
     "text": [
      "{'SVC__C': 8}\n",
      "Tiempo de procesamiento (secs):  8.855379819869995\n"
     ]
    },
    {
     "name": "stderr",
     "output_type": "stream",
     "text": [
      "C:\\Users\\h_air\\Anaconda3\\envs\\tensorflow-gpu\\lib\\site-packages\\sklearn\\svm\\base.py:931: ConvergenceWarning: Liblinear failed to converge, increase the number of iterations.\n",
      "  \"the number of iterations.\", ConvergenceWarning)\n",
      "C:\\Users\\h_air\\Anaconda3\\envs\\tensorflow-gpu\\lib\\site-packages\\sklearn\\svm\\base.py:931: ConvergenceWarning: Liblinear failed to converge, increase the number of iterations.\n",
      "  \"the number of iterations.\", ConvergenceWarning)\n"
     ]
    }
   ],
   "source": [
    "from sklearn.pipeline import Pipeline\n",
    "from sklearn.svm import LinearSVC\n",
    "from sklearn.model_selection import GridSearchCV\n",
    "from sklearn.preprocessing import StandardScaler\n",
    "import time\n",
    "tic=time.time()\n",
    "\n",
    "SVCpipe = Pipeline([('SVC',LinearSVC(class_weight=\"balanced\", random_state=1,verbose=0, max_iter=5000))])\n",
    "\n",
    "# Gridsearch to determine the value of C\n",
    "param_grid = {'SVC__C':np.arange(1,15,1)}\n",
    "linearSVC = GridSearchCV(SVCpipe,param_grid,cv=5,return_train_score=True, verbose=0)\n",
    "linearSVC.fit(feat_train, np.argmax(y_train_label_mx, axis=1))\n",
    "print(linearSVC.best_params_)\n",
    "#linearSVC.coef_\n",
    "#linearSVC.intercept_\n",
    "\n",
    "svm_mx = linearSVC.best_estimator_\n",
    "svm_mx.fit(feat_train, np.argmax(y_train_label_mx, axis=1))\n",
    "\n",
    "    \n",
    "print('Tiempo de procesamiento (secs): ', time.time()-tic)"
   ]
  },
  {
   "cell_type": "code",
   "execution_count": 39,
   "metadata": {},
   "outputs": [],
   "source": []
  },
  {
   "cell_type": "code",
   "execution_count": 54,
   "metadata": {},
   "outputs": [
    {
     "name": "stdout",
     "output_type": "stream",
     "text": [
      "[[334  67]\n",
      " [122  77]]\n",
      "F1 test: 0.6142214178553569\n"
     ]
    },
    {
     "data": {
      "image/png": "[encoded data removed]",
      "text/plain": [
       "<Figure size 792x648 with 2 Axes>"
      ]
     },
     "metadata": {
      "needs_background": "light"
     },
     "output_type": "display_data"
    }
   ],
   "source": [
    "##########################\n",
    "# Tabla de confusión\n",
    "##########################\n",
    "from sklearn.metrics import confusion_matrix, precision_score, recall_score \n",
    "from sklearn.metrics import f1_score, cohen_kappa_score\n",
    "import seaborn as sns \n",
    "\n",
    "y_predict_mx = svm_mx.predict(feat_test)\n",
    "\n",
    "test_true_labels_mx      = np.argmax(y_test_label_mx, axis=1)\n",
    "test_predicted_labels_mx = y_predict_mx\n",
    "\n",
    "\n",
    "%matplotlib inline\n",
    "C = confusion_matrix(test_true_labels_mx, test_predicted_labels_mx)\n",
    "print(C)\n",
    "\n",
    "##########################\n",
    "# F1\n",
    "##########################\n",
    "print('F1 test:', f1_score(test_true_labels_mx, test_predicted_labels_mx,  average='macro'))\n",
    "\n",
    "\n",
    "f, ax = plt.subplots(figsize=(11, 9))\n",
    "sns.set()\n",
    "cmap = sns.diverging_palette(220, 10, as_cmap=True)\n",
    "ax = sns.heatmap(C, cmap=cmap, square=True,\n",
    "                 annot=True, fmt='d', linewidths=.5)\n",
    "ax.set_title('Matriz de Confusión')\n",
    "plt.show()\n",
    "\n",
    "\n",
    "#F1 test:  0.6405465973963402 16semillas,6 epocas"
   ]
  },
  {
   "cell_type": "code",
   "execution_count": 22,
   "metadata": {},
   "outputs": [],
   "source": [
    "\n",
    "from keras.utils.vis_utils import plot_model\n",
    "plot_model(model_mx, show_shapes=True, to_file=DATA_PATH+'Cnn_mx_basico.png')"
   ]
  },
  {
   "cell_type": "markdown",
   "metadata": {},
   "source": [
    "### Clasificador España"
   ]
  },
  {
   "cell_type": "code",
   "execution_count": 23,
   "metadata": {},
   "outputs": [],
   "source": [
    "# one hot representación targets\n",
    "from keras.utils import to_categorical\n",
    "y_train_label_es = to_categorical(y_train_es)\n",
    "y_test_label_es  = to_categorical(y_test_es)"
   ]
  },
  {
   "cell_type": "code",
   "execution_count": 24,
   "metadata": {},
   "outputs": [],
   "source": [
    "# define the model\n",
    "def define_model_es1(length, vocab_size, n ):\n",
    "\t# channel 1\n",
    "\tnp.random.seed(n)\n",
    "\tinputs1 = Input(shape=(length,))\n",
    "\tembedding1 = Embedding(vocab_size, 300)(inputs1)\n",
    "\tconv1 = Conv1D(filters=100, kernel_size=4, activation='relu')(embedding1)\n",
    "\tpool1 = GlobalMaxPooling1D()(conv1)\n",
    "\tdrop1 = Dropout(0.5)(pool1) \n",
    "\t# interpretation\n",
    "\tdense1 = Dense(10, activation='relu')(drop1)\n",
    "\toutputs = Dense(2, activation='softmax')(dense1)\n",
    "\tmodel = Model(inputs1, outputs=outputs)\n",
    "\t# compile\n",
    "\tmodel.compile(loss='binary_crossentropy', optimizer='adam', metrics=['accuracy'])\n",
    "\t# summarize\n",
    "\tprint(model.summary())\n",
    "\t\n",
    "\treturn model"
   ]
  },
  {
   "cell_type": "code",
   "execution_count": 25,
   "metadata": {},
   "outputs": [],
   "source": [
    "from sklearn.utils import class_weight\n",
    "class_weights_es = class_weight.compute_class_weight('balanced',\n",
    "                                                np.unique(array(y_train_label_es)),\n",
    "                                                 y_train_es)"
   ]
  },
  {
   "cell_type": "code",
   "execution_count": 77,
   "metadata": {},
   "outputs": [],
   "source": [
    "del model_es, hist_es"
   ]
  },
  {
   "cell_type": "code",
   "execution_count": 26,
   "metadata": {},
   "outputs": [
    {
     "name": "stdout",
     "output_type": "stream",
     "text": [
      "_________________________________________________________________\n",
      "Layer (type)                 Output Shape              Param #   \n",
      "=================================================================\n",
      "input_2 (InputLayer)         (None, 38)                0         \n",
      "_________________________________________________________________\n",
      "embedding_2 (Embedding)      (None, 38, 300)           2098500   \n",
      "_________________________________________________________________\n",
      "conv1d_2 (Conv1D)            (None, 35, 100)           120100    \n",
      "_________________________________________________________________\n",
      "global_max_pooling1d_2 (Glob (None, 100)               0         \n",
      "_________________________________________________________________\n",
      "dropout_2 (Dropout)          (None, 100)               0         \n",
      "_________________________________________________________________\n",
      "dense_3 (Dense)              (None, 10)                1010      \n",
      "_________________________________________________________________\n",
      "dense_4 (Dense)              (None, 2)                 22        \n",
      "=================================================================\n",
      "Total params: 2,219,632\n",
      "Trainable params: 2,219,632\n",
      "Non-trainable params: 0\n",
      "_________________________________________________________________\n",
      "None\n",
      "Train on 1920 samples, validate on 480 samples\n",
      "Epoch 1/6\n",
      "1920/1920 [==============================] - 1s 575us/step - loss: 0.5986 - acc: 0.6604 - val_loss: 0.6458 - val_acc: 0.5896\n",
      "Epoch 2/6\n",
      "1920/1920 [==============================] - 0s 184us/step - loss: 0.4807 - acc: 0.7922 - val_loss: 0.6941 - val_acc: 0.5687\n",
      "Epoch 3/6\n",
      "1920/1920 [==============================] - 0s 179us/step - loss: 0.3320 - acc: 0.8625 - val_loss: 0.7125 - val_acc: 0.5604\n",
      "Epoch 4/6\n",
      "1920/1920 [==============================] - 0s 201us/step - loss: 0.1778 - acc: 0.9510 - val_loss: 0.7589 - val_acc: 0.6042\n",
      "Epoch 5/6\n",
      "1920/1920 [==============================] - 0s 183us/step - loss: 0.0750 - acc: 0.9833 - val_loss: 0.8606 - val_acc: 0.5833\n",
      "Epoch 6/6\n",
      "1920/1920 [==============================] - 0s 193us/step - loss: 0.0347 - acc: 0.9917 - val_loss: 0.9856 - val_acc: 0.5792\n"
     ]
    },
    {
     "data": {
      "image/png": "[encoded data removed]",
      "text/plain": [
       "<Figure size 864x360 with 2 Axes>"
      ]
     },
     "metadata": {},
     "output_type": "display_data"
    }
   ],
   "source": [
    "model_es = define_model_es1(length_es, vocab_size_es, 17) \n",
    "# fit model\n",
    "\n",
    "\n",
    "hist_es = model_es.fit(trainX_es, array(y_train_label_es), epochs = 6, batch_size=50, validation_split=.2, class_weight = class_weights_es)\n",
    "\n",
    "def plot_history(history):\n",
    "        acc = history.history[\"acc\"]\n",
    "        val_acc = history.history[\"val_acc\"]\n",
    "        loss = history.history[\"loss\"]\n",
    "        val_loss = history.history[\"val_loss\"]\n",
    "        x = range(1, len(acc) + 1)\n",
    "\n",
    "        plt.figure(figsize=(12, 5))\n",
    "        plt.subplot(1, 2, 1)\n",
    "        plt.plot(x, acc, \"b\", label=\"Training acc\")\n",
    "        plt.plot(x, val_acc, \"r\", label=\"Validation acc\")\n",
    "        plt.title(\"Training and validation accuracy\")\n",
    "        plt.legend()\n",
    "        plt.subplot(1, 2, 2)\n",
    "        plt.plot(x, loss, \"b\", label=\"Training loss\")\n",
    "        plt.plot(x, val_loss, \"r\", label=\"Validation loss\")\n",
    "        plt.title(\"Training and validation loss\")\n",
    "        plt.legend()\n",
    "    \n",
    "plot_history(history=hist_es)"
   ]
  },
  {
   "cell_type": "code",
   "execution_count": 27,
   "metadata": {},
   "outputs": [
    {
     "name": "stdout",
     "output_type": "stream",
     "text": [
      "[[337  63]\n",
      " [109  91]]\n",
      "F1 test: 0.6554073005569581\n"
     ]
    },
    {
     "data": {
      "image/png": "[encoded data removed]",
      "text/plain": [
       "<Figure size 792x648 with 2 Axes>"
      ]
     },
     "metadata": {
      "needs_background": "light"
     },
     "output_type": "display_data"
    }
   ],
   "source": [
    "##########################\n",
    "# Tabla de confusión\n",
    "##########################\n",
    "from sklearn.metrics import confusion_matrix, precision_score, recall_score \n",
    "from sklearn.metrics import f1_score, cohen_kappa_score\n",
    "import seaborn as sns \n",
    "\n",
    "y_predict_es = model_es.predict(testX_es)\n",
    "\n",
    "test_true_labels_es      = np.argmax(y_test_label_es, axis=1)\n",
    "test_predicted_labels_es = np.argmax(y_predict_es,axis=1)\n",
    "\n",
    "\n",
    "%matplotlib inline\n",
    "C = confusion_matrix(test_true_labels_es, test_predicted_labels_es)\n",
    "print(C)\n",
    "\n",
    "##########################\n",
    "# F1\n",
    "##########################\n",
    "print('F1 test:', f1_score(test_true_labels_es, test_predicted_labels_es,  average='macro'))\n",
    "\n",
    "\n",
    "f, ax = plt.subplots(figsize=(11, 9))\n",
    "sns.set()\n",
    "cmap = sns.diverging_palette(220, 10, as_cmap=True)\n",
    "ax = sns.heatmap(C, cmap=cmap, square=True,\n",
    "                 annot=True, fmt='d', linewidths=.5)\n",
    "ax.set_title('Matriz de Confusión')\n",
    "plt.show()\n",
    "\n",
    "# F1 test:0.6554073005569581 seed 17 epoca 6"
   ]
  },
  {
   "cell_type": "code",
   "execution_count": 28,
   "metadata": {},
   "outputs": [],
   "source": [
    "from keras.models import load_model\n",
    "DATA_PATH='C:\\\\Users\\\\h_air\\\\Documents\\\\Diplomado Deep Learning\\\\Estancia\\\\Datos\\\\Datos\\\\'\n",
    "model_es.save(DATA_PATH+'Cnn_es_basico.h5')\n",
    "\n",
    "#model_es = load_model(DATA_PATH+'Cnn_es_basico.h5') # Cargar"
   ]
  },
  {
   "cell_type": "code",
   "execution_count": 29,
   "metadata": {},
   "outputs": [],
   "source": [
    "from keras.utils.vis_utils import plot_model\n",
    "plot_model(model_es, show_shapes=True, to_file=DATA_PATH+'Cnn_es_basico.png')"
   ]
  },
  {
   "cell_type": "markdown",
   "metadata": {},
   "source": [
    "### Clasificación Cuba"
   ]
  },
  {
   "cell_type": "code",
   "execution_count": 30,
   "metadata": {},
   "outputs": [],
   "source": [
    "# one hot representación targets\n",
    "from keras.utils import to_categorical\n",
    "y_train_label_cu = to_categorical(y_train_cu)\n",
    "y_test_label_cu  = to_categorical(y_test_cu)"
   ]
  },
  {
   "cell_type": "code",
   "execution_count": 31,
   "metadata": {},
   "outputs": [],
   "source": [
    "# define the model\n",
    "def define_model_cu1(length, vocab_size, n ):\n",
    "\t# channel 1\n",
    "\tnp.random.seed(n)\n",
    "\tinputs1 = Input(shape=(length,))\n",
    "\tembedding1 = Embedding(vocab_size, 300)(inputs1)\n",
    "\tconv1 = Conv1D(filters=100, kernel_size=4, activation='relu')(embedding1)\n",
    "\tpool1 = GlobalMaxPooling1D()(conv1)\n",
    "\tdrop1 = Dropout(0.5)(pool1) \n",
    "\t# interpretation\n",
    "\tdense1 = Dense(10, activation='relu')(drop1)\n",
    "\toutputs = Dense(2, activation='sigmoid')(dense1)\n",
    "\tmodel = Model(inputs1, outputs=outputs)\n",
    "\t# compile\n",
    "\tmodel.compile(loss='binary_crossentropy', optimizer='adam', metrics=['accuracy'])\n",
    "\t# summarize\n",
    "\tprint(model.summary())\n",
    "\t\n",
    "\t\n",
    "\treturn model"
   ]
  },
  {
   "cell_type": "code",
   "execution_count": 32,
   "metadata": {},
   "outputs": [],
   "source": [
    "from sklearn.utils import class_weight\n",
    "class_weights_cu = class_weight.compute_class_weight('balanced',\n",
    "                                                np.unique(array(y_train_label_cu)),\n",
    "                                                 y_train_cu)"
   ]
  },
  {
   "cell_type": "code",
   "execution_count": 32,
   "metadata": {},
   "outputs": [],
   "source": [
    "del model_cu, hist_cu"
   ]
  },
  {
   "cell_type": "code",
   "execution_count": 33,
   "metadata": {},
   "outputs": [
    {
     "name": "stdout",
     "output_type": "stream",
     "text": [
      "_________________________________________________________________\n",
      "Layer (type)                 Output Shape              Param #   \n",
      "=================================================================\n",
      "input_3 (InputLayer)         (None, 41)                0         \n",
      "_________________________________________________________________\n",
      "embedding_3 (Embedding)      (None, 41, 300)           2791200   \n",
      "_________________________________________________________________\n",
      "conv1d_3 (Conv1D)            (None, 38, 100)           120100    \n",
      "_________________________________________________________________\n",
      "global_max_pooling1d_3 (Glob (None, 100)               0         \n",
      "_________________________________________________________________\n",
      "dropout_3 (Dropout)          (None, 100)               0         \n",
      "_________________________________________________________________\n",
      "dense_5 (Dense)              (None, 10)                1010      \n",
      "_________________________________________________________________\n",
      "dense_6 (Dense)              (None, 2)                 22        \n",
      "=================================================================\n",
      "Total params: 2,912,332\n",
      "Trainable params: 2,912,332\n",
      "Non-trainable params: 0\n",
      "_________________________________________________________________\n",
      "None\n",
      "Train on 1920 samples, validate on 480 samples\n",
      "Epoch 1/5\n",
      "1920/1920 [==============================] - 1s 650us/step - loss: 0.6586 - acc: 0.6237 - val_loss: 0.7202 - val_acc: 0.4521\n",
      "Epoch 2/5\n",
      "1920/1920 [==============================] - 0s 224us/step - loss: 0.5943 - acc: 0.6813 - val_loss: 1.3112 - val_acc: 0.4500\n",
      "Epoch 3/5\n",
      "1920/1920 [==============================] - 0s 221us/step - loss: 0.4837 - acc: 0.7750 - val_loss: 2.2516 - val_acc: 0.4312\n",
      "Epoch 4/5\n",
      "1920/1920 [==============================] - 0s 207us/step - loss: 0.2625 - acc: 0.9372 - val_loss: 3.7422 - val_acc: 0.3802\n",
      "Epoch 5/5\n",
      "1920/1920 [==============================] - 0s 215us/step - loss: 0.0796 - acc: 0.9849 - val_loss: 4.8326 - val_acc: 0.3427\n"
     ]
    },
    {
     "data": {
      "image/png": "[encoded data removed]",
      "text/plain": [
       "<Figure size 864x360 with 2 Axes>"
      ]
     },
     "metadata": {},
     "output_type": "display_data"
    }
   ],
   "source": [
    "model_cu = define_model_cu1(length_cu, vocab_size_cu, 17) \n",
    "# fit model\n",
    "\n",
    "\n",
    "hist_cu = model_cu.fit(trainX_cu, array(y_train_label_cu), epochs=5, batch_size=50, validation_split=.2, class_weight = class_weights_cu)\n",
    "\n",
    "def plot_history(history):\n",
    "        acc = history.history[\"acc\"]\n",
    "        val_acc = history.history[\"val_acc\"]\n",
    "        loss = history.history[\"loss\"]\n",
    "        val_loss = history.history[\"val_loss\"]\n",
    "        x = range(1, len(acc) + 1)\n",
    "\n",
    "        plt.figure(figsize=(12, 5))\n",
    "        plt.subplot(1, 2, 1)\n",
    "        plt.plot(x, acc, \"b\", label=\"Training acc\")\n",
    "        plt.plot(x, val_acc, \"r\", label=\"Validation acc\")\n",
    "        plt.title(\"Training and validation accuracy\")\n",
    "        plt.legend()\n",
    "        plt.subplot(1, 2, 2)\n",
    "        plt.plot(x, loss, \"b\", label=\"Training loss\")\n",
    "        plt.plot(x, val_loss, \"r\", label=\"Validation loss\")\n",
    "        plt.title(\"Training and validation loss\")\n",
    "        plt.legend()\n",
    "    \n",
    "plot_history(history=hist_cu)"
   ]
  },
  {
   "cell_type": "code",
   "execution_count": 34,
   "metadata": {},
   "outputs": [
    {
     "name": "stdout",
     "output_type": "stream",
     "text": [
      "[[281 119]\n",
      " [119  81]]\n",
      "F1 test: 0.55375\n"
     ]
    },
    {
     "data": {
      "image/png": "[encoded data removed]",
      "text/plain": [
       "<Figure size 792x648 with 2 Axes>"
      ]
     },
     "metadata": {
      "needs_background": "light"
     },
     "output_type": "display_data"
    }
   ],
   "source": [
    "##########################\n",
    "# Tabla de confusión\n",
    "##########################\n",
    "from sklearn.metrics import confusion_matrix, precision_score, recall_score \n",
    "from sklearn.metrics import f1_score, cohen_kappa_score\n",
    "import seaborn as sns \n",
    "\n",
    "y_predict_cu = model_cu.predict(testX_cu)\n",
    "\n",
    "test_true_labels_cu      = np.argmax(y_test_label_cu, axis=1)\n",
    "test_predicted_labels_cu = np.argmax(y_predict_cu,axis=1)\n",
    "\n",
    "\n",
    "%matplotlib inline\n",
    "C = confusion_matrix(test_true_labels_cu, test_predicted_labels_cu)\n",
    "print(C)\n",
    "\n",
    "##########################\n",
    "# F1\n",
    "##########################\n",
    "print('F1 test:', f1_score(test_true_labels_cu, test_predicted_labels_cu,  average='macro'))\n",
    "\n",
    "\n",
    "f, ax = plt.subplots(figsize=(11, 9))\n",
    "sns.set()\n",
    "cmap = sns.diverging_palette(220, 10, as_cmap=True)\n",
    "ax = sns.heatmap(C, cmap=cmap, square=True,\n",
    "                 annot=True, fmt='d', linewidths=.5)\n",
    "ax.set_title('Matriz de Confusión')\n",
    "\n",
    "\n",
    "plt.show()\n",
    "\n",
    "# F1 test 0.55375 seed 17 epoca 5"
   ]
  },
  {
   "cell_type": "code",
   "execution_count": 35,
   "metadata": {},
   "outputs": [],
   "source": [
    "from keras.models import load_model\n",
    "DATA_PATH='C:\\\\Users\\\\h_air\\\\Documents\\\\Diplomado Deep Learning\\\\Estancia\\\\Datos\\\\Datos\\\\'\n",
    "model_cu.save(DATA_PATH+'Cnn_cu_basico.h5')\n",
    "\n",
    "#model_cu = load_model(DATA_PATH+'Cnn_cu_basico.h5') # Cargar"
   ]
  },
  {
   "cell_type": "code",
   "execution_count": 36,
   "metadata": {},
   "outputs": [],
   "source": [
    "from keras.utils.vis_utils import plot_model\n",
    "plot_model(model_cu, show_shapes=True, to_file=DATA_PATH+'Cnn_cu_basico.png')"
   ]
  },
  {
   "cell_type": "markdown",
   "metadata": {},
   "source": [
    " \n",
    " "
   ]
  },
  {
   "cell_type": "markdown",
   "metadata": {},
   "source": [
    " "
   ]
  },
  {
   "cell_type": "markdown",
   "metadata": {},
   "source": [
    "# Clasificador LSTM"
   ]
  },
  {
   "cell_type": "markdown",
   "metadata": {},
   "source": [
    " "
   ]
  },
  {
   "cell_type": "markdown",
   "metadata": {},
   "source": [
    " ### México"
   ]
  },
  {
   "cell_type": "code",
   "execution_count": 40,
   "metadata": {},
   "outputs": [
    {
     "name": "stdout",
     "output_type": "stream",
     "text": [
      "_________________________________________________________________\n",
      "Layer (type)                 Output Shape              Param #   \n",
      "=================================================================\n",
      "inputs (InputLayer)          (None, 36)                0         \n",
      "_________________________________________________________________\n",
      "embedding_6 (Embedding)      (None, 36, 300)           2484300   \n",
      "_________________________________________________________________\n",
      "lstm_6 (LSTM)                (None, 64)                93440     \n",
      "_________________________________________________________________\n",
      "dense_11 (Dense)             (None, 256)               16640     \n",
      "_________________________________________________________________\n",
      "dropout_6 (Dropout)          (None, 256)               0         \n",
      "_________________________________________________________________\n",
      "dense_12 (Dense)             (None, 2)                 514       \n",
      "=================================================================\n",
      "Total params: 2,594,894\n",
      "Trainable params: 2,594,894\n",
      "Non-trainable params: 0\n",
      "_________________________________________________________________\n",
      "None\n"
     ]
    }
   ],
   "source": [
    "\n",
    "np.random.seed(50)\n",
    "inputs = Input(name='inputs',shape=[length_mx])\n",
    "np.random.seed(50)\n",
    "layer = Embedding(vocab_size_mx,300, input_length=length_mx)(inputs)\n",
    "layer = LSTM(64,  return_sequences=False)(layer)\n",
    "layer = Dense(256, activation= 'relu')(layer)\n",
    "layer = Dropout(0.5)(layer)\n",
    "layer = Dense(2, activation= 'softmax')(layer)\n",
    "model_lstm_mx = Model(inputs=inputs,outputs=layer)\n",
    "    model_lstm_mx.compile(loss='binary_crossentropy', optimizer='adam', metrics=['accuracy'])\n",
    "print(model_lstm_mx.summary())\n",
    "\n"
   ]
  },
  {
   "cell_type": "code",
   "execution_count": 39,
   "metadata": {},
   "outputs": [],
   "source": [
    "del model_lstm_mx, history_lstm_mx"
   ]
  },
  {
   "cell_type": "code",
   "execution_count": 41,
   "metadata": {},
   "outputs": [
    {
     "name": "stdout",
     "output_type": "stream",
     "text": [
      "Train on 1920 samples, validate on 480 samples\n",
      "Epoch 1/5\n",
      "1920/1920 [==============================] - 6s 3ms/step - loss: 0.6733 - acc: 0.6031 - val_loss: 0.5866 - val_acc: 0.8854\n",
      "Epoch 2/5\n",
      "1920/1920 [==============================] - 4s 2ms/step - loss: 0.6669 - acc: 0.6120 - val_loss: 0.5837 - val_acc: 0.8854\n",
      "Epoch 3/5\n",
      "1920/1920 [==============================] - 4s 2ms/step - loss: 0.6472 - acc: 0.6047 - val_loss: 0.5555 - val_acc: 0.5667\n",
      "Epoch 4/5\n",
      "1920/1920 [==============================] - 4s 2ms/step - loss: 0.4611 - acc: 0.7677 - val_loss: 0.6095 - val_acc: 0.6875\n",
      "Epoch 5/5\n",
      "1920/1920 [==============================] - 4s 2ms/step - loss: 0.2790 - acc: 0.8880 - val_loss: 0.9109 - val_acc: 0.6958\n"
     ]
    }
   ],
   "source": [
    "\n",
    "from sklearn.utils import class_weight\n",
    "class_weights_mx = class_weight.compute_class_weight('balanced',\n",
    "                                                np.unique(array(y_train_label_mx)),\n",
    "                                                 y_train)\n",
    "\n",
    "\n",
    "history_lstm_mx = model_lstm_mx.fit(trainX_mx, y_train_label_mx,batch_size=50,epochs=5, validation_split=0.2, class_weight = class_weights_mx)\n",
    "\n",
    "\n"
   ]
  },
  {
   "cell_type": "code",
   "execution_count": 47,
   "metadata": {},
   "outputs": [
    {
     "data": {
      "image/png": "[encoded data removed]",
      "text/plain": [
       "<Figure size 864x360 with 2 Axes>"
      ]
     },
     "metadata": {},
     "output_type": "display_data"
    }
   ],
   "source": [
    "def plot_history(history):\n",
    "        acc = history.history[\"acc\"]\n",
    "        val_acc = history.history[\"val_acc\"]\n",
    "        loss = history.history[\"loss\"]\n",
    "        val_loss = history.history[\"val_loss\"]\n",
    "        x = range(1, len(acc) + 1)\n",
    "\n",
    "        plt.figure(figsize=(12, 5))\n",
    "        plt.subplot(1, 2, 1)\n",
    "        plt.plot(x, acc, \"bo\", label=\"Training acc\")\n",
    "        plt.plot(x, val_acc, \"b\", label=\"Validation acc\")\n",
    "        plt.title(\"Training and validation accuracy\")\n",
    "        plt.legend()\n",
    "        plt.subplot(1, 2, 2)\n",
    "        plt.plot(x, loss, \"bo\", label=\"Training loss\")\n",
    "        plt.plot(x, val_loss, \"b\", label=\"Validation loss\")\n",
    "        plt.title(\"Training and validation loss\")\n",
    "        plt.legend()\n",
    "    \n",
    "plot_history(history=history_lstm_mx)\n",
    "\n"
   ]
  },
  {
   "cell_type": "code",
   "execution_count": 38,
   "metadata": {},
   "outputs": [
    {
     "name": "stdout",
     "output_type": "stream",
     "text": [
      "[[294 107]\n",
      " [ 84 115]]\n",
      "F1 test: 0.6505660768571682\n"
     ]
    },
    {
     "data": {
      "image/png": "[encoded data removed]",
      "text/plain": [
       "<Figure size 792x648 with 2 Axes>"
      ]
     },
     "metadata": {
      "needs_background": "light"
     },
     "output_type": "display_data"
    }
   ],
   "source": [
    "##########################\n",
    "# Tabla de confusión\n",
    "##########################\n",
    "from sklearn.metrics import confusion_matrix, precision_score, recall_score \n",
    "from sklearn.metrics import f1_score, cohen_kappa_score\n",
    "import seaborn as sns \n",
    "\n",
    "y_predict_mx = model_lstm_mx.predict(testX_mx)\n",
    "\n",
    "test_true_labels_mx_lstm      = np.argmax(y_test_label_mx, axis=1)\n",
    "test_predicted_labels_mx_lstm = np.argmax(y_predict_mx,axis=1)\n",
    "\n",
    "\n",
    "%matplotlib inline\n",
    "C = confusion_matrix(test_true_labels_mx_lstm, test_predicted_labels_mx_lstm)\n",
    "print(C)\n",
    "\n",
    "##########################\n",
    "# F1\n",
    "##########################\n",
    "print('F1 test:', f1_score(test_true_labels_mx_lstm, test_predicted_labels_mx_lstm,  average='macro'))\n",
    "\n",
    "\n",
    "f, ax = plt.subplots(figsize=(11, 9))\n",
    "sns.set()\n",
    "cmap = sns.diverging_palette(220, 10, as_cmap=True)\n",
    "ax = sns.heatmap(C, cmap=cmap, square=True,\n",
    "                 annot=True, fmt='d', linewidths=.5)\n",
    "ax.set_title('Matriz de Confusión')\n",
    "plt.show()\n",
    "\n",
    "#   0.6505660768571682"
   ]
  },
  {
   "cell_type": "code",
   "execution_count": 37,
   "metadata": {},
   "outputs": [],
   "source": [
    "from keras.models import load_model\n",
    "DATA_PATH='C:\\\\Users\\\\h_air\\\\Documents\\\\Diplomado Deep Learning\\\\Estancia\\\\Datos\\\\Datos\\\\'\n",
    "#model_lstm_mx.save(DATA_PATH+'LSTM_mx.h5')\n",
    "\n",
    "model_lstm_mx = load_model(DATA_PATH+'LSTM_mx.h5') # Cargar"
   ]
  },
  {
   "cell_type": "code",
   "execution_count": 44,
   "metadata": {},
   "outputs": [
    {
     "name": "stdout",
     "output_type": "stream",
     "text": [
      "Número de epocas 5\n"
     ]
    }
   ],
   "source": [
    "print(\"Número de epocas\", len(history_lstm_mx.epoch))"
   ]
  },
  {
   "cell_type": "code",
   "execution_count": 45,
   "metadata": {},
   "outputs": [],
   "source": [
    "from keras.utils.vis_utils import plot_model\n",
    "plot_model(model_lstm_mx, show_shapes=True, to_file=DATA_PATH+'LSTM_mx.png')"
   ]
  },
  {
   "cell_type": "markdown",
   "metadata": {},
   "source": [
    "### España"
   ]
  },
  {
   "cell_type": "code",
   "execution_count": 86,
   "metadata": {},
   "outputs": [
    {
     "name": "stdout",
     "output_type": "stream",
     "text": [
      "_________________________________________________________________\n",
      "Layer (type)                 Output Shape              Param #   \n",
      "=================================================================\n",
      "inputs (InputLayer)          (None, 38)                0         \n",
      "_________________________________________________________________\n",
      "embedding_14 (Embedding)     (None, 38, 300)           2098500   \n",
      "_________________________________________________________________\n",
      "lstm_14 (LSTM)               (None, 64)                93440     \n",
      "_________________________________________________________________\n",
      "dense_27 (Dense)             (None, 256)               16640     \n",
      "_________________________________________________________________\n",
      "dropout_14 (Dropout)         (None, 256)               0         \n",
      "_________________________________________________________________\n",
      "dense_28 (Dense)             (None, 2)                 514       \n",
      "=================================================================\n",
      "Total params: 2,209,094\n",
      "Trainable params: 2,209,094\n",
      "Non-trainable params: 0\n",
      "_________________________________________________________________\n",
      "None\n"
     ]
    }
   ],
   "source": [
    "\n",
    "np.random.seed(50)\n",
    "inputs = Input(name='inputs',shape=[length_es])\n",
    "np.random.seed(50)\n",
    "layer = Embedding(vocab_size_es,300, input_length=length_es)(inputs)\n",
    "layer = LSTM(64,  return_sequences=False)(layer)\n",
    "layer = Dense(256, activation= 'relu')(layer)\n",
    "layer = Dropout(0.5)(layer)\n",
    "layer = Dense(2, activation= 'softmax')(layer)\n",
    "model_lstm_es = Model(inputs=inputs,outputs=layer)\n",
    "model_lstm_es.compile(loss='binary_crossentropy', optimizer='adam', metrics=['accuracy'])\n",
    "print(model_lstm_es.summary())\n"
   ]
  },
  {
   "cell_type": "code",
   "execution_count": 85,
   "metadata": {},
   "outputs": [],
   "source": [
    "del model_lstm_es, history_lstm_es"
   ]
  },
  {
   "cell_type": "code",
   "execution_count": 87,
   "metadata": {},
   "outputs": [
    {
     "name": "stdout",
     "output_type": "stream",
     "text": [
      "Train on 1920 samples, validate on 480 samples\n",
      "Epoch 1/7\n",
      "1920/1920 [==============================] - 8s 4ms/step - loss: 0.6444 - acc: 0.6615 - val_loss: 0.6411 - val_acc: 0.6604\n",
      "Epoch 2/7\n",
      "1920/1920 [==============================] - 4s 2ms/step - loss: 0.6366 - acc: 0.6667 - val_loss: 0.6399 - val_acc: 0.6604\n",
      "Epoch 3/7\n",
      "1920/1920 [==============================] - 4s 2ms/step - loss: 0.5328 - acc: 0.7484 - val_loss: 0.8674 - val_acc: 0.5250\n",
      "Epoch 4/7\n",
      "1920/1920 [==============================] - 4s 2ms/step - loss: 0.3551 - acc: 0.8797 - val_loss: 0.8583 - val_acc: 0.5250\n",
      "Epoch 5/7\n",
      "1920/1920 [==============================] - 4s 2ms/step - loss: 0.2459 - acc: 0.9234 - val_loss: 1.0444 - val_acc: 0.5438\n",
      "Epoch 6/7\n",
      "1920/1920 [==============================] - 4s 2ms/step - loss: 0.1315 - acc: 0.9630 - val_loss: 0.9176 - val_acc: 0.5979\n",
      "Epoch 7/7\n",
      "1920/1920 [==============================] - 4s 2ms/step - loss: 0.0728 - acc: 0.9839 - val_loss: 1.2350 - val_acc: 0.6250\n"
     ]
    }
   ],
   "source": [
    "from sklearn.utils import class_weight\n",
    "class_weights_es = class_weight.compute_class_weight('balanced',\n",
    "                                                np.unique(array(y_train_label_es)),\n",
    "                                                 y_train_es)\n",
    "\n",
    "\n",
    "history_lstm_es = model_lstm_es.fit(trainX_es, y_train_label_es,batch_size=50,epochs=7, validation_split=0.2, \n",
    "                                    class_weight = class_weights_es)\n",
    "\n",
    "\n"
   ]
  },
  {
   "cell_type": "code",
   "execution_count": 88,
   "metadata": {},
   "outputs": [
    {
     "data": {
      "image/png": "[encoded data removed]",
      "text/plain": [
       "<Figure size 864x360 with 2 Axes>"
      ]
     },
     "metadata": {},
     "output_type": "display_data"
    }
   ],
   "source": [
    "def plot_history(history):\n",
    "        acc = history.history[\"acc\"]\n",
    "        val_acc = history.history[\"val_acc\"]\n",
    "        loss = history.history[\"loss\"]\n",
    "        val_loss = history.history[\"val_loss\"]\n",
    "        x = range(1, len(acc) + 1)\n",
    "\n",
    "        plt.figure(figsize=(12, 5))\n",
    "        plt.subplot(1, 2, 1)\n",
    "        plt.plot(x, acc, \"bo\", label=\"Training acc\")\n",
    "        plt.plot(x, val_acc, \"b\", label=\"Validation acc\")\n",
    "        plt.title(\"Training and validation accuracy\")\n",
    "        plt.legend()\n",
    "        plt.subplot(1, 2, 2)\n",
    "        plt.plot(x, loss, \"bo\", label=\"Training loss\")\n",
    "        plt.plot(x, val_loss, \"b\", label=\"Validation loss\")\n",
    "        plt.title(\"Training and validation loss\")\n",
    "        plt.legend()\n",
    "    \n",
    "plot_history(history=history_lstm_es)\n"
   ]
  },
  {
   "cell_type": "code",
   "execution_count": 40,
   "metadata": {},
   "outputs": [
    {
     "name": "stdout",
     "output_type": "stream",
     "text": [
      "[[348  52]\n",
      " [113  87]]\n",
      "F1 test: 0.6608183528105824\n"
     ]
    },
    {
     "data": {
      "image/png": "[encoded data removed]",
      "text/plain": [
       "<Figure size 792x648 with 2 Axes>"
      ]
     },
     "metadata": {
      "needs_background": "light"
     },
     "output_type": "display_data"
    }
   ],
   "source": [
    "##########################\n",
    "# Tabla de confusión\n",
    "##########################\n",
    "from sklearn.metrics import confusion_matrix, precision_score, recall_score \n",
    "from sklearn.metrics import f1_score, cohen_kappa_score\n",
    "import seaborn as sns \n",
    "\n",
    "y_predict_es = model_lstm_es.predict(testX_es)\n",
    "\n",
    "test_true_labels_es_lstm      = np.argmax(y_test_label_es, axis=1)\n",
    "test_predicted_labels_es_lstm = np.argmax(y_predict_es,axis=1)\n",
    "\n",
    "\n",
    "%matplotlib inline\n",
    "C = confusion_matrix(test_true_labels_es_lstm, test_predicted_labels_es_lstm)\n",
    "print(C)\n",
    "\n",
    "##########################\n",
    "# F1\n",
    "##########################\n",
    "print('F1 test:', f1_score(test_true_labels_es_lstm, test_predicted_labels_es_lstm,  average='macro'))\n",
    "\n",
    "\n",
    "f, ax = plt.subplots(figsize=(11, 9))\n",
    "sns.set()\n",
    "cmap = sns.diverging_palette(220, 10, as_cmap=True)\n",
    "ax = sns.heatmap(C, cmap=cmap, square=True,\n",
    "                 annot=True, fmt='d', linewidths=.5)\n",
    "ax.set_title('Matriz de Confusión')\n",
    "plt.show()\n",
    "\n",
    "# 0.6608183528105824 # 7 epocas"
   ]
  },
  {
   "cell_type": "code",
   "execution_count": 39,
   "metadata": {},
   "outputs": [],
   "source": [
    "from keras.models import load_model\n",
    "DATA_PATH='C:\\\\Users\\\\h_air\\\\Documents\\\\Diplomado Deep Learning\\\\Estancia\\\\Datos\\\\Datos\\\\'\n",
    "#model_lstm_es.save(DATA_PATH+'LSTM_es.h5')\n",
    "\n",
    "model_lstm_es = load_model(DATA_PATH+'LSTM_es.h5') # Cargar"
   ]
  },
  {
   "cell_type": "code",
   "execution_count": 91,
   "metadata": {},
   "outputs": [
    {
     "name": "stdout",
     "output_type": "stream",
     "text": [
      "Número de epocas 7\n"
     ]
    }
   ],
   "source": [
    "print(\"Número de epocas\", len(history_lstm_es.epoch))"
   ]
  },
  {
   "cell_type": "code",
   "execution_count": 92,
   "metadata": {},
   "outputs": [],
   "source": [
    "from keras.utils.vis_utils import plot_model\n",
    "plot_model(model_lstm_es, show_shapes=True, to_file=DATA_PATH+'LSTM_es.png')"
   ]
  },
  {
   "cell_type": "markdown",
   "metadata": {},
   "source": [
    "### Cuba"
   ]
  },
  {
   "cell_type": "code",
   "execution_count": 123,
   "metadata": {},
   "outputs": [
    {
     "name": "stdout",
     "output_type": "stream",
     "text": [
      "_________________________________________________________________\n",
      "Layer (type)                 Output Shape              Param #   \n",
      "=================================================================\n",
      "inputs (InputLayer)          (None, 41)                0         \n",
      "_________________________________________________________________\n",
      "embedding_20 (Embedding)     (None, 41, 300)           2791200   \n",
      "_________________________________________________________________\n",
      "lstm_20 (LSTM)               (None, 64)                93440     \n",
      "_________________________________________________________________\n",
      "dense_39 (Dense)             (None, 256)               16640     \n",
      "_________________________________________________________________\n",
      "dropout_20 (Dropout)         (None, 256)               0         \n",
      "_________________________________________________________________\n",
      "dense_40 (Dense)             (None, 2)                 514       \n",
      "=================================================================\n",
      "Total params: 2,901,794\n",
      "Trainable params: 2,901,794\n",
      "Non-trainable params: 0\n",
      "_________________________________________________________________\n",
      "None\n"
     ]
    }
   ],
   "source": [
    "\n",
    "np.random.seed(50)\n",
    "inputs = Input(name='inputs',shape=[length_cu])\n",
    "np.random.seed(50)\n",
    "layer = Embedding(vocab_size_cu,300, input_length=length_cu)(inputs)\n",
    "layer = LSTM(64,  return_sequences=False)(layer)\n",
    "layer = Dense(256, activation= 'relu')(layer)\n",
    "layer = Dropout(0.5)(layer)\n",
    "layer = Dense(2, activation= 'softmax')(layer)\n",
    "model_lstm_cu = Model(inputs=inputs,outputs=layer)\n",
    "model_lstm_cu.compile(loss='binary_crossentropy', optimizer='adam', metrics=['accuracy'])\n",
    "print(model_lstm_cu.summary())\n"
   ]
  },
  {
   "cell_type": "code",
   "execution_count": 122,
   "metadata": {},
   "outputs": [],
   "source": [
    "del model_lstm_cu, history_lstm_cu"
   ]
  },
  {
   "cell_type": "code",
   "execution_count": 124,
   "metadata": {},
   "outputs": [
    {
     "name": "stdout",
     "output_type": "stream",
     "text": [
      "Train on 1920 samples, validate on 480 samples\n",
      "Epoch 1/6\n",
      "1920/1920 [==============================] - 6s 3ms/step - loss: 0.6603 - acc: 0.6354 - val_loss: 0.5802 - val_acc: 0.7583\n",
      "Epoch 2/6\n",
      "1920/1920 [==============================] - 3s 1ms/step - loss: 0.6531 - acc: 0.6438 - val_loss: 0.5669 - val_acc: 0.7583\n",
      "Epoch 3/6\n",
      "1920/1920 [==============================] - 3s 1ms/step - loss: 0.6277 - acc: 0.6677 - val_loss: 1.3042 - val_acc: 0.4417\n",
      "Epoch 4/6\n",
      "1920/1920 [==============================] - 3s 1ms/step - loss: 0.3724 - acc: 0.8531 - val_loss: 2.6823 - val_acc: 0.3813\n",
      "Epoch 5/6\n",
      "1920/1920 [==============================] - 3s 1ms/step - loss: 0.1422 - acc: 0.9516 - val_loss: 3.9178 - val_acc: 0.3458\n",
      "Epoch 6/6\n",
      "1920/1920 [==============================] - 3s 1ms/step - loss: 0.0491 - acc: 0.9870 - val_loss: 3.2887 - val_acc: 0.3750\n"
     ]
    }
   ],
   "source": [
    "from sklearn.utils import class_weight\n",
    "class_weights_cu = class_weight.compute_class_weight('balanced',\n",
    "                                                np.unique(array(y_train_label_cu)),\n",
    "                                                 y_train_cu)\n",
    "\n",
    "\n",
    "history_lstm_cu = model_lstm_cu.fit(trainX_cu, y_train_label_cu,batch_size=50,epochs=6, validation_split=0.2, \n",
    "                                    class_weight = class_weights_cu)\n",
    "\n"
   ]
  },
  {
   "cell_type": "code",
   "execution_count": 125,
   "metadata": {},
   "outputs": [
    {
     "data": {
      "image/png": "[encoded data removed]",
      "text/plain": [
       "<Figure size 864x360 with 2 Axes>"
      ]
     },
     "metadata": {},
     "output_type": "display_data"
    }
   ],
   "source": [
    "def plot_history(history):\n",
    "        acc = history.history[\"acc\"]\n",
    "        val_acc = history.history[\"val_acc\"]\n",
    "        loss = history.history[\"loss\"]\n",
    "        val_loss = history.history[\"val_loss\"]\n",
    "        x = range(1, len(acc) + 1)\n",
    "\n",
    "        plt.figure(figsize=(12, 5))\n",
    "        plt.subplot(1, 2, 1)\n",
    "        plt.plot(x, acc, \"bo\", label=\"Training acc\")\n",
    "        plt.plot(x, val_acc, \"b\", label=\"Validation acc\")\n",
    "        plt.title(\"Training and validation accuracy\")\n",
    "        plt.legend()\n",
    "        plt.subplot(1, 2, 2)\n",
    "        plt.plot(x, loss, \"bo\", label=\"Training loss\")\n",
    "        plt.plot(x, val_loss, \"b\", label=\"Validation loss\")\n",
    "        plt.title(\"Training and validation loss\")\n",
    "        plt.legend()\n",
    "    \n",
    "plot_history(history=history_lstm_cu)"
   ]
  },
  {
   "cell_type": "code",
   "execution_count": 42,
   "metadata": {},
   "outputs": [
    {
     "name": "stdout",
     "output_type": "stream",
     "text": [
      "[[279 121]\n",
      " [114  86]]\n",
      "F1 test: 0.5631307106716943\n"
     ]
    },
    {
     "data": {
      "image/png": "[encoded data removed]",
      "text/plain": [
       "<Figure size 792x648 with 2 Axes>"
      ]
     },
     "metadata": {
      "needs_background": "light"
     },
     "output_type": "display_data"
    }
   ],
   "source": [
    "##########################\n",
    "# Tabla de confusión\n",
    "##########################\n",
    "from sklearn.metrics import confusion_matrix, precision_score, recall_score \n",
    "from sklearn.metrics import f1_score, cohen_kappa_score\n",
    "import seaborn as sns \n",
    "\n",
    "y_predict_cu = model_lstm_cu.predict(testX_cu)\n",
    "\n",
    "test_true_labels_cu_lstm      = np.argmax(y_test_label_cu, axis=1)\n",
    "test_predicted_labels_cu_lstm = np.argmax(y_predict_cu,axis=1)\n",
    "\n",
    "\n",
    "%matplotlib inline\n",
    "C = confusion_matrix(test_true_labels_cu_lstm, test_predicted_labels_cu_lstm)\n",
    "print(C)\n",
    "\n",
    "##########################\n",
    "# F1\n",
    "##########################\n",
    "print('F1 test:', f1_score(test_true_labels_cu_lstm, test_predicted_labels_cu_lstm,  average='macro'))\n",
    "\n",
    "\n",
    "f, ax = plt.subplots(figsize=(11, 9))\n",
    "sns.set()\n",
    "cmap = sns.diverging_palette(220, 10, as_cmap=True)\n",
    "ax = sns.heatmap(C, cmap=cmap, square=True,\n",
    "                 annot=True, fmt='d', linewidths=.5)\n",
    "ax.set_title('Matriz de Confusión')\n",
    "plt.show()\n",
    "\n",
    "#  0.5631307106716943  6 epocas"
   ]
  },
  {
   "cell_type": "code",
   "execution_count": 41,
   "metadata": {},
   "outputs": [],
   "source": [
    "from keras.models import load_model\n",
    "DATA_PATH='C:\\\\Users\\\\h_air\\\\Documents\\\\Diplomado Deep Learning\\\\Estancia\\\\Datos\\\\Datos\\\\'\n",
    "#model_lstm_cu.save(DATA_PATH+'LSTM_cu.h5')\n",
    "\n",
    "model_lstm_cu = load_model(DATA_PATH+'LSTM_cu.h5') # Cargar"
   ]
  },
  {
   "cell_type": "code",
   "execution_count": 128,
   "metadata": {},
   "outputs": [
    {
     "name": "stdout",
     "output_type": "stream",
     "text": [
      "Número de epocas 6\n"
     ]
    }
   ],
   "source": [
    "print(\"Número de epocas\", len(history_lstm_cu.epoch))"
   ]
  },
  {
   "cell_type": "code",
   "execution_count": 129,
   "metadata": {},
   "outputs": [],
   "source": [
    "from keras.utils.vis_utils import plot_model\n",
    "plot_model(model_lstm_cu, show_shapes=True, to_file=DATA_PATH+'LSTM_cu.png')"
   ]
  },
  {
   "cell_type": "code",
   "execution_count": null,
   "metadata": {},
   "outputs": [],
   "source": []
  },
  {
   "cell_type": "markdown",
   "metadata": {},
   "source": [
    "# Resultados"
   ]
  },
  {
   "cell_type": "code",
   "execution_count": 43,
   "metadata": {},
   "outputs": [
    {
     "data": {
      "text/html": [
       "<div>\n",
       "<style scoped>\n",
       "    .dataframe tbody tr th:only-of-type {\n",
       "        vertical-align: middle;\n",
       "    }\n",
       "\n",
       "    .dataframe tbody tr th {\n",
       "        vertical-align: top;\n",
       "    }\n",
       "\n",
       "    .dataframe thead th {\n",
       "        text-align: right;\n",
       "    }\n",
       "</style>\n",
       "<table border=\"1\" class=\"dataframe\">\n",
       "  <thead>\n",
       "    <tr style=\"text-align: right;\">\n",
       "      <th></th>\n",
       "      <th>País</th>\n",
       "      <th>CNN_chanel1</th>\n",
       "      <th>LSTM</th>\n",
       "    </tr>\n",
       "  </thead>\n",
       "  <tbody>\n",
       "    <tr>\n",
       "      <th>0</th>\n",
       "      <td>México</td>\n",
       "      <td>0.640547</td>\n",
       "      <td>0.650566</td>\n",
       "    </tr>\n",
       "    <tr>\n",
       "      <th>1</th>\n",
       "      <td>España</td>\n",
       "      <td>0.655407</td>\n",
       "      <td>0.660818</td>\n",
       "    </tr>\n",
       "    <tr>\n",
       "      <th>2</th>\n",
       "      <td>Cuba</td>\n",
       "      <td>0.553750</td>\n",
       "      <td>0.563131</td>\n",
       "    </tr>\n",
       "  </tbody>\n",
       "</table>\n",
       "</div>"
      ],
      "text/plain": [
       "     País  CNN_chanel1      LSTM\n",
       "0  México     0.640547  0.650566\n",
       "1  España     0.655407  0.660818\n",
       "2    Cuba     0.553750  0.563131"
      ]
     },
     "execution_count": 43,
     "metadata": {},
     "output_type": "execute_result"
    }
   ],
   "source": [
    "Tabla= {'País':['México', 'España', 'Cuba'],\n",
    "        'CNN_chanel1':[f1_score(test_true_labels_mx, test_predicted_labels_mx,  average='macro'), \n",
    "                    f1_score(test_true_labels_es, test_predicted_labels_es,  average='macro'), \n",
    "                      f1_score(test_true_labels_cu, test_predicted_labels_cu,  average='macro')],\n",
    "        'LSTM':[f1_score(test_true_labels_mx_lstm, test_predicted_labels_mx_lstm,  average='macro'), \n",
    "                    f1_score(test_true_labels_es_lstm, test_predicted_labels_es_lstm,  average='macro'), \n",
    "                      f1_score(test_true_labels_cu_lstm, test_predicted_labels_cu_lstm,  average='macro')]}\n",
    " \n",
    "# Create DataFrame\n",
    "Tabla = pd.DataFrame(Tabla)\n",
    "Tabla"
   ]
  },
  {
   "cell_type": "markdown",
   "metadata": {},
   "source": [
    "https://www.kaggle.com/kredy10/simple-lstm-for-text-classification"
   ]
  }
 ],
 "metadata": {
  "kernelspec": {
   "display_name": "Python 3",
   "language": "python",
   "name": "python3"
  },
  "language_info": {
   "codemirror_mode": {
    "name": "ipython",
    "version": 3
   },
   "file_extension": ".py",
   "mimetype": "text/x-python",
   "name": "python",
   "nbconvert_exporter": "python",
   "pygments_lexer": "ipython3",
   "version": "3.6.8"
  }
 },
 "nbformat": 4,
 "nbformat_minor": 2
}
